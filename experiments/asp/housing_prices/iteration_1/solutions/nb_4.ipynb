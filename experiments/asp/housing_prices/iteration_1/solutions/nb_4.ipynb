{
    "cells": [
        {
            "attachments": {},
            "cell_type": "markdown",
            "metadata": {},
            "source": [
                "![workflow graph](Figures/SolutionNo_4_length_4.png \"Workflow Graph\")"
            ]
        },
        {
            "cell_type": "code",
            "execution_count": null,
            "metadata": {},
            "outputs": [],
            "source": [
                "from pathlib import Path\n",
                "import sys\n",
                "\n",
                "import pandas as pd\n",
                "\n",
                "sys.path.append('/Users/stevep/Documents/code/APE_thesis/ape_asp')\n",
                "from wrapper_functions import *    "
            ]
        },
        {
            "attachments": {},
            "cell_type": "markdown",
            "metadata": {},
            "source": [
                "## Workflow Input Objects"
            ]
        },
        {
            "attachments": {},
            "cell_type": "markdown",
            "metadata": {},
            "source": [
                "### Table 1\n",
                "- id: `housing_train`\n",
                "- source: `/Users/stevep/Documents/code/APE_thesis/ape_asp/ape_use_cases/thesis_use_cases/house_prices/train.csv`\n",
                "- DataClass: `MixedDataFrame`\n",
                "- DataClass: `NoRelevance`    "
            ]
        },
        {
            "cell_type": "code",
            "execution_count": null,
            "metadata": {},
            "outputs": [],
            "source": [
                "housing_train = load_table_csv('/Users/stevep/Documents/code/APE_thesis/ape_asp/ape_use_cases/thesis_use_cases/house_prices/train.csv')"
            ]
        },
        {
            "attachments": {},
            "cell_type": "markdown",
            "metadata": {},
            "source": [
                "### Step 1: `describe`\n",
                "#### Notes\n",
                "Descriptive statistics for a `Series`, `DataFrame` or `DataFrame[Column]`.\n",
                "\n",
                "    Args:\n",
                "        data (pd.DataFrame | pd.Series): Some tabular data.\n",
                "        col (Optional[str], optional): Column of table. Defaults to `None`.\n",
                "\n",
                "    Returns:\n",
                "        pd.DataFrame | pd.Series: `Dataframe` if data is a `Series` or no column was given, else `Series`.\n",
                "    \n",
                "#### inputs:\n",
                "- 1\n",
                "\t- StatisticalRelevance: `NoRelevance`\n",
                "\t- APE_label: `housing_train`\n",
                "\t- DataClass: `MixedDataFrame`\n",
                "#### outputs:\n",
                "- 1\n",
                "\t- APE_label: `OverallQual`\n",
                "\t- StatisticalRelevance: `NoRelevance`\n",
                "\t- DataClass: `DescribeDataFrame`"
            ]
        },
        {
            "cell_type": "code",
            "execution_count": null,
            "metadata": {},
            "outputs": [],
            "source": [
                "describeDataFrame_1_1 = describe(data=housing_train)"
            ]
        },
        {
            "attachments": {},
            "cell_type": "markdown",
            "metadata": {},
            "source": [
                "### Step 2: `boxplot`\n",
                "#### Notes\n",
                "> kwarg `x` should be column with few features.\n",
                "    > kwarg `hue` should be column with few features.\n",
                "#### inputs:\n",
                "- 1\n",
                "\t- APE_label: `housing_train`\n",
                "\t- DataClass: `MixedDataFrame`\n",
                "\t- StatisticalRelevance: `NoRelevance`\n",
                "- 2\n",
                "\t- DataClass: `IntColumn`\n",
                "\t- APE_label: `GarageArea`\n",
                "\t- StatisticalRelevance: `IndependentVariable`\n",
                "- 3\n",
                "\t- APE_label: `SalePrice`\n",
                "\t- StatisticalRelevance: `DependentVariable`\n",
                "\t- DataClass: `IntColumn`\n",
                "- 4\n",
                "\t- DataClass: `StrColumn`\n",
                "\t- StatisticalRelevance: `IndependentVariable`\n",
                "\t- APE_label: `SaleCondition`\n",
                "#### outputs:\n",
                "- 1\n",
                "\t- APE_label: `OverallQual`\n",
                "\t- DataClass: `Figure`\n",
                "\t- StatisticalRelevance: `NoRelevance`\n",
                "- 2\n",
                "\t- APE_label: `OverallQual`\n",
                "\t- StatisticalRelevance: `NoRelevance`\n",
                "\t- DataClass: `Axes`"
            ]
        },
        {
            "cell_type": "code",
            "execution_count": null,
            "metadata": {},
            "outputs": [],
            "source": [
                "figure_2_1, axes_2_2 = boxplot(df=housing_train, y='GarageArea', x='SalePrice', hue='SaleCondition')"
            ]
        },
        {
            "attachments": {},
            "cell_type": "markdown",
            "metadata": {},
            "source": [
                "### Step 3: `kurt`\n",
                "#### Notes\n",
                "Kurtosis of numeric column or series.\n",
                "    \n",
                "#### inputs:\n",
                "- 1\n",
                "\t- DataClass: `MixedDataFrame`\n",
                "\t- StatisticalRelevance: `NoRelevance`\n",
                "\t- APE_label: `housing_train`\n",
                "- 2\n",
                "\t- APE_label: `SalePrice`\n",
                "\t- StatisticalRelevance: `DependentVariable`\n",
                "\t- DataClass: `IntColumn`\n",
                "#### outputs:\n",
                "- 1\n",
                "\t- DataClass: `Float`\n",
                "\t- APE_label: `OverallQual`\n",
                "\t- StatisticalRelevance: `NoRelevance`"
            ]
        },
        {
            "cell_type": "code",
            "execution_count": null,
            "metadata": {},
            "outputs": [],
            "source": [
                "float_3_1 = kurt(data=housing_train, col='SalePrice')"
            ]
        },
        {
            "attachments": {},
            "cell_type": "markdown",
            "metadata": {},
            "source": [
                "### Step 4: `skew`\n",
                "#### Notes\n",
                "Skew of numeric column or series.\n",
                "    \n",
                "#### inputs:\n",
                "- 1\n",
                "\t- APE_label: `housing_train`\n",
                "\t- StatisticalRelevance: `NoRelevance`\n",
                "\t- DataClass: `MixedDataFrame`\n",
                "- 2\n",
                "\t- APE_label: `SalePrice`\n",
                "\t- DataClass: `IntColumn`\n",
                "\t- StatisticalRelevance: `DependentVariable`\n",
                "#### outputs:\n",
                "- 1\n",
                "\t- DataClass: `Float`\n",
                "\t- APE_label: `SaleCondition`\n",
                "\t- StatisticalRelevance: `NoRelevance`"
            ]
        },
        {
            "cell_type": "code",
            "execution_count": null,
            "metadata": {},
            "outputs": [],
            "source": [
                "float_4_1 = skew(data=housing_train, col='SalePrice')"
            ]
        }
    ],
    "metadata": {
        "kernelspec": {
            "display_name": "APE",
            "language": "python",
            "name": "python3"
        },
        "language_info": {
            "codemirror_mode": {
                "name": "ipython",
                "version": 3
            },
            "file_extension": ".py",
            "mimetype": "text/x-python",
            "name": "python",
            "nbconvert_exporter": "python",
            "pygments_lexer": "ipython3",
            "version": "3.10.10"
        },
        "orig_nbformat": 4
    },
    "nbformat": 4,
    "nbformat_minor": 2
}