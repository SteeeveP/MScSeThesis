{
    "cells": [
        {
            "attachments": {},
            "cell_type": "markdown",
            "metadata": {},
            "source": [
                "![workflow graph](Figures/SolutionNo_5_length_3.png \"Workflow Graph\")"
            ]
        },
        {
            "cell_type": "code",
            "execution_count": null,
            "metadata": {},
            "outputs": [],
            "source": [
                "from pathlib import Path\n",
                "import sys\n",
                "\n",
                "import pandas as pd\n",
                "\n",
                "sys.path.append('/Users/stevep/Documents/code/APE_thesis/ape_asp')\n",
                "from wrapper_functions import *    "
            ]
        },
        {
            "attachments": {},
            "cell_type": "markdown",
            "metadata": {},
            "source": [
                "## Workflow Input Objects"
            ]
        },
        {
            "attachments": {},
            "cell_type": "markdown",
            "metadata": {},
            "source": [
                "### Table 1\n",
                "- id: `housing_train`\n",
                "- source: `/Users/stevep/Documents/code/APE_thesis/ape_asp/ape_use_cases/thesis_use_cases/house_prices/train.csv`\n",
                "- DataClass: `MixedDataFrame`\n",
                "- DataClass: `NoRelevance`    "
            ]
        },
        {
            "cell_type": "code",
            "execution_count": null,
            "metadata": {},
            "outputs": [],
            "source": [
                "housing_train = load_table_csv('/Users/stevep/Documents/code/APE_thesis/ape_asp/ape_use_cases/thesis_use_cases/house_prices/train.csv')"
            ]
        },
        {
            "attachments": {},
            "cell_type": "markdown",
            "metadata": {},
            "source": [
                "### Step 1: `log`\n",
                "#### Notes\n",
                "> This transformation is **NOT** inplace\n",
                "#### inputs:\n",
                "- 1\n",
                "\t- StatisticalRelevance: `NoRelevance`\n",
                "\t- APE_label: `housing_train`\n",
                "\t- DataClass: `MixedDataFrame`\n",
                "\t- src: `(0, 12)`\n",
                "#### outputs:\n",
                "- 1\n",
                "\t- DataClass: `FloatDataFrame`\n",
                "\t- APE_label: `TotalBsmtSF`\n",
                "\t- StatisticalRelevance: `NoRelevance`"
            ]
        },
        {
            "cell_type": "code",
            "execution_count": null,
            "metadata": {},
            "outputs": [],
            "source": [
                "floatDataFrame_1_1 = log(data=housing_train)"
            ]
        },
        {
            "attachments": {},
            "cell_type": "markdown",
            "metadata": {},
            "source": [
                "### Step 2: `normality_plots`\n",
                "\n",
                "#### inputs:\n",
                "- 1\n",
                "\t- DataClass: `FloatDataFrame`\n",
                "\t- APE_label: `TotalBsmtSF`\n",
                "\t- StatisticalRelevance: `NoRelevance`\n",
                "\t- src: `(1, 1)`\n",
                "- 2\n",
                "\t- StatisticalRelevance: `IndependentVariable`\n",
                "\t- DataClass: `IntColumn`\n",
                "\t- APE_label: `GarageArea`\n",
                "\t- src: `(0, 9)`\n",
                "#### outputs:\n",
                "- 1\n",
                "\t- StatisticalRelevance: `NoRelevance`\n",
                "\t- DataClass: `Figure`\n",
                "\t- APE_label: `YearBuilt`\n",
                "- 2\n",
                "\t- StatisticalRelevance: `NoRelevance`\n",
                "\t- APE_label: `YearBuilt`\n",
                "\t- DataClass: `Axes`"
            ]
        },
        {
            "cell_type": "code",
            "execution_count": null,
            "metadata": {},
            "outputs": [],
            "source": [
                "figure_2_1, axes_2_2 = normality_plots(data=floatDataFrame_1_1, col='GarageArea')"
            ]
        },
        {
            "attachments": {},
            "cell_type": "markdown",
            "metadata": {},
            "source": [
                "### Step 3: `normality_plots`\n",
                "\n",
                "#### inputs:\n",
                "- 1\n",
                "\t- APE_label: `TotalBsmtSF`\n",
                "\t- StatisticalRelevance: `NoRelevance`\n",
                "\t- DataClass: `FloatDataFrame`\n",
                "\t- src: `(1, 1)`\n",
                "- 2\n",
                "\t- APE_label: `SalePrice`\n",
                "\t- DataClass: `IntColumn`\n",
                "\t- StatisticalRelevance: `DependentVariable`\n",
                "\t- src: `(0, 10)`\n",
                "#### outputs:\n",
                "- 1\n",
                "\t- DataClass: `Figure`\n",
                "\t- StatisticalRelevance: `NoRelevance`\n",
                "\t- APE_label: `SaleCondition`\n",
                "- 2\n",
                "\t- DataClass: `Axes`\n",
                "\t- APE_label: `SaleCondition`\n",
                "\t- StatisticalRelevance: `NoRelevance`"
            ]
        },
        {
            "cell_type": "code",
            "execution_count": null,
            "metadata": {},
            "outputs": [],
            "source": [
                "figure_3_1, axes_3_2 = normality_plots(data=floatDataFrame_1_1, col='SalePrice')"
            ]
        }
    ],
    "metadata": {
        "kernelspec": {
            "display_name": "APE",
            "language": "python",
            "name": "python3"
        },
        "language_info": {
            "codemirror_mode": {
                "name": "ipython",
                "version": 3
            },
            "file_extension": ".py",
            "mimetype": "text/x-python",
            "name": "python",
            "nbconvert_exporter": "python",
            "pygments_lexer": "ipython3",
            "version": "3.10.10"
        },
        "orig_nbformat": 4
    },
    "nbformat": 4,
    "nbformat_minor": 2
}