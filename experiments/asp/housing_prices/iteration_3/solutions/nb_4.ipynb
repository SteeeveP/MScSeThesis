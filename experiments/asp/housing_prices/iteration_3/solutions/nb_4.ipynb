{
    "cells": [
        {
            "attachments": {},
            "cell_type": "markdown",
            "metadata": {},
            "source": [
                "![workflow graph](Figures/SolutionNo_4_length_4.png \"Workflow Graph\")"
            ]
        },
        {
            "cell_type": "code",
            "execution_count": null,
            "metadata": {},
            "outputs": [],
            "source": [
                "from pathlib import Path\n",
                "import sys\n",
                "\n",
                "import pandas as pd\n",
                "\n",
                "sys.path.append('/Users/stevep/Documents/code/APE_thesis/ape_asp')\n",
                "from wrapper_functions import *    "
            ]
        },
        {
            "attachments": {},
            "cell_type": "markdown",
            "metadata": {},
            "source": [
                "## Workflow Input Objects"
            ]
        },
        {
            "attachments": {},
            "cell_type": "markdown",
            "metadata": {},
            "source": [
                "### Table 1\n",
                "- id: `housing_train`\n",
                "- source: `/Users/stevep/Documents/code/APE_thesis/ape_asp/ape_use_cases/thesis_use_cases/house_prices/train.csv`\n",
                "- DataClass: `MixedDataFrame`\n",
                "- DataClass: `NoRelevance`    "
            ]
        },
        {
            "cell_type": "code",
            "execution_count": null,
            "metadata": {},
            "outputs": [],
            "source": [
                "housing_train = load_table_csv('/Users/stevep/Documents/code/APE_thesis/ape_asp/ape_use_cases/thesis_use_cases/house_prices/train.csv')"
            ]
        },
        {
            "attachments": {},
            "cell_type": "markdown",
            "metadata": {},
            "source": [
                "### Step 1: `dropna_col_i`\n",
                "\n",
                "#### inputs:\n",
                "- 1\n",
                "\t- DataClass: `MixedDataFrame`\n",
                "\t- StatisticalRelevance: `NoRelevance`\n",
                "\t- APE_label: `housing_train`\n",
                "\t- src: `(0, 12)`\n",
                "#### outputs:\n",
                ""
            ]
        },
        {
            "cell_type": "code",
            "execution_count": null,
            "metadata": {},
            "outputs": [],
            "source": [
                "dropna_col_i(data=housing_train)"
            ]
        },
        {
            "attachments": {},
            "cell_type": "markdown",
            "metadata": {},
            "source": [
                "### Step 2: `drop_sd_i`\n",
                "#### Notes\n",
                "Removes entries where masked feature is an outlier\n",
                "    by at least `abs_sd` standard deviations. Defaults to 2.\n",
                "    \n",
                "#### inputs:\n",
                "- 1\n",
                "\t- StatisticalRelevance: `NoRelevance`\n",
                "\t- APE_label: `housing_train`\n",
                "\t- DataClass: `MixedDataFrame`\n",
                "\t- src: `(0, 12)`\n",
                "- 2\n",
                "\t- DataClass: `IntColumn`\n",
                "\t- StatisticalRelevance: `IndependentVariable`\n",
                "\t- APE_label: `OverallQual`\n",
                "\t- src: `(0, 1)`\n",
                "#### outputs:\n",
                ""
            ]
        },
        {
            "cell_type": "code",
            "execution_count": null,
            "metadata": {},
            "outputs": [],
            "source": [
                "drop_sd_i(data=housing_train, col='OverallQual')"
            ]
        },
        {
            "attachments": {},
            "cell_type": "markdown",
            "metadata": {},
            "source": [
                "### Step 3: `filter_sd`\n",
                "#### Notes\n",
                "Selects entries where masked feature is an outlier\n",
                "    by at least `abs_sd` standard deviations. Defaults to 2.\n",
                "    \n",
                "#### inputs:\n",
                "- 1\n",
                "\t- APE_label: `housing_train`\n",
                "\t- DataClass: `MixedDataFrame`\n",
                "\t- StatisticalRelevance: `NoRelevance`\n",
                "\t- src: `(0, 12)`\n",
                "- 2\n",
                "\t- StatisticalRelevance: `IndependentVariable`\n",
                "\t- APE_label: `OverallQual`\n",
                "\t- DataClass: `IntColumn`\n",
                "\t- src: `(0, 1)`\n",
                "#### outputs:\n",
                "- 1\n",
                "\t- StatisticalRelevance: `NoRelevance`\n",
                "\t- APE_label: `housing_train`\n",
                "\t- DataClass: `MixedDataFrame`"
            ]
        },
        {
            "cell_type": "code",
            "execution_count": null,
            "metadata": {},
            "outputs": [],
            "source": [
                "mixedDataFrame_3_1 = filter_sd(data=housing_train, col='OverallQual')"
            ]
        },
        {
            "attachments": {},
            "cell_type": "markdown",
            "metadata": {},
            "source": [
                "### Step 4: `na_count_percentage`\n",
                "\n",
                "#### inputs:\n",
                "- 1\n",
                "\t- StatisticalRelevance: `NoRelevance`\n",
                "\t- APE_label: `housing_train`\n",
                "\t- DataClass: `MixedDataFrame`\n",
                "\t- src: `(3, 1)`\n",
                "#### outputs:\n",
                "- 1\n",
                "\t- StatisticalRelevance: `NoRelevance`\n",
                "\t- DataClass: `FloatSeries`\n",
                "\t- APE_label: `GrLivArea`"
            ]
        },
        {
            "cell_type": "code",
            "execution_count": null,
            "metadata": {},
            "outputs": [],
            "source": [
                "floatSeries_4_1 = na_count_percentage(df=mixedDataFrame_3_1)"
            ]
        }
    ],
    "metadata": {
        "kernelspec": {
            "display_name": "APE",
            "language": "python",
            "name": "python3"
        },
        "language_info": {
            "codemirror_mode": {
                "name": "ipython",
                "version": 3
            },
            "file_extension": ".py",
            "mimetype": "text/x-python",
            "name": "python",
            "nbconvert_exporter": "python",
            "pygments_lexer": "ipython3",
            "version": "3.10.10"
        },
        "orig_nbformat": 4
    },
    "nbformat": 4,
    "nbformat_minor": 2
}