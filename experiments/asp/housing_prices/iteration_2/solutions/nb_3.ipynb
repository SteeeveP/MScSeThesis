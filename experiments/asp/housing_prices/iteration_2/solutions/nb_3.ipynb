{
    "cells": [
        {
            "attachments": {},
            "cell_type": "markdown",
            "metadata": {},
            "source": [
                "![workflow graph](Figures/SolutionNo_3_length_7.png \"Workflow Graph\")"
            ]
        },
        {
            "cell_type": "code",
            "execution_count": null,
            "metadata": {},
            "outputs": [],
            "source": [
                "from pathlib import Path\n",
                "import sys\n",
                "\n",
                "import pandas as pd\n",
                "\n",
                "sys.path.append('/Users/stevep/Documents/code/APE_thesis/ape_asp')\n",
                "from wrapper_functions import *    "
            ]
        },
        {
            "attachments": {},
            "cell_type": "markdown",
            "metadata": {},
            "source": [
                "## Workflow Input Objects"
            ]
        },
        {
            "attachments": {},
            "cell_type": "markdown",
            "metadata": {},
            "source": [
                "### Table 1\n",
                "- id: `housing_train`\n",
                "- source: `/Users/stevep/Documents/code/APE_thesis/ape_asp/ape_use_cases/thesis_use_cases/house_prices/train.csv`\n",
                "- DataClass: `MixedDataFrame`\n",
                "- DataClass: `NoRelevance`    "
            ]
        },
        {
            "cell_type": "code",
            "execution_count": null,
            "metadata": {},
            "outputs": [],
            "source": [
                "housing_train = load_table_csv('/Users/stevep/Documents/code/APE_thesis/ape_asp/ape_use_cases/thesis_use_cases/house_prices/train.csv')"
            ]
        },
        {
            "attachments": {},
            "cell_type": "markdown",
            "metadata": {},
            "source": [
                "### Step 1: `pairplot`\n",
                "#### Notes\n",
                "Passing `col` and `n` will only display `n` most correlating features.\n",
                "    > kwarg `hue` should be column with few features.\n",
                "#### inputs:\n",
                "- 1\n",
                "\t- DataClass: `MixedDataFrame`\n",
                "\t- StatisticalRelevance: `NoRelevance`\n",
                "\t- APE_label: `housing_train`\n",
                "\t- src: `(0, 12)`\n",
                "- 2\n",
                "\t- StatisticalRelevance: `DependentVariable`\n",
                "\t- DataClass: `IntColumn`\n",
                "\t- APE_label: `SalePrice`\n",
                "\t- src: `(0, 10)`\n",
                "- 3\n",
                "\t- APE_label: `10`\n",
                "\t- StatisticalRelevance: `NoRelevance`\n",
                "\t- DataClass: `Int`\n",
                "\t- src: `(0, 14)`\n",
                "- 4\n",
                "\t- APE_label: `GarageArea`\n",
                "\t- DataClass: `IntColumn`\n",
                "\t- StatisticalRelevance: `IndependentVariable`\n",
                "\t- src: `(0, 9)`\n",
                "#### outputs:\n",
                "- 1\n",
                "\t- DataClass: `Figure`\n",
                "\t- StatisticalRelevance: `NoRelevance`\n",
                "\t- APE_label: `OverallQual`"
            ]
        },
        {
            "cell_type": "code",
            "execution_count": null,
            "metadata": {},
            "outputs": [],
            "source": [
                "figure_1_1 = pairplot(data=housing_train, col='SalePrice', n=10, hue='GarageArea')"
            ]
        },
        {
            "attachments": {},
            "cell_type": "markdown",
            "metadata": {},
            "source": [
                "### Step 2: `k_most_corr_indep_var_corr_matrix`\n",
                "#### Notes\n",
                "Matrix of `k` most to `col` correlating columns.\n",
                "#### inputs:\n",
                "- 1\n",
                "\t- DataClass: `MixedDataFrame`\n",
                "\t- APE_label: `housing_train`\n",
                "\t- StatisticalRelevance: `NoRelevance`\n",
                "\t- src: `(0, 12)`\n",
                "- 2\n",
                "\t- DataClass: `IntColumn`\n",
                "\t- APE_label: `SalePrice`\n",
                "\t- StatisticalRelevance: `DependentVariable`\n",
                "\t- src: `(0, 10)`\n",
                "- 3\n",
                "\t- StatisticalRelevance: `NoRelevance`\n",
                "\t- DataClass: `Int`\n",
                "\t- APE_label: `10`\n",
                "\t- src: `(0, 14)`\n",
                "#### outputs:\n",
                "- 1\n",
                "\t- APE_label: `GrLivArea`\n",
                "\t- DataClass: `FloatDataFrame`\n",
                "\t- StatisticalRelevance: `NoRelevance`"
            ]
        },
        {
            "cell_type": "code",
            "execution_count": null,
            "metadata": {},
            "outputs": [],
            "source": [
                "floatDataFrame_2_1 = k_most_corr_indep_var_corr_matrix(data=housing_train, col='SalePrice', k=10)"
            ]
        },
        {
            "attachments": {},
            "cell_type": "markdown",
            "metadata": {},
            "source": [
                "### Step 3: `heatmap`\n",
                "#### Notes\n",
                "`piv_col1`, `piv_col2` and `num_col`\n",
                "    can be used to pivot the table before creating a heatmap\n",
                "#### inputs:\n",
                "- 1\n",
                "\t- DataClass: `FloatDataFrame`\n",
                "\t- APE_label: `GrLivArea`\n",
                "\t- StatisticalRelevance: `NoRelevance`\n",
                "\t- src: `(2, 1)`\n",
                "#### outputs:\n",
                "- 1\n",
                "\t- APE_label: `GarageCars`\n",
                "\t- StatisticalRelevance: `NoRelevance`\n",
                "\t- DataClass: `Figure`\n",
                "- 2\n",
                "\t- StatisticalRelevance: `NoRelevance`\n",
                "\t- APE_label: `GarageCars`\n",
                "\t- DataClass: `Axes`"
            ]
        },
        {
            "cell_type": "code",
            "execution_count": null,
            "metadata": {},
            "outputs": [],
            "source": [
                "figure_3_1, axes_3_2 = heatmap(df=floatDataFrame_2_1)"
            ]
        },
        {
            "attachments": {},
            "cell_type": "markdown",
            "metadata": {},
            "source": [
                "### Step 4: `set_figure_size`\n",
                "\n",
                "#### inputs:\n",
                "- 1\n",
                "\t- APE_label: `16`\n",
                "\t- StatisticalRelevance: `NoRelevance`\n",
                "\t- DataClass: `Int`\n",
                "\t- src: `(0, 15)`\n",
                "- 2\n",
                "\t- DataClass: `Int`\n",
                "\t- StatisticalRelevance: `NoRelevance`\n",
                "\t- APE_label: `9`\n",
                "\t- src: `(0, 13)`\n",
                "#### outputs:\n",
                "- 1\n",
                "\t- DataClass: `Figure`\n",
                "\t- StatisticalRelevance: `NoRelevance`\n",
                "\t- APE_label: `1stFlrSF`\n",
                "- 2\n",
                "\t- DataClass: `Axes`\n",
                "\t- APE_label: `OverallQual`\n",
                "\t- StatisticalRelevance: `NoRelevance`"
            ]
        },
        {
            "cell_type": "code",
            "execution_count": null,
            "metadata": {},
            "outputs": [],
            "source": [
                "figure_4_1, axes_4_2 = set_figure_size(x_size=16, y_size=9)"
            ]
        },
        {
            "attachments": {},
            "cell_type": "markdown",
            "metadata": {},
            "source": [
                "### Step 5: `scatterplot`\n",
                "#### Notes\n",
                "> kwarg `hue` should be column with few features.\n",
                "    > kwarg `style` should be column with few features.\n",
                "    \n",
                "#### inputs:\n",
                "- 1\n",
                "\t- DataClass: `MixedDataFrame`\n",
                "\t- StatisticalRelevance: `NoRelevance`\n",
                "\t- APE_label: `housing_train`\n",
                "\t- src: `(0, 12)`\n",
                "- 2\n",
                "\t- APE_label: `TotRmsAbvGrd`\n",
                "\t- StatisticalRelevance: `IndependentVariable`\n",
                "\t- DataClass: `IntColumn`\n",
                "\t- src: `(0, 7)`\n",
                "- 3\n",
                "\t- DataClass: `IntColumn`\n",
                "\t- APE_label: `SalePrice`\n",
                "\t- StatisticalRelevance: `DependentVariable`\n",
                "\t- src: `(0, 10)`\n",
                "#### outputs:\n",
                "- 1\n",
                "\t- StatisticalRelevance: `NoRelevance`\n",
                "\t- APE_label: `OverallQual`\n",
                "\t- DataClass: `Figure`\n",
                "- 2\n",
                "\t- StatisticalRelevance: `NoRelevance`\n",
                "\t- APE_label: `OverallQual`\n",
                "\t- DataClass: `Axes`"
            ]
        },
        {
            "cell_type": "code",
            "execution_count": null,
            "metadata": {},
            "outputs": [],
            "source": [
                "figure_5_1, axes_5_2 = scatterplot(df=housing_train, x='TotRmsAbvGrd', y='SalePrice')"
            ]
        },
        {
            "attachments": {},
            "cell_type": "markdown",
            "metadata": {},
            "source": [
                "### Step 6: `boxplot`\n",
                "#### Notes\n",
                "> kwarg `x` should be column with few features.\n",
                "    > kwarg `hue` should be column with few features.\n",
                "#### inputs:\n",
                "- 1\n",
                "\t- StatisticalRelevance: `NoRelevance`\n",
                "\t- APE_label: `housing_train`\n",
                "\t- DataClass: `MixedDataFrame`\n",
                "\t- src: `(0, 12)`\n",
                "- 2\n",
                "\t- APE_label: `SalePrice`\n",
                "\t- StatisticalRelevance: `DependentVariable`\n",
                "\t- DataClass: `IntColumn`\n",
                "\t- src: `(0, 10)`\n",
                "- 3\n",
                "\t- StatisticalRelevance: `IndependentVariable`\n",
                "\t- DataClass: `StrColumn`\n",
                "\t- APE_label: `SaleCondition`\n",
                "\t- src: `(0, 11)`\n",
                "- 4\n",
                "\t- StatisticalRelevance: `NoRelevance`\n",
                "\t- DataClass: `Figure`\n",
                "\t- APE_label: `1stFlrSF`\n",
                "\t- src: `(4, 1)`\n",
                "- 5\n",
                "\t- StatisticalRelevance: `NoRelevance`\n",
                "\t- DataClass: `Axes`\n",
                "\t- APE_label: `OverallQual`\n",
                "\t- src: `(4, 2)`\n",
                "#### outputs:\n",
                "- 1\n",
                "\t- StatisticalRelevance: `NoRelevance`\n",
                "\t- APE_label: `1stFlrSF`\n",
                "\t- DataClass: `Figure`\n",
                "- 2\n",
                "\t- StatisticalRelevance: `NoRelevance`\n",
                "\t- DataClass: `Axes`\n",
                "\t- APE_label: `TotalBsmtSF`"
            ]
        },
        {
            "cell_type": "code",
            "execution_count": null,
            "metadata": {},
            "outputs": [],
            "source": [
                "figure_6_1, axes_6_2 = boxplot(df=housing_train, y='SalePrice', x='SaleCondition')"
            ]
        },
        {
            "attachments": {},
            "cell_type": "markdown",
            "metadata": {},
            "source": [
                "### Step 7: `rotate_x_labels`\n",
                "\n",
                "#### inputs:\n",
                "- 1\n",
                "\t- DataClass: `Figure`\n",
                "\t- StatisticalRelevance: `NoRelevance`\n",
                "\t- APE_label: `1stFlrSF`\n",
                "\t- src: `(6, 1)`\n",
                "- 2\n",
                "\t- APE_label: `TotalBsmtSF`\n",
                "\t- DataClass: `Axes`\n",
                "\t- StatisticalRelevance: `NoRelevance`\n",
                "\t- src: `(6, 2)`\n",
                "#### outputs:\n",
                "- 1\n",
                "\t- DataClass: `Figure`\n",
                "\t- StatisticalRelevance: `NoRelevance`\n",
                "\t- APE_label: `YearBuilt`\n",
                "- 2\n",
                "\t- APE_label: `YearBuilt`\n",
                "\t- DataClass: `Axes`\n",
                "\t- StatisticalRelevance: `NoRelevance`"
            ]
        },
        {
            "cell_type": "code",
            "execution_count": null,
            "metadata": {},
            "outputs": [],
            "source": [
                "figure_7_1, axes_7_2 = rotate_x_labels(figure=figure_6_1, axes=axes_6_2)"
            ]
        }
    ],
    "metadata": {
        "kernelspec": {
            "display_name": "APE",
            "language": "python",
            "name": "python3"
        },
        "language_info": {
            "codemirror_mode": {
                "name": "ipython",
                "version": 3
            },
            "file_extension": ".py",
            "mimetype": "text/x-python",
            "name": "python",
            "nbconvert_exporter": "python",
            "pygments_lexer": "ipython3",
            "version": "3.10.10"
        },
        "orig_nbformat": 4
    },
    "nbformat": 4,
    "nbformat_minor": 2
}