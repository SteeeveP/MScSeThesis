{
    "cells": [
        {
            "attachments": {},
            "cell_type": "markdown",
            "metadata": {},
            "source": [
                "![workflow graph](Figures/SolutionNo_0_length_6.png \"Workflow Graph\")"
            ]
        },
        {
            "cell_type": "code",
            "execution_count": 1,
            "metadata": {},
            "outputs": [],
            "source": [
                "from pathlib import Path\n",
                "import sys\n",
                "\n",
                "import pandas as pd\n",
                "\n",
                "sys.path.append('/Users/stevep/Documents/code/APE_thesis/ape-thesis')\n",
                "from wrapper_functions import *    "
            ]
        },
        {
            "attachments": {},
            "cell_type": "markdown",
            "metadata": {},
            "source": [
                "## Workflow Input Objects"
            ]
        },
        {
            "attachments": {},
            "cell_type": "markdown",
            "metadata": {},
            "source": [
                "### Table 1\n",
                "- id: `titanic_train`\n",
                "- source: `/Users/stevep/Documents/code/APE_thesis/ape-thesis/usecases/titanic/train.csv`\n",
                "- DataClass: `MixedDataFrame`\n",
                "- DataClass: `NoRelevance`    "
            ]
        },
        {
            "cell_type": "code",
            "execution_count": 2,
            "metadata": {},
            "outputs": [
                {
                    "name": "stdout",
                    "output_type": "stream",
                    "text": [
                        "<class 'pandas.core.frame.DataFrame'>\n",
                        "RangeIndex: 891 entries, 0 to 890\n",
                        "Data columns (total 12 columns):\n",
                        " #   Column       Non-Null Count  Dtype  \n",
                        "---  ------       --------------  -----  \n",
                        " 0   PassengerId  891 non-null    int64  \n",
                        " 1   Survived     891 non-null    int64  \n",
                        " 2   Pclass       891 non-null    int64  \n",
                        " 3   Name         891 non-null    object \n",
                        " 4   Sex          891 non-null    object \n",
                        " 5   Age          714 non-null    float64\n",
                        " 6   SibSp        891 non-null    int64  \n",
                        " 7   Parch        891 non-null    int64  \n",
                        " 8   Ticket       891 non-null    object \n",
                        " 9   Fare         891 non-null    float64\n",
                        " 10  Cabin        204 non-null    object \n",
                        " 11  Embarked     889 non-null    object \n",
                        "dtypes: float64(2), int64(5), object(5)\n",
                        "memory usage: 83.7+ KB\n"
                    ]
                },
                {
                    "data": {
                        "text/plain": [
                            "None"
                        ]
                    },
                    "metadata": {},
                    "output_type": "display_data"
                },
                {
                    "data": {
                        "text/html": [
                            "<div>\n",
                            "<style scoped>\n",
                            "    .dataframe tbody tr th:only-of-type {\n",
                            "        vertical-align: middle;\n",
                            "    }\n",
                            "\n",
                            "    .dataframe tbody tr th {\n",
                            "        vertical-align: top;\n",
                            "    }\n",
                            "\n",
                            "    .dataframe thead th {\n",
                            "        text-align: right;\n",
                            "    }\n",
                            "</style>\n",
                            "<table border=\"1\" class=\"dataframe\">\n",
                            "  <thead>\n",
                            "    <tr style=\"text-align: right;\">\n",
                            "      <th></th>\n",
                            "      <th>PassengerId</th>\n",
                            "      <th>Survived</th>\n",
                            "      <th>Pclass</th>\n",
                            "      <th>Name</th>\n",
                            "      <th>Sex</th>\n",
                            "      <th>Age</th>\n",
                            "      <th>SibSp</th>\n",
                            "      <th>Parch</th>\n",
                            "      <th>Ticket</th>\n",
                            "      <th>Fare</th>\n",
                            "      <th>Cabin</th>\n",
                            "      <th>Embarked</th>\n",
                            "    </tr>\n",
                            "  </thead>\n",
                            "  <tbody>\n",
                            "    <tr>\n",
                            "      <th>0</th>\n",
                            "      <td>1</td>\n",
                            "      <td>0</td>\n",
                            "      <td>3</td>\n",
                            "      <td>Braund, Mr. Owen Harris</td>\n",
                            "      <td>male</td>\n",
                            "      <td>22.0</td>\n",
                            "      <td>1</td>\n",
                            "      <td>0</td>\n",
                            "      <td>A/5 21171</td>\n",
                            "      <td>7.2500</td>\n",
                            "      <td>NaN</td>\n",
                            "      <td>S</td>\n",
                            "    </tr>\n",
                            "    <tr>\n",
                            "      <th>1</th>\n",
                            "      <td>2</td>\n",
                            "      <td>1</td>\n",
                            "      <td>1</td>\n",
                            "      <td>Cumings, Mrs. John Bradley (Florence Briggs Th...</td>\n",
                            "      <td>female</td>\n",
                            "      <td>38.0</td>\n",
                            "      <td>1</td>\n",
                            "      <td>0</td>\n",
                            "      <td>PC 17599</td>\n",
                            "      <td>71.2833</td>\n",
                            "      <td>C85</td>\n",
                            "      <td>C</td>\n",
                            "    </tr>\n",
                            "    <tr>\n",
                            "      <th>2</th>\n",
                            "      <td>3</td>\n",
                            "      <td>1</td>\n",
                            "      <td>3</td>\n",
                            "      <td>Heikkinen, Miss. Laina</td>\n",
                            "      <td>female</td>\n",
                            "      <td>26.0</td>\n",
                            "      <td>0</td>\n",
                            "      <td>0</td>\n",
                            "      <td>STON/O2. 3101282</td>\n",
                            "      <td>7.9250</td>\n",
                            "      <td>NaN</td>\n",
                            "      <td>S</td>\n",
                            "    </tr>\n",
                            "    <tr>\n",
                            "      <th>3</th>\n",
                            "      <td>4</td>\n",
                            "      <td>1</td>\n",
                            "      <td>1</td>\n",
                            "      <td>Futrelle, Mrs. Jacques Heath (Lily May Peel)</td>\n",
                            "      <td>female</td>\n",
                            "      <td>35.0</td>\n",
                            "      <td>1</td>\n",
                            "      <td>0</td>\n",
                            "      <td>113803</td>\n",
                            "      <td>53.1000</td>\n",
                            "      <td>C123</td>\n",
                            "      <td>S</td>\n",
                            "    </tr>\n",
                            "    <tr>\n",
                            "      <th>4</th>\n",
                            "      <td>5</td>\n",
                            "      <td>0</td>\n",
                            "      <td>3</td>\n",
                            "      <td>Allen, Mr. William Henry</td>\n",
                            "      <td>male</td>\n",
                            "      <td>35.0</td>\n",
                            "      <td>0</td>\n",
                            "      <td>0</td>\n",
                            "      <td>373450</td>\n",
                            "      <td>8.0500</td>\n",
                            "      <td>NaN</td>\n",
                            "      <td>S</td>\n",
                            "    </tr>\n",
                            "  </tbody>\n",
                            "</table>\n",
                            "</div>"
                        ],
                        "text/plain": [
                            "   PassengerId  Survived  Pclass  \\\n",
                            "0            1         0       3   \n",
                            "1            2         1       1   \n",
                            "2            3         1       3   \n",
                            "3            4         1       1   \n",
                            "4            5         0       3   \n",
                            "\n",
                            "                                                Name     Sex   Age  SibSp  \\\n",
                            "0                            Braund, Mr. Owen Harris    male  22.0      1   \n",
                            "1  Cumings, Mrs. John Bradley (Florence Briggs Th...  female  38.0      1   \n",
                            "2                             Heikkinen, Miss. Laina  female  26.0      0   \n",
                            "3       Futrelle, Mrs. Jacques Heath (Lily May Peel)  female  35.0      1   \n",
                            "4                           Allen, Mr. William Henry    male  35.0      0   \n",
                            "\n",
                            "   Parch            Ticket     Fare Cabin Embarked  \n",
                            "0      0         A/5 21171   7.2500   NaN        S  \n",
                            "1      0          PC 17599  71.2833   C85        C  \n",
                            "2      0  STON/O2. 3101282   7.9250   NaN        S  \n",
                            "3      0            113803  53.1000  C123        S  \n",
                            "4      0            373450   8.0500   NaN        S  "
                        ]
                    },
                    "metadata": {},
                    "output_type": "display_data"
                }
            ],
            "source": [
                "titanic_train = load_table_csv('/Users/stevep/Documents/code/APE_thesis/ape-thesis/usecases/titanic/train.csv')"
            ]
        },
        {
            "attachments": {},
            "cell_type": "markdown",
            "metadata": {},
            "source": [
                "### Step 8: `column_split`\n",
                "#### Notes\n",
                "Splits a dataframe into X and y based on a column name\n",
                "#### inputs:\n",
                "- 1\n",
                "\t- DataClass: `MixedDataFrame`\n",
                "\t- StatisticalRelevance: `NoRelevance`\n",
                "\t- APE_label: `['titanic_train']`\n",
                "\t- src: `(0, 9)`\n",
                "- 2\n",
                "\t- DataClass: `IntColumn`\n",
                "\t- StatisticalRelevance: `DependentVariable`\n",
                "\t- APE_label: `['Survived']`\n",
                "\t- src: `(0, 0)`\n",
                "#### outputs:\n",
                "- 1\n",
                "\t- DataClass: `MixedDataFrame`\n",
                "\t- StatisticalRelevance: `IndependentVariable`\n",
                "- 2\n",
                "\t- DataClass: `IntSeries`\n",
                "\t- StatisticalRelevance: `DependentVariable`"
            ]
        },
        {
            "cell_type": "code",
            "execution_count": 3,
            "metadata": {},
            "outputs": [],
            "source": [
                "mixedDataFrame_8_1, intSeries_8_2 = column_split(df=titanic_train, column='Survived')"
            ]
        },
        {
            "attachments": {},
            "cell_type": "markdown",
            "metadata": {},
            "source": [
                "### Step 9: `train_test_split`\n",
                "#### Notes\n",
                "Splits a dataframe into X_train, y_train, X_test, y_test\n",
                "    > returns strings instead of series if y is a string\n",
                "    \n",
                "#### inputs:\n",
                "- 1\n",
                "\t- DataClass: `MixedDataFrame`\n",
                "\t- StatisticalRelevance: `IndependentVariable`\n",
                "\t- src: `(8, 0)`\n",
                "- 2\n",
                "\t- DataClass: `IntSeries`\n",
                "\t- StatisticalRelevance: `DependentVariable`\n",
                "\t- src: `(8, 1)`\n",
                "#### outputs:\n",
                "- 1\n",
                "\t- DataClass: `MixedDataFrame`\n",
                "\t- StatisticalRelevance: `IndependentVariable`\n",
                "- 2\n",
                "\t- DataClass: `IntSeries`\n",
                "\t- StatisticalRelevance: `DependentVariable`\n",
                "- 3\n",
                "\t- DataClass: `MixedDataFrame`\n",
                "\t- StatisticalRelevance: `IndependentVariable`\n",
                "- 4\n",
                "\t- DataClass: `IntSeries`\n",
                "\t- StatisticalRelevance: `DependentVariable`"
            ]
        },
        {
            "cell_type": "code",
            "execution_count": 4,
            "metadata": {},
            "outputs": [],
            "source": [
                "mixedDataFrame_9_1, intSeries_9_2, mixedDataFrame_9_3, intSeries_9_4 = train_test_split(df=mixedDataFrame_8_1, y=intSeries_8_2)"
            ]
        },
        {
            "attachments": {},
            "cell_type": "markdown",
            "metadata": {},
            "source": [
                "### Step 10: `init_sklearn_estimator`\n",
                "#### Notes\n",
                "Initializes a sklearn estimator.\n",
                "\n",
                "    The passed string must be one of the following:\n",
                "\n",
                "    - 'KernelRidgeRegressor'\n",
                "    - 'PerceptronClassifier'\n",
                "    - 'LogisticRegressionClassifier'\n",
                "    - 'LinearRegressor'\n",
                "    - 'ElasticNetRegressor'\n",
                "    - 'RidgeRegressor'\n",
                "    - 'DecisionTreeClassifier'\n",
                "    - 'DecisionTreeRegressor'\n",
                "    - 'LinearSVClassifier'\n",
                "    - 'LinearSVRregressor'\n",
                "    - 'RandomForestClassifier'\n",
                "    - 'AdaBoostClassifier'\n",
                "    - 'VotingClassifier'\n",
                "    - 'RandomForestRegressor'\n",
                "    - 'AdaBoostRegressor'\n",
                "    - 'VotingRegressor'\n",
                "    - 'DummyClassifier'\n",
                "    - 'DummyRegressor'\n",
                "    - 'KMeansClustor'\n",
                "    - 'DBScanClustor'\n",
                "    - 'KNeighborsClassifier'\n",
                "    - 'KNeighborsRegressor'\n",
                "    - 'GridSearchCV'\n",
                "    - 'HalvingGridSearchCV'\n",
                "    - 'SimpleImputer'\n",
                "    - 'IterativeImputer'\n",
                "    - 'KNNImputer'\n",
                "    - 'KNNImputer'\n",
                "    - 'PCA'\n",
                "    - 'TruncatedSVD'\n",
                "    \n",
                "#### inputs:\n",
                "\n",
                "#### outputs:\n",
                "- 1\n",
                "\t- DataClass: `DummyClassifier`\n",
                "\t- StatisticalRelevance: `NoRelevance`"
            ]
        },
        {
            "cell_type": "code",
            "execution_count": 5,
            "metadata": {},
            "outputs": [],
            "source": [
                "dummyClassifier_10_1 = init_sklearn_estimator(estimator=\"DummyClassifier\")"
            ]
        },
        {
            "attachments": {},
            "cell_type": "markdown",
            "metadata": {},
            "source": [
                "### Step 11: `fit_estimator`\n",
                "#### Notes\n",
                "Fits an estimator\n",
                "    > Operation is in-place even though it returns the estimator!\n",
                "    \n",
                "#### inputs:\n",
                "- 1\n",
                "\t- DataClass: `DummyClassifier`\n",
                "\t- StatisticalRelevance: `NoRelevance`\n",
                "\t- src: `(10, 0)`\n",
                "- 2\n",
                "\t- DataClass: `MixedDataFrame`\n",
                "\t- StatisticalRelevance: `IndependentVariable`\n",
                "\t- src: `(8, 0)`\n",
                "- 3\n",
                "\t- DataClass: `IntSeries`\n",
                "\t- StatisticalRelevance: `DependentVariable`\n",
                "\t- src: `(9, 3)`\n",
                "#### outputs:\n",
                "- 1\n",
                "\t- DataClass: `DummyClassifier`\n",
                "\t- StatisticalRelevance: `NoRelevance`"
            ]
        },
        {
            "cell_type": "code",
            "execution_count": 6,
            "metadata": {},
            "outputs": [
                {
                    "ename": "ValueError",
                    "evalue": "Found input variables with inconsistent numbers of samples: [891, 223]",
                    "output_type": "error",
                    "traceback": [
                        "\u001b[0;31m---------------------------------------------------------------------------\u001b[0m",
                        "\u001b[0;31mValueError\u001b[0m                                Traceback (most recent call last)",
                        "Cell \u001b[0;32mIn[6], line 1\u001b[0m\n\u001b[0;32m----> 1\u001b[0m dummyClassifier_11_1 \u001b[39m=\u001b[39m fit_estimator(estimator\u001b[39m=\u001b[39;49mdummyClassifier_10_1, X\u001b[39m=\u001b[39;49mmixedDataFrame_8_1, y\u001b[39m=\u001b[39;49mintSeries_9_4)\n",
                        "File \u001b[0;32m~/Documents/code/APE_thesis/ape-thesis/wrapper_functions.py:1716\u001b[0m, in \u001b[0;36mfit_estimator\u001b[0;34m(estimator, X, y, **kwargs)\u001b[0m\n\u001b[1;32m   1714\u001b[0m     y \u001b[39m=\u001b[39m X[y]\n\u001b[1;32m   1715\u001b[0m     X \u001b[39m=\u001b[39m X\u001b[39m.\u001b[39mdrop(columns\u001b[39m=\u001b[39my)\n\u001b[0;32m-> 1716\u001b[0m \u001b[39mreturn\u001b[39;00m estimator\u001b[39m.\u001b[39;49mfit(X, y, \u001b[39m*\u001b[39;49m\u001b[39m*\u001b[39;49mkwargs)\n",
                        "File \u001b[0;32m~/opt/anaconda3/envs/APE/lib/python3.10/site-packages/sklearn/dummy.py:189\u001b[0m, in \u001b[0;36mDummyClassifier.fit\u001b[0;34m(self, X, y, sample_weight)\u001b[0m\n\u001b[1;32m    185\u001b[0m     y \u001b[39m=\u001b[39m np\u001b[39m.\u001b[39mreshape(y, (\u001b[39m-\u001b[39m\u001b[39m1\u001b[39m, \u001b[39m1\u001b[39m))\n\u001b[1;32m    187\u001b[0m \u001b[39mself\u001b[39m\u001b[39m.\u001b[39mn_outputs_ \u001b[39m=\u001b[39m y\u001b[39m.\u001b[39mshape[\u001b[39m1\u001b[39m]\n\u001b[0;32m--> 189\u001b[0m check_consistent_length(X, y)\n\u001b[1;32m    191\u001b[0m \u001b[39mif\u001b[39;00m sample_weight \u001b[39mis\u001b[39;00m \u001b[39mnot\u001b[39;00m \u001b[39mNone\u001b[39;00m:\n\u001b[1;32m    192\u001b[0m     sample_weight \u001b[39m=\u001b[39m _check_sample_weight(sample_weight, X)\n",
                        "File \u001b[0;32m~/opt/anaconda3/envs/APE/lib/python3.10/site-packages/sklearn/utils/validation.py:397\u001b[0m, in \u001b[0;36mcheck_consistent_length\u001b[0;34m(*arrays)\u001b[0m\n\u001b[1;32m    395\u001b[0m uniques \u001b[39m=\u001b[39m np\u001b[39m.\u001b[39munique(lengths)\n\u001b[1;32m    396\u001b[0m \u001b[39mif\u001b[39;00m \u001b[39mlen\u001b[39m(uniques) \u001b[39m>\u001b[39m \u001b[39m1\u001b[39m:\n\u001b[0;32m--> 397\u001b[0m     \u001b[39mraise\u001b[39;00m \u001b[39mValueError\u001b[39;00m(\n\u001b[1;32m    398\u001b[0m         \u001b[39m\"\u001b[39m\u001b[39mFound input variables with inconsistent numbers of samples: \u001b[39m\u001b[39m%r\u001b[39;00m\u001b[39m\"\u001b[39m\n\u001b[1;32m    399\u001b[0m         \u001b[39m%\u001b[39m [\u001b[39mint\u001b[39m(l) \u001b[39mfor\u001b[39;00m l \u001b[39min\u001b[39;00m lengths]\n\u001b[1;32m    400\u001b[0m     )\n",
                        "\u001b[0;31mValueError\u001b[0m: Found input variables with inconsistent numbers of samples: [891, 223]"
                    ]
                }
            ],
            "source": [
                "dummyClassifier_11_1 = fit_estimator(estimator=dummyClassifier_10_1, X=mixedDataFrame_8_1, y=intSeries_9_4)"
            ]
        },
        {
            "attachments": {},
            "cell_type": "markdown",
            "metadata": {},
            "source": [
                "### Step 12: `predict`\n",
                "#### Notes\n",
                "Predicts using a FITTED estimator\n",
                "#### inputs:\n",
                "- 1\n",
                "\t- DataClass: `DummyClassifier`\n",
                "\t- StatisticalRelevance: `NoRelevance`\n",
                "\t- src: `(10, 0)`\n",
                "- 2\n",
                "\t- DataClass: `MixedDataFrame`\n",
                "\t- StatisticalRelevance: `IndependentVariable`\n",
                "\t- src: `(9, 2)`\n",
                "#### outputs:\n",
                "- 1\n",
                "\t- DataClass: `MixedSeries`\n",
                "\t- StatisticalRelevance: `Prediction`"
            ]
        },
        {
            "cell_type": "code",
            "execution_count": null,
            "metadata": {},
            "outputs": [],
            "source": [
                "mixedSeries_12_1 = predict(estimator=dummyClassifier_10_1, X=mixedDataFrame_9_3)"
            ]
        },
        {
            "attachments": {},
            "cell_type": "markdown",
            "metadata": {},
            "source": [
                "### Step 13: `classification_report`\n",
                "#### Notes\n",
                "Displays a classification report\n",
                "#### inputs:\n",
                "- 1\n",
                "\t- DataClass: `MixedSeries`\n",
                "\t- StatisticalRelevance: `Prediction`\n",
                "\t- src: `(12, 0)`\n",
                "- 2\n",
                "\t- DataClass: `IntSeries`\n",
                "\t- StatisticalRelevance: `DependentVariable`\n",
                "\t- src: `(9, 1)`\n",
                "#### outputs:\n",
                "- 1\n",
                "\t- DataClass: `ClassificationReport`\n",
                "\t- StatisticalRelevance: `NoRelevance`"
            ]
        },
        {
            "cell_type": "code",
            "execution_count": null,
            "metadata": {},
            "outputs": [],
            "source": [
                "classificationReport_13_1 = classification_report(y_true=mixedSeries_12_1, y_pred=intSeries_9_2)"
            ]
        }
    ],
    "metadata": {
        "kernelspec": {
            "display_name": "APE",
            "language": "python",
            "name": "python3"
        },
        "language_info": {
            "codemirror_mode": {
                "name": "ipython",
                "version": 3
            },
            "file_extension": ".py",
            "mimetype": "text/x-python",
            "name": "python",
            "nbconvert_exporter": "python",
            "pygments_lexer": "ipython3",
            "version": "3.10.10"
        },
        "orig_nbformat": 4
    },
    "nbformat": 4,
    "nbformat_minor": 2
}
