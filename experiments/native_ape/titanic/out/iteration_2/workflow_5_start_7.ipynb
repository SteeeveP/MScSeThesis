{
    "cells": [
        {
            "attachments": {},
            "cell_type": "markdown",
            "metadata": {},
            "source": [
                "![workflow graph](Figures/SolutionNo_4_length_6.png \"Workflow Graph\")"
            ]
        },
        {
            "cell_type": "code",
            "execution_count": 7,
            "metadata": {},
            "outputs": [],
            "source": [
                "from pathlib import Path\n",
                "import sys\n",
                "\n",
                "import pandas as pd\n",
                "\n",
                "sys.path.append('/Users/stevep/Documents/code/APE_thesis/ape-thesis')\n",
                "from wrapper_functions import *    "
            ]
        },
        {
            "attachments": {},
            "cell_type": "markdown",
            "metadata": {},
            "source": [
                "## Workflow Input Objects"
            ]
        },
        {
            "attachments": {},
            "cell_type": "markdown",
            "metadata": {},
            "source": [
                "### Table 1\n",
                "- id: `titanic_train`\n",
                "- source: `/Users/stevep/Documents/code/APE_thesis/ape-thesis/usecases/titanic/train.csv`\n",
                "- DataClass: `MixedDataFrame`\n",
                "- DataClass: `NoRelevance`    "
            ]
        },
        {
            "cell_type": "code",
            "execution_count": 8,
            "metadata": {},
            "outputs": [
                {
                    "name": "stdout",
                    "output_type": "stream",
                    "text": [
                        "<class 'pandas.core.frame.DataFrame'>\n",
                        "RangeIndex: 891 entries, 0 to 890\n",
                        "Data columns (total 12 columns):\n",
                        " #   Column       Non-Null Count  Dtype  \n",
                        "---  ------       --------------  -----  \n",
                        " 0   PassengerId  891 non-null    int64  \n",
                        " 1   Survived     891 non-null    int64  \n",
                        " 2   Pclass       891 non-null    int64  \n",
                        " 3   Name         891 non-null    object \n",
                        " 4   Sex          891 non-null    object \n",
                        " 5   Age          714 non-null    float64\n",
                        " 6   SibSp        891 non-null    int64  \n",
                        " 7   Parch        891 non-null    int64  \n",
                        " 8   Ticket       891 non-null    object \n",
                        " 9   Fare         891 non-null    float64\n",
                        " 10  Cabin        204 non-null    object \n",
                        " 11  Embarked     889 non-null    object \n",
                        "dtypes: float64(2), int64(5), object(5)\n",
                        "memory usage: 83.7+ KB\n"
                    ]
                },
                {
                    "data": {
                        "text/plain": [
                            "None"
                        ]
                    },
                    "metadata": {},
                    "output_type": "display_data"
                },
                {
                    "data": {
                        "text/html": [
                            "<div>\n",
                            "<style scoped>\n",
                            "    .dataframe tbody tr th:only-of-type {\n",
                            "        vertical-align: middle;\n",
                            "    }\n",
                            "\n",
                            "    .dataframe tbody tr th {\n",
                            "        vertical-align: top;\n",
                            "    }\n",
                            "\n",
                            "    .dataframe thead th {\n",
                            "        text-align: right;\n",
                            "    }\n",
                            "</style>\n",
                            "<table border=\"1\" class=\"dataframe\">\n",
                            "  <thead>\n",
                            "    <tr style=\"text-align: right;\">\n",
                            "      <th></th>\n",
                            "      <th>PassengerId</th>\n",
                            "      <th>Survived</th>\n",
                            "      <th>Pclass</th>\n",
                            "      <th>Name</th>\n",
                            "      <th>Sex</th>\n",
                            "      <th>Age</th>\n",
                            "      <th>SibSp</th>\n",
                            "      <th>Parch</th>\n",
                            "      <th>Ticket</th>\n",
                            "      <th>Fare</th>\n",
                            "      <th>Cabin</th>\n",
                            "      <th>Embarked</th>\n",
                            "    </tr>\n",
                            "  </thead>\n",
                            "  <tbody>\n",
                            "    <tr>\n",
                            "      <th>0</th>\n",
                            "      <td>1</td>\n",
                            "      <td>0</td>\n",
                            "      <td>3</td>\n",
                            "      <td>Braund, Mr. Owen Harris</td>\n",
                            "      <td>male</td>\n",
                            "      <td>22.0</td>\n",
                            "      <td>1</td>\n",
                            "      <td>0</td>\n",
                            "      <td>A/5 21171</td>\n",
                            "      <td>7.2500</td>\n",
                            "      <td>NaN</td>\n",
                            "      <td>S</td>\n",
                            "    </tr>\n",
                            "    <tr>\n",
                            "      <th>1</th>\n",
                            "      <td>2</td>\n",
                            "      <td>1</td>\n",
                            "      <td>1</td>\n",
                            "      <td>Cumings, Mrs. John Bradley (Florence Briggs Th...</td>\n",
                            "      <td>female</td>\n",
                            "      <td>38.0</td>\n",
                            "      <td>1</td>\n",
                            "      <td>0</td>\n",
                            "      <td>PC 17599</td>\n",
                            "      <td>71.2833</td>\n",
                            "      <td>C85</td>\n",
                            "      <td>C</td>\n",
                            "    </tr>\n",
                            "    <tr>\n",
                            "      <th>2</th>\n",
                            "      <td>3</td>\n",
                            "      <td>1</td>\n",
                            "      <td>3</td>\n",
                            "      <td>Heikkinen, Miss. Laina</td>\n",
                            "      <td>female</td>\n",
                            "      <td>26.0</td>\n",
                            "      <td>0</td>\n",
                            "      <td>0</td>\n",
                            "      <td>STON/O2. 3101282</td>\n",
                            "      <td>7.9250</td>\n",
                            "      <td>NaN</td>\n",
                            "      <td>S</td>\n",
                            "    </tr>\n",
                            "    <tr>\n",
                            "      <th>3</th>\n",
                            "      <td>4</td>\n",
                            "      <td>1</td>\n",
                            "      <td>1</td>\n",
                            "      <td>Futrelle, Mrs. Jacques Heath (Lily May Peel)</td>\n",
                            "      <td>female</td>\n",
                            "      <td>35.0</td>\n",
                            "      <td>1</td>\n",
                            "      <td>0</td>\n",
                            "      <td>113803</td>\n",
                            "      <td>53.1000</td>\n",
                            "      <td>C123</td>\n",
                            "      <td>S</td>\n",
                            "    </tr>\n",
                            "    <tr>\n",
                            "      <th>4</th>\n",
                            "      <td>5</td>\n",
                            "      <td>0</td>\n",
                            "      <td>3</td>\n",
                            "      <td>Allen, Mr. William Henry</td>\n",
                            "      <td>male</td>\n",
                            "      <td>35.0</td>\n",
                            "      <td>0</td>\n",
                            "      <td>0</td>\n",
                            "      <td>373450</td>\n",
                            "      <td>8.0500</td>\n",
                            "      <td>NaN</td>\n",
                            "      <td>S</td>\n",
                            "    </tr>\n",
                            "  </tbody>\n",
                            "</table>\n",
                            "</div>"
                        ],
                        "text/plain": [
                            "   PassengerId  Survived  Pclass  \\\n",
                            "0            1         0       3   \n",
                            "1            2         1       1   \n",
                            "2            3         1       3   \n",
                            "3            4         1       1   \n",
                            "4            5         0       3   \n",
                            "\n",
                            "                                                Name     Sex   Age  SibSp  \\\n",
                            "0                            Braund, Mr. Owen Harris    male  22.0      1   \n",
                            "1  Cumings, Mrs. John Bradley (Florence Briggs Th...  female  38.0      1   \n",
                            "2                             Heikkinen, Miss. Laina  female  26.0      0   \n",
                            "3       Futrelle, Mrs. Jacques Heath (Lily May Peel)  female  35.0      1   \n",
                            "4                           Allen, Mr. William Henry    male  35.0      0   \n",
                            "\n",
                            "   Parch            Ticket     Fare Cabin Embarked  \n",
                            "0      0         A/5 21171   7.2500   NaN        S  \n",
                            "1      0          PC 17599  71.2833   C85        C  \n",
                            "2      0  STON/O2. 3101282   7.9250   NaN        S  \n",
                            "3      0            113803  53.1000  C123        S  \n",
                            "4      0            373450   8.0500   NaN        S  "
                        ]
                    },
                    "metadata": {},
                    "output_type": "display_data"
                }
            ],
            "source": [
                "titanic_train = load_table_csv('/Users/stevep/Documents/code/APE_thesis/ape-thesis/usecases/titanic/train.csv')"
            ]
        },
        {
            "attachments": {},
            "cell_type": "markdown",
            "metadata": {},
            "source": [
                "### Step 8: `column_split`\n",
                "#### Notes\n",
                "Splits a dataframe into X and y based on a column name\n",
                "#### inputs:\n",
                "- 1\n",
                "\t- DataClass: `MixedDataFrame`\n",
                "\t- StatisticalRelevance: `NoRelevance`\n",
                "\t- APE_label: `['titanic_train']`\n",
                "\t- src: `(0, 9)`\n",
                "- 2\n",
                "\t- DataClass: `IntColumn`\n",
                "\t- StatisticalRelevance: `DependentVariable`\n",
                "\t- APE_label: `['Survived']`\n",
                "\t- src: `(0, 0)`\n",
                "#### outputs:\n",
                "- 1\n",
                "\t- DataClass: `MixedDataFrame`\n",
                "\t- StatisticalRelevance: `IndependentVariable`\n",
                "- 2\n",
                "\t- DataClass: `IntSeries`\n",
                "\t- StatisticalRelevance: `DependentVariable`"
            ]
        },
        {
            "cell_type": "code",
            "execution_count": 9,
            "metadata": {},
            "outputs": [],
            "source": [
                "mixedDataFrame_8_1, intSeries_8_2 = column_split(df=titanic_train, column='Survived')"
            ]
        },
        {
            "attachments": {},
            "cell_type": "markdown",
            "metadata": {},
            "source": [
                "### Step 9: `init_sklearn_estimator`\n",
                "#### Notes\n",
                "Initializes a sklearn estimator.\n",
                "\n",
                "    The passed string must be one of the following:\n",
                "\n",
                "    - 'KernelRidgeRegressor'\n",
                "    - 'PerceptronClassifier'\n",
                "    - 'LogisticRegressionClassifier'\n",
                "    - 'LinearRegressor'\n",
                "    - 'ElasticNetRegressor'\n",
                "    - 'RidgeRegressor'\n",
                "    - 'DecisionTreeClassifier'\n",
                "    - 'DecisionTreeRegressor'\n",
                "    - 'LinearSVClassifier'\n",
                "    - 'LinearSVRregressor'\n",
                "    - 'RandomForestClassifier'\n",
                "    - 'AdaBoostClassifier'\n",
                "    - 'VotingClassifier'\n",
                "    - 'RandomForestRegressor'\n",
                "    - 'AdaBoostRegressor'\n",
                "    - 'VotingRegressor'\n",
                "    - 'DummyClassifier'\n",
                "    - 'DummyRegressor'\n",
                "    - 'KMeansClustor'\n",
                "    - 'DBScanClustor'\n",
                "    - 'KNeighborsClassifier'\n",
                "    - 'KNeighborsRegressor'\n",
                "    - 'GridSearchCV'\n",
                "    - 'HalvingGridSearchCV'\n",
                "    - 'SimpleImputer'\n",
                "    - 'IterativeImputer'\n",
                "    - 'KNNImputer'\n",
                "    - 'KNNImputer'\n",
                "    - 'CatKNNImputer' #! NO\n",
                "    - 'PCA'\n",
                "    - 'TruncatedSVD'\n",
                "    \n",
                "#### inputs:\n",
                "\n",
                "#### outputs:\n",
                "- 1\n",
                "\t- DataClass: `DummyClassifier`\n",
                "\t- StatisticalRelevance: `NoRelevance`"
            ]
        },
        {
            "cell_type": "code",
            "execution_count": 10,
            "metadata": {},
            "outputs": [],
            "source": [
                "dummyClassifier_9_1 = init_sklearn_estimator(estimator=\"DummyClassifier\")"
            ]
        },
        {
            "attachments": {},
            "cell_type": "markdown",
            "metadata": {},
            "source": [
                "### Step 10: `train_test_split`\n",
                "#### Notes\n",
                "Splits a dataframe into X_train, y_train, X_test, y_test\n",
                "    > returns strings instead of series if y is a string\n",
                "    \n",
                "#### inputs:\n",
                "- 1\n",
                "\t- DataClass: `MixedDataFrame`\n",
                "\t- StatisticalRelevance: `IndependentVariable`\n",
                "\t- src: `(8, 0)`\n",
                "- 2\n",
                "\t- DataClass: `IntSeries`\n",
                "\t- StatisticalRelevance: `DependentVariable`\n",
                "\t- src: `(8, 1)`\n",
                "#### outputs:\n",
                "- 1\n",
                "\t- DataClass: `MixedDataFrame`\n",
                "\t- StatisticalRelevance: `IndependentVariable`\n",
                "- 2\n",
                "\t- DataClass: `IntSeries`\n",
                "\t- StatisticalRelevance: `DependentVariable`\n",
                "- 3\n",
                "\t- DataClass: `MixedDataFrame`\n",
                "\t- StatisticalRelevance: `IndependentVariable`\n",
                "- 4\n",
                "\t- DataClass: `IntSeries`\n",
                "\t- StatisticalRelevance: `DependentVariable`"
            ]
        },
        {
            "cell_type": "code",
            "execution_count": 11,
            "metadata": {},
            "outputs": [],
            "source": [
                "mixedDataFrame_10_1, intSeries_10_2, mixedDataFrame_10_3, intSeries_10_4 = train_test_split(df=mixedDataFrame_8_1, y=intSeries_8_2)"
            ]
        },
        {
            "attachments": {},
            "cell_type": "markdown",
            "metadata": {},
            "source": [
                "### Step 11: `predict`\n",
                "#### Notes\n",
                "Predicts using a FITTED estimator\n",
                "#### inputs:\n",
                "- 1\n",
                "\t- DataClass: `DummyClassifier`\n",
                "\t- StatisticalRelevance: `NoRelevance`\n",
                "\t- src: `(9, 0)`\n",
                "- 2\n",
                "\t- DataClass: `MixedDataFrame`\n",
                "\t- StatisticalRelevance: `IndependentVariable`\n",
                "\t- src: `(10, 2)`\n",
                "#### outputs:\n",
                "- 1\n",
                "\t- DataClass: `MixedSeries`\n",
                "\t- StatisticalRelevance: `Prediction`"
            ]
        },
        {
            "cell_type": "code",
            "execution_count": 12,
            "metadata": {},
            "outputs": [
                {
                    "ename": "NotFittedError",
                    "evalue": "This DummyClassifier instance is not fitted yet. Call 'fit' with appropriate arguments before using this estimator.",
                    "output_type": "error",
                    "traceback": [
                        "\u001b[0;31m---------------------------------------------------------------------------\u001b[0m",
                        "\u001b[0;31mNotFittedError\u001b[0m                            Traceback (most recent call last)",
                        "File \u001b[0;32m~/Documents/code/APE_thesis/ape-thesis/wrapper_functions.py:1726\u001b[0m, in \u001b[0;36mpredict\u001b[0;34m(estimator, X, **kwargs)\u001b[0m\n\u001b[1;32m   1725\u001b[0m \u001b[39mtry\u001b[39;00m:\n\u001b[0;32m-> 1726\u001b[0m     \u001b[39mreturn\u001b[39;00m pd\u001b[39m.\u001b[39mSeries(estimator\u001b[39m.\u001b[39;49mpredict(X, \u001b[39m*\u001b[39;49m\u001b[39m*\u001b[39;49mkwargs), index\u001b[39m=\u001b[39mX\u001b[39m.\u001b[39mindex, name\u001b[39m=\u001b[39m\u001b[39m'\u001b[39m\u001b[39mprediction\u001b[39m\u001b[39m'\u001b[39m)\n\u001b[1;32m   1727\u001b[0m \u001b[39mexcept\u001b[39;00m \u001b[39mAttributeError\u001b[39;00m:\n",
                        "File \u001b[0;32m~/opt/anaconda3/envs/APE/lib/python3.10/site-packages/sklearn/dummy.py:246\u001b[0m, in \u001b[0;36mDummyClassifier.predict\u001b[0;34m(self, X)\u001b[0m\n\u001b[1;32m    234\u001b[0m \u001b[39m\u001b[39m\u001b[39m\"\"\"Perform classification on test vectors X.\u001b[39;00m\n\u001b[1;32m    235\u001b[0m \n\u001b[1;32m    236\u001b[0m \u001b[39mParameters\u001b[39;00m\n\u001b[0;32m   (...)\u001b[0m\n\u001b[1;32m    244\u001b[0m \u001b[39m    Predicted target values for X.\u001b[39;00m\n\u001b[1;32m    245\u001b[0m \u001b[39m\"\"\"\u001b[39;00m\n\u001b[0;32m--> 246\u001b[0m check_is_fitted(\u001b[39mself\u001b[39;49m)\n\u001b[1;32m    248\u001b[0m \u001b[39m# numpy random_state expects Python int and not long as size argument\u001b[39;00m\n\u001b[1;32m    249\u001b[0m \u001b[39m# under Windows\u001b[39;00m\n",
                        "File \u001b[0;32m~/opt/anaconda3/envs/APE/lib/python3.10/site-packages/sklearn/utils/validation.py:1390\u001b[0m, in \u001b[0;36mcheck_is_fitted\u001b[0;34m(estimator, attributes, msg, all_or_any)\u001b[0m\n\u001b[1;32m   1389\u001b[0m \u001b[39mif\u001b[39;00m \u001b[39mnot\u001b[39;00m fitted:\n\u001b[0;32m-> 1390\u001b[0m     \u001b[39mraise\u001b[39;00m NotFittedError(msg \u001b[39m%\u001b[39m {\u001b[39m\"\u001b[39m\u001b[39mname\u001b[39m\u001b[39m\"\u001b[39m: \u001b[39mtype\u001b[39m(estimator)\u001b[39m.\u001b[39m\u001b[39m__name__\u001b[39m})\n",
                        "\u001b[0;31mNotFittedError\u001b[0m: This DummyClassifier instance is not fitted yet. Call 'fit' with appropriate arguments before using this estimator.",
                        "\nDuring handling of the above exception, another exception occurred:\n",
                        "\u001b[0;31mNotFittedError\u001b[0m                            Traceback (most recent call last)",
                        "Cell \u001b[0;32mIn[12], line 1\u001b[0m\n\u001b[0;32m----> 1\u001b[0m mixedSeries_11_1 \u001b[39m=\u001b[39m predict(estimator\u001b[39m=\u001b[39;49mdummyClassifier_9_1, X\u001b[39m=\u001b[39;49mmixedDataFrame_10_3)\n",
                        "File \u001b[0;32m~/Documents/code/APE_thesis/ape-thesis/wrapper_functions.py:1728\u001b[0m, in \u001b[0;36mpredict\u001b[0;34m(estimator, X, **kwargs)\u001b[0m\n\u001b[1;32m   1726\u001b[0m     \u001b[39mreturn\u001b[39;00m pd\u001b[39m.\u001b[39mSeries(estimator\u001b[39m.\u001b[39mpredict(X, \u001b[39m*\u001b[39m\u001b[39m*\u001b[39mkwargs), index\u001b[39m=\u001b[39mX\u001b[39m.\u001b[39mindex, name\u001b[39m=\u001b[39m\u001b[39m'\u001b[39m\u001b[39mprediction\u001b[39m\u001b[39m'\u001b[39m)\n\u001b[1;32m   1727\u001b[0m \u001b[39mexcept\u001b[39;00m \u001b[39mAttributeError\u001b[39;00m:\n\u001b[0;32m-> 1728\u001b[0m     \u001b[39mreturn\u001b[39;00m pd\u001b[39m.\u001b[39mSeries(estimator\u001b[39m.\u001b[39;49mpredict(X, \u001b[39m*\u001b[39;49m\u001b[39m*\u001b[39;49mkwargs), name\u001b[39m=\u001b[39m\u001b[39m'\u001b[39m\u001b[39mprediction\u001b[39m\u001b[39m'\u001b[39m)\n",
                        "File \u001b[0;32m~/opt/anaconda3/envs/APE/lib/python3.10/site-packages/sklearn/dummy.py:246\u001b[0m, in \u001b[0;36mDummyClassifier.predict\u001b[0;34m(self, X)\u001b[0m\n\u001b[1;32m    233\u001b[0m \u001b[39mdef\u001b[39;00m \u001b[39mpredict\u001b[39m(\u001b[39mself\u001b[39m, X):\n\u001b[1;32m    234\u001b[0m \u001b[39m    \u001b[39m\u001b[39m\"\"\"Perform classification on test vectors X.\u001b[39;00m\n\u001b[1;32m    235\u001b[0m \n\u001b[1;32m    236\u001b[0m \u001b[39m    Parameters\u001b[39;00m\n\u001b[0;32m   (...)\u001b[0m\n\u001b[1;32m    244\u001b[0m \u001b[39m        Predicted target values for X.\u001b[39;00m\n\u001b[1;32m    245\u001b[0m \u001b[39m    \"\"\"\u001b[39;00m\n\u001b[0;32m--> 246\u001b[0m     check_is_fitted(\u001b[39mself\u001b[39;49m)\n\u001b[1;32m    248\u001b[0m     \u001b[39m# numpy random_state expects Python int and not long as size argument\u001b[39;00m\n\u001b[1;32m    249\u001b[0m     \u001b[39m# under Windows\u001b[39;00m\n\u001b[1;32m    250\u001b[0m     n_samples \u001b[39m=\u001b[39m _num_samples(X)\n",
                        "File \u001b[0;32m~/opt/anaconda3/envs/APE/lib/python3.10/site-packages/sklearn/utils/validation.py:1390\u001b[0m, in \u001b[0;36mcheck_is_fitted\u001b[0;34m(estimator, attributes, msg, all_or_any)\u001b[0m\n\u001b[1;32m   1385\u001b[0m     fitted \u001b[39m=\u001b[39m [\n\u001b[1;32m   1386\u001b[0m         v \u001b[39mfor\u001b[39;00m v \u001b[39min\u001b[39;00m \u001b[39mvars\u001b[39m(estimator) \u001b[39mif\u001b[39;00m v\u001b[39m.\u001b[39mendswith(\u001b[39m\"\u001b[39m\u001b[39m_\u001b[39m\u001b[39m\"\u001b[39m) \u001b[39mand\u001b[39;00m \u001b[39mnot\u001b[39;00m v\u001b[39m.\u001b[39mstartswith(\u001b[39m\"\u001b[39m\u001b[39m__\u001b[39m\u001b[39m\"\u001b[39m)\n\u001b[1;32m   1387\u001b[0m     ]\n\u001b[1;32m   1389\u001b[0m \u001b[39mif\u001b[39;00m \u001b[39mnot\u001b[39;00m fitted:\n\u001b[0;32m-> 1390\u001b[0m     \u001b[39mraise\u001b[39;00m NotFittedError(msg \u001b[39m%\u001b[39m {\u001b[39m\"\u001b[39m\u001b[39mname\u001b[39m\u001b[39m\"\u001b[39m: \u001b[39mtype\u001b[39m(estimator)\u001b[39m.\u001b[39m\u001b[39m__name__\u001b[39m})\n",
                        "\u001b[0;31mNotFittedError\u001b[0m: This DummyClassifier instance is not fitted yet. Call 'fit' with appropriate arguments before using this estimator."
                    ]
                }
            ],
            "source": [
                "mixedSeries_11_1 = predict(estimator=dummyClassifier_9_1, X=mixedDataFrame_10_3)"
            ]
        },
        {
            "attachments": {},
            "cell_type": "markdown",
            "metadata": {},
            "source": [
                "### Step 12: `fit_estimator`\n",
                "#### Notes\n",
                "Fits an estimator\n",
                "    > Operation is in-place even though it returns the estimator!\n",
                "    \n",
                "#### inputs:\n",
                "- 1\n",
                "\t- DataClass: `DummyClassifier`\n",
                "\t- StatisticalRelevance: `NoRelevance`\n",
                "\t- src: `(9, 0)`\n",
                "- 2\n",
                "\t- DataClass: `MixedDataFrame`\n",
                "\t- StatisticalRelevance: `IndependentVariable`\n",
                "\t- src: `(8, 0)`\n",
                "- 3\n",
                "\t- DataClass: `IntSeries`\n",
                "\t- StatisticalRelevance: `DependentVariable`\n",
                "\t- src: `(10, 1)`\n",
                "#### outputs:\n",
                "- 1\n",
                "\t- DataClass: `DummyClassifier`\n",
                "\t- StatisticalRelevance: `NoRelevance`"
            ]
        },
        {
            "cell_type": "code",
            "execution_count": null,
            "metadata": {},
            "outputs": [],
            "source": [
                "dummyClassifier_12_1 = fit_estimator(estimator=dummyClassifier_9_1, X=mixedDataFrame_8_1, y=intSeries_10_2)"
            ]
        },
        {
            "attachments": {},
            "cell_type": "markdown",
            "metadata": {},
            "source": [
                "### Step 13: `classification_report`\n",
                "#### Notes\n",
                "Displays a classification report\n",
                "#### inputs:\n",
                "- 1\n",
                "\t- DataClass: `MixedSeries`\n",
                "\t- StatisticalRelevance: `Prediction`\n",
                "\t- src: `(11, 0)`\n",
                "- 2\n",
                "\t- DataClass: `IntSeries`\n",
                "\t- StatisticalRelevance: `DependentVariable`\n",
                "\t- src: `(10, 3)`\n",
                "#### outputs:\n",
                "- 1\n",
                "\t- DataClass: `ClassificationReport`\n",
                "\t- StatisticalRelevance: `NoRelevance`"
            ]
        },
        {
            "cell_type": "code",
            "execution_count": null,
            "metadata": {},
            "outputs": [],
            "source": [
                "classificationReport_13_1 = classification_report(y_true=mixedSeries_11_1, y_pred=intSeries_10_4)"
            ]
        }
    ],
    "metadata": {
        "kernelspec": {
            "display_name": "APE",
            "language": "python",
            "name": "python3"
        },
        "language_info": {
            "codemirror_mode": {
                "name": "ipython",
                "version": 3
            },
            "file_extension": ".py",
            "mimetype": "text/x-python",
            "name": "python",
            "nbconvert_exporter": "python",
            "pygments_lexer": "ipython3",
            "version": "3.10.10"
        },
        "orig_nbformat": 4
    },
    "nbformat": 4,
    "nbformat_minor": 2
}
