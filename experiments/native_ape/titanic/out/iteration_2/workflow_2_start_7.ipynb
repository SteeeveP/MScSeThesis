{
    "cells": [
        {
            "attachments": {},
            "cell_type": "markdown",
            "metadata": {},
            "source": [
                "![workflow graph](Figures/SolutionNo_1_length_6.png \"Workflow Graph\")"
            ]
        },
        {
            "cell_type": "code",
            "execution_count": 1,
            "metadata": {},
            "outputs": [],
            "source": [
                "from pathlib import Path\n",
                "import sys\n",
                "\n",
                "import pandas as pd\n",
                "\n",
                "sys.path.append('/Users/stevep/Documents/code/APE_thesis/ape-thesis')\n",
                "from wrapper_functions import *    "
            ]
        },
        {
            "attachments": {},
            "cell_type": "markdown",
            "metadata": {},
            "source": [
                "## Workflow Input Objects"
            ]
        },
        {
            "attachments": {},
            "cell_type": "markdown",
            "metadata": {},
            "source": [
                "### Table 1\n",
                "- id: `titanic_train`\n",
                "- source: `/Users/stevep/Documents/code/APE_thesis/ape-thesis/usecases/titanic/train.csv`\n",
                "- DataClass: `MixedDataFrame`\n",
                "- DataClass: `NoRelevance`    "
            ]
        },
        {
            "cell_type": "code",
            "execution_count": 2,
            "metadata": {},
            "outputs": [
                {
                    "name": "stdout",
                    "output_type": "stream",
                    "text": [
                        "<class 'pandas.core.frame.DataFrame'>\n",
                        "RangeIndex: 891 entries, 0 to 890\n",
                        "Data columns (total 12 columns):\n",
                        " #   Column       Non-Null Count  Dtype  \n",
                        "---  ------       --------------  -----  \n",
                        " 0   PassengerId  891 non-null    int64  \n",
                        " 1   Survived     891 non-null    int64  \n",
                        " 2   Pclass       891 non-null    int64  \n",
                        " 3   Name         891 non-null    object \n",
                        " 4   Sex          891 non-null    object \n",
                        " 5   Age          714 non-null    float64\n",
                        " 6   SibSp        891 non-null    int64  \n",
                        " 7   Parch        891 non-null    int64  \n",
                        " 8   Ticket       891 non-null    object \n",
                        " 9   Fare         891 non-null    float64\n",
                        " 10  Cabin        204 non-null    object \n",
                        " 11  Embarked     889 non-null    object \n",
                        "dtypes: float64(2), int64(5), object(5)\n",
                        "memory usage: 83.7+ KB\n"
                    ]
                },
                {
                    "data": {
                        "text/plain": [
                            "None"
                        ]
                    },
                    "metadata": {},
                    "output_type": "display_data"
                },
                {
                    "data": {
                        "text/html": [
                            "<div>\n",
                            "<style scoped>\n",
                            "    .dataframe tbody tr th:only-of-type {\n",
                            "        vertical-align: middle;\n",
                            "    }\n",
                            "\n",
                            "    .dataframe tbody tr th {\n",
                            "        vertical-align: top;\n",
                            "    }\n",
                            "\n",
                            "    .dataframe thead th {\n",
                            "        text-align: right;\n",
                            "    }\n",
                            "</style>\n",
                            "<table border=\"1\" class=\"dataframe\">\n",
                            "  <thead>\n",
                            "    <tr style=\"text-align: right;\">\n",
                            "      <th></th>\n",
                            "      <th>PassengerId</th>\n",
                            "      <th>Survived</th>\n",
                            "      <th>Pclass</th>\n",
                            "      <th>Name</th>\n",
                            "      <th>Sex</th>\n",
                            "      <th>Age</th>\n",
                            "      <th>SibSp</th>\n",
                            "      <th>Parch</th>\n",
                            "      <th>Ticket</th>\n",
                            "      <th>Fare</th>\n",
                            "      <th>Cabin</th>\n",
                            "      <th>Embarked</th>\n",
                            "    </tr>\n",
                            "  </thead>\n",
                            "  <tbody>\n",
                            "    <tr>\n",
                            "      <th>0</th>\n",
                            "      <td>1</td>\n",
                            "      <td>0</td>\n",
                            "      <td>3</td>\n",
                            "      <td>Braund, Mr. Owen Harris</td>\n",
                            "      <td>male</td>\n",
                            "      <td>22.0</td>\n",
                            "      <td>1</td>\n",
                            "      <td>0</td>\n",
                            "      <td>A/5 21171</td>\n",
                            "      <td>7.2500</td>\n",
                            "      <td>NaN</td>\n",
                            "      <td>S</td>\n",
                            "    </tr>\n",
                            "    <tr>\n",
                            "      <th>1</th>\n",
                            "      <td>2</td>\n",
                            "      <td>1</td>\n",
                            "      <td>1</td>\n",
                            "      <td>Cumings, Mrs. John Bradley (Florence Briggs Th...</td>\n",
                            "      <td>female</td>\n",
                            "      <td>38.0</td>\n",
                            "      <td>1</td>\n",
                            "      <td>0</td>\n",
                            "      <td>PC 17599</td>\n",
                            "      <td>71.2833</td>\n",
                            "      <td>C85</td>\n",
                            "      <td>C</td>\n",
                            "    </tr>\n",
                            "    <tr>\n",
                            "      <th>2</th>\n",
                            "      <td>3</td>\n",
                            "      <td>1</td>\n",
                            "      <td>3</td>\n",
                            "      <td>Heikkinen, Miss. Laina</td>\n",
                            "      <td>female</td>\n",
                            "      <td>26.0</td>\n",
                            "      <td>0</td>\n",
                            "      <td>0</td>\n",
                            "      <td>STON/O2. 3101282</td>\n",
                            "      <td>7.9250</td>\n",
                            "      <td>NaN</td>\n",
                            "      <td>S</td>\n",
                            "    </tr>\n",
                            "    <tr>\n",
                            "      <th>3</th>\n",
                            "      <td>4</td>\n",
                            "      <td>1</td>\n",
                            "      <td>1</td>\n",
                            "      <td>Futrelle, Mrs. Jacques Heath (Lily May Peel)</td>\n",
                            "      <td>female</td>\n",
                            "      <td>35.0</td>\n",
                            "      <td>1</td>\n",
                            "      <td>0</td>\n",
                            "      <td>113803</td>\n",
                            "      <td>53.1000</td>\n",
                            "      <td>C123</td>\n",
                            "      <td>S</td>\n",
                            "    </tr>\n",
                            "    <tr>\n",
                            "      <th>4</th>\n",
                            "      <td>5</td>\n",
                            "      <td>0</td>\n",
                            "      <td>3</td>\n",
                            "      <td>Allen, Mr. William Henry</td>\n",
                            "      <td>male</td>\n",
                            "      <td>35.0</td>\n",
                            "      <td>0</td>\n",
                            "      <td>0</td>\n",
                            "      <td>373450</td>\n",
                            "      <td>8.0500</td>\n",
                            "      <td>NaN</td>\n",
                            "      <td>S</td>\n",
                            "    </tr>\n",
                            "  </tbody>\n",
                            "</table>\n",
                            "</div>"
                        ],
                        "text/plain": [
                            "   PassengerId  Survived  Pclass  \\\n",
                            "0            1         0       3   \n",
                            "1            2         1       1   \n",
                            "2            3         1       3   \n",
                            "3            4         1       1   \n",
                            "4            5         0       3   \n",
                            "\n",
                            "                                                Name     Sex   Age  SibSp  \\\n",
                            "0                            Braund, Mr. Owen Harris    male  22.0      1   \n",
                            "1  Cumings, Mrs. John Bradley (Florence Briggs Th...  female  38.0      1   \n",
                            "2                             Heikkinen, Miss. Laina  female  26.0      0   \n",
                            "3       Futrelle, Mrs. Jacques Heath (Lily May Peel)  female  35.0      1   \n",
                            "4                           Allen, Mr. William Henry    male  35.0      0   \n",
                            "\n",
                            "   Parch            Ticket     Fare Cabin Embarked  \n",
                            "0      0         A/5 21171   7.2500   NaN        S  \n",
                            "1      0          PC 17599  71.2833   C85        C  \n",
                            "2      0  STON/O2. 3101282   7.9250   NaN        S  \n",
                            "3      0            113803  53.1000  C123        S  \n",
                            "4      0            373450   8.0500   NaN        S  "
                        ]
                    },
                    "metadata": {},
                    "output_type": "display_data"
                }
            ],
            "source": [
                "titanic_train = load_table_csv('/Users/stevep/Documents/code/APE_thesis/ape-thesis/usecases/titanic/train.csv')"
            ]
        },
        {
            "attachments": {},
            "cell_type": "markdown",
            "metadata": {},
            "source": [
                "### Step 8: `column_split`\n",
                "#### Notes\n",
                "Splits a dataframe into X and y based on a column name\n",
                "#### inputs:\n",
                "- 1\n",
                "\t- DataClass: `MixedDataFrame`\n",
                "\t- StatisticalRelevance: `NoRelevance`\n",
                "\t- APE_label: `['titanic_train']`\n",
                "\t- src: `(0, 9)`\n",
                "- 2\n",
                "\t- DataClass: `IntColumn`\n",
                "\t- StatisticalRelevance: `DependentVariable`\n",
                "\t- APE_label: `['Survived']`\n",
                "\t- src: `(0, 0)`\n",
                "#### outputs:\n",
                "- 1\n",
                "\t- DataClass: `MixedDataFrame`\n",
                "\t- StatisticalRelevance: `IndependentVariable`\n",
                "- 2\n",
                "\t- DataClass: `IntSeries`\n",
                "\t- StatisticalRelevance: `DependentVariable`"
            ]
        },
        {
            "cell_type": "code",
            "execution_count": 3,
            "metadata": {},
            "outputs": [],
            "source": [
                "mixedDataFrame_8_1, intSeries_8_2 = column_split(df=titanic_train, column='Survived')"
            ]
        },
        {
            "attachments": {},
            "cell_type": "markdown",
            "metadata": {},
            "source": [
                "### Step 9: `train_test_split`\n",
                "#### Notes\n",
                "Splits a dataframe into X_train, y_train, X_test, y_test\n",
                "    > returns strings instead of series if y is a string\n",
                "    \n",
                "#### inputs:\n",
                "- 1\n",
                "\t- DataClass: `MixedDataFrame`\n",
                "\t- StatisticalRelevance: `IndependentVariable`\n",
                "\t- src: `(8, 0)`\n",
                "- 2\n",
                "\t- DataClass: `IntSeries`\n",
                "\t- StatisticalRelevance: `DependentVariable`\n",
                "\t- src: `(8, 1)`\n",
                "#### outputs:\n",
                "- 1\n",
                "\t- DataClass: `MixedDataFrame`\n",
                "\t- StatisticalRelevance: `IndependentVariable`\n",
                "- 2\n",
                "\t- DataClass: `IntSeries`\n",
                "\t- StatisticalRelevance: `DependentVariable`\n",
                "- 3\n",
                "\t- DataClass: `MixedDataFrame`\n",
                "\t- StatisticalRelevance: `IndependentVariable`\n",
                "- 4\n",
                "\t- DataClass: `IntSeries`\n",
                "\t- StatisticalRelevance: `DependentVariable`"
            ]
        },
        {
            "cell_type": "code",
            "execution_count": 4,
            "metadata": {},
            "outputs": [],
            "source": [
                "mixedDataFrame_9_1, intSeries_9_2, mixedDataFrame_9_3, intSeries_9_4 = train_test_split(df=mixedDataFrame_8_1, y=intSeries_8_2)"
            ]
        },
        {
            "attachments": {},
            "cell_type": "markdown",
            "metadata": {},
            "source": [
                "### Step 10: `init_sklearn_estimator`\n",
                "#### Notes\n",
                "Initializes a sklearn estimator.\n",
                "\n",
                "    The passed string must be one of the following:\n",
                "\n",
                "    - 'KernelRidgeRegressor'\n",
                "    - 'PerceptronClassifier'\n",
                "    - 'LogisticRegressionClassifier'\n",
                "    - 'LinearRegressor'\n",
                "    - 'ElasticNetRegressor'\n",
                "    - 'RidgeRegressor'\n",
                "    - 'DecisionTreeClassifier'\n",
                "    - 'DecisionTreeRegressor'\n",
                "    - 'LinearSVClassifier'\n",
                "    - 'LinearSVRregressor'\n",
                "    - 'RandomForestClassifier'\n",
                "    - 'AdaBoostClassifier'\n",
                "    - 'VotingClassifier'\n",
                "    - 'RandomForestRegressor'\n",
                "    - 'AdaBoostRegressor'\n",
                "    - 'VotingRegressor'\n",
                "    - 'DummyClassifier'\n",
                "    - 'DummyRegressor'\n",
                "    - 'KMeansClustor'\n",
                "    - 'DBScanClustor'\n",
                "    - 'KNeighborsClassifier'\n",
                "    - 'KNeighborsRegressor'\n",
                "    - 'GridSearchCV'\n",
                "    - 'HalvingGridSearchCV'\n",
                "    - 'SimpleImputer'\n",
                "    - 'IterativeImputer'\n",
                "    - 'KNNImputer'\n",
                "    - 'KNNImputer'\n",
                "    - 'CatKNNImputer' #! NO\n",
                "    - 'PCA'\n",
                "    - 'TruncatedSVD'\n",
                "    \n",
                "#### inputs:\n",
                "\n",
                "#### outputs:\n",
                "- 1\n",
                "\t- DataClass: `AdaBoostClassifier`\n",
                "\t- StatisticalRelevance: `NoRelevance`"
            ]
        },
        {
            "cell_type": "code",
            "execution_count": 5,
            "metadata": {},
            "outputs": [],
            "source": [
                "adaBoostClassifier_10_1 = init_sklearn_estimator(estimator=\"AdaBoostClassifier\")"
            ]
        },
        {
            "attachments": {},
            "cell_type": "markdown",
            "metadata": {},
            "source": [
                "### Step 11: `fit_estimator`\n",
                "#### Notes\n",
                "Fits an estimator\n",
                "    > Operation is in-place even though it returns the estimator!\n",
                "    \n",
                "#### inputs:\n",
                "- 1\n",
                "\t- DataClass: `AdaBoostClassifier`\n",
                "\t- StatisticalRelevance: `NoRelevance`\n",
                "\t- src: `(10, 0)`\n",
                "- 2\n",
                "\t- DataClass: `MixedDataFrame`\n",
                "\t- StatisticalRelevance: `IndependentVariable`\n",
                "\t- src: `(9, 2)`\n",
                "- 3\n",
                "\t- DataClass: `IntColumn`\n",
                "\t- StatisticalRelevance: `DependentVariable`\n",
                "\t- APE_label: `['Survived']`\n",
                "\t- src: `(0, 0)`\n",
                "#### outputs:\n",
                "- 1\n",
                "\t- DataClass: `AdaBoostClassifier`\n",
                "\t- StatisticalRelevance: `NoRelevance`"
            ]
        },
        {
            "cell_type": "code",
            "execution_count": 6,
            "metadata": {},
            "outputs": [
                {
                    "ename": "KeyError",
                    "evalue": "'Survived'",
                    "output_type": "error",
                    "traceback": [
                        "\u001b[0;31m---------------------------------------------------------------------------\u001b[0m",
                        "\u001b[0;31mKeyError\u001b[0m                                  Traceback (most recent call last)",
                        "File \u001b[0;32m~/opt/anaconda3/envs/APE/lib/python3.10/site-packages/pandas/core/indexes/base.py:3802\u001b[0m, in \u001b[0;36mIndex.get_loc\u001b[0;34m(self, key, method, tolerance)\u001b[0m\n\u001b[1;32m   3801\u001b[0m \u001b[39mtry\u001b[39;00m:\n\u001b[0;32m-> 3802\u001b[0m     \u001b[39mreturn\u001b[39;00m \u001b[39mself\u001b[39;49m\u001b[39m.\u001b[39;49m_engine\u001b[39m.\u001b[39;49mget_loc(casted_key)\n\u001b[1;32m   3803\u001b[0m \u001b[39mexcept\u001b[39;00m \u001b[39mKeyError\u001b[39;00m \u001b[39mas\u001b[39;00m err:\n",
                        "File \u001b[0;32m~/opt/anaconda3/envs/APE/lib/python3.10/site-packages/pandas/_libs/index.pyx:138\u001b[0m, in \u001b[0;36mpandas._libs.index.IndexEngine.get_loc\u001b[0;34m()\u001b[0m\n",
                        "File \u001b[0;32m~/opt/anaconda3/envs/APE/lib/python3.10/site-packages/pandas/_libs/index.pyx:165\u001b[0m, in \u001b[0;36mpandas._libs.index.IndexEngine.get_loc\u001b[0;34m()\u001b[0m\n",
                        "File \u001b[0;32mpandas/_libs/hashtable_class_helper.pxi:5745\u001b[0m, in \u001b[0;36mpandas._libs.hashtable.PyObjectHashTable.get_item\u001b[0;34m()\u001b[0m\n",
                        "File \u001b[0;32mpandas/_libs/hashtable_class_helper.pxi:5753\u001b[0m, in \u001b[0;36mpandas._libs.hashtable.PyObjectHashTable.get_item\u001b[0;34m()\u001b[0m\n",
                        "\u001b[0;31mKeyError\u001b[0m: 'Survived'",
                        "\nThe above exception was the direct cause of the following exception:\n",
                        "\u001b[0;31mKeyError\u001b[0m                                  Traceback (most recent call last)",
                        "Cell \u001b[0;32mIn[6], line 1\u001b[0m\n\u001b[0;32m----> 1\u001b[0m adaBoostClassifier_11_1 \u001b[39m=\u001b[39m fit_estimator(estimator\u001b[39m=\u001b[39;49madaBoostClassifier_10_1, X\u001b[39m=\u001b[39;49mmixedDataFrame_9_3, y\u001b[39m=\u001b[39;49m\u001b[39m'\u001b[39;49m\u001b[39mSurvived\u001b[39;49m\u001b[39m'\u001b[39;49m)\n",
                        "File \u001b[0;32m~/Documents/code/APE_thesis/ape-thesis/wrapper_functions.py:1714\u001b[0m, in \u001b[0;36mfit_estimator\u001b[0;34m(estimator, X, y, **kwargs)\u001b[0m\n\u001b[1;32m   1710\u001b[0m \u001b[39m\u001b[39m\u001b[39m\"\"\"Fits an estimator\u001b[39;00m\n\u001b[1;32m   1711\u001b[0m \u001b[39m> Operation is in-place even though it returns the estimator!\u001b[39;00m\n\u001b[1;32m   1712\u001b[0m \u001b[39m\"\"\"\u001b[39;00m\n\u001b[1;32m   1713\u001b[0m \u001b[39mif\u001b[39;00m \u001b[39misinstance\u001b[39m(y, \u001b[39mstr\u001b[39m):\n\u001b[0;32m-> 1714\u001b[0m     y \u001b[39m=\u001b[39m X[y]\n\u001b[1;32m   1715\u001b[0m     X \u001b[39m=\u001b[39m X\u001b[39m.\u001b[39mdrop(columns\u001b[39m=\u001b[39my)\n\u001b[1;32m   1716\u001b[0m \u001b[39mreturn\u001b[39;00m estimator\u001b[39m.\u001b[39mfit(X, y, \u001b[39m*\u001b[39m\u001b[39m*\u001b[39mkwargs)\n",
                        "File \u001b[0;32m~/opt/anaconda3/envs/APE/lib/python3.10/site-packages/pandas/core/frame.py:3807\u001b[0m, in \u001b[0;36mDataFrame.__getitem__\u001b[0;34m(self, key)\u001b[0m\n\u001b[1;32m   3805\u001b[0m \u001b[39mif\u001b[39;00m \u001b[39mself\u001b[39m\u001b[39m.\u001b[39mcolumns\u001b[39m.\u001b[39mnlevels \u001b[39m>\u001b[39m \u001b[39m1\u001b[39m:\n\u001b[1;32m   3806\u001b[0m     \u001b[39mreturn\u001b[39;00m \u001b[39mself\u001b[39m\u001b[39m.\u001b[39m_getitem_multilevel(key)\n\u001b[0;32m-> 3807\u001b[0m indexer \u001b[39m=\u001b[39m \u001b[39mself\u001b[39;49m\u001b[39m.\u001b[39;49mcolumns\u001b[39m.\u001b[39;49mget_loc(key)\n\u001b[1;32m   3808\u001b[0m \u001b[39mif\u001b[39;00m is_integer(indexer):\n\u001b[1;32m   3809\u001b[0m     indexer \u001b[39m=\u001b[39m [indexer]\n",
                        "File \u001b[0;32m~/opt/anaconda3/envs/APE/lib/python3.10/site-packages/pandas/core/indexes/base.py:3804\u001b[0m, in \u001b[0;36mIndex.get_loc\u001b[0;34m(self, key, method, tolerance)\u001b[0m\n\u001b[1;32m   3802\u001b[0m     \u001b[39mreturn\u001b[39;00m \u001b[39mself\u001b[39m\u001b[39m.\u001b[39m_engine\u001b[39m.\u001b[39mget_loc(casted_key)\n\u001b[1;32m   3803\u001b[0m \u001b[39mexcept\u001b[39;00m \u001b[39mKeyError\u001b[39;00m \u001b[39mas\u001b[39;00m err:\n\u001b[0;32m-> 3804\u001b[0m     \u001b[39mraise\u001b[39;00m \u001b[39mKeyError\u001b[39;00m(key) \u001b[39mfrom\u001b[39;00m \u001b[39merr\u001b[39;00m\n\u001b[1;32m   3805\u001b[0m \u001b[39mexcept\u001b[39;00m \u001b[39mTypeError\u001b[39;00m:\n\u001b[1;32m   3806\u001b[0m     \u001b[39m# If we have a listlike key, _check_indexing_error will raise\u001b[39;00m\n\u001b[1;32m   3807\u001b[0m     \u001b[39m#  InvalidIndexError. Otherwise we fall through and re-raise\u001b[39;00m\n\u001b[1;32m   3808\u001b[0m     \u001b[39m#  the TypeError.\u001b[39;00m\n\u001b[1;32m   3809\u001b[0m     \u001b[39mself\u001b[39m\u001b[39m.\u001b[39m_check_indexing_error(key)\n",
                        "\u001b[0;31mKeyError\u001b[0m: 'Survived'"
                    ]
                }
            ],
            "source": [
                "adaBoostClassifier_11_1 = fit_estimator(estimator=adaBoostClassifier_10_1, X=mixedDataFrame_9_3, y='Survived')"
            ]
        },
        {
            "attachments": {},
            "cell_type": "markdown",
            "metadata": {},
            "source": [
                "### Step 12: `predict`\n",
                "#### Notes\n",
                "Predicts using a FITTED estimator\n",
                "#### inputs:\n",
                "- 1\n",
                "\t- DataClass: `AdaBoostClassifier`\n",
                "\t- StatisticalRelevance: `NoRelevance`\n",
                "\t- src: `(11, 0)`\n",
                "- 2\n",
                "\t- DataClass: `MixedDataFrame`\n",
                "\t- StatisticalRelevance: `IndependentVariable`\n",
                "\t- src: `(9, 0)`\n",
                "#### outputs:\n",
                "- 1\n",
                "\t- DataClass: `MixedSeries`\n",
                "\t- StatisticalRelevance: `Prediction`"
            ]
        },
        {
            "cell_type": "code",
            "execution_count": null,
            "metadata": {},
            "outputs": [],
            "source": [
                "mixedSeries_12_1 = predict(estimator=adaBoostClassifier_11_1, X=mixedDataFrame_9_1)"
            ]
        },
        {
            "attachments": {},
            "cell_type": "markdown",
            "metadata": {},
            "source": [
                "### Step 13: `classification_report`\n",
                "#### Notes\n",
                "Displays a classification report\n",
                "#### inputs:\n",
                "- 1\n",
                "\t- DataClass: `MixedSeries`\n",
                "\t- StatisticalRelevance: `Prediction`\n",
                "\t- src: `(12, 0)`\n",
                "- 2\n",
                "\t- DataClass: `IntSeries`\n",
                "\t- StatisticalRelevance: `DependentVariable`\n",
                "\t- src: `(9, 1)`\n",
                "#### outputs:\n",
                "- 1\n",
                "\t- DataClass: `ClassificationReport`\n",
                "\t- StatisticalRelevance: `NoRelevance`"
            ]
        },
        {
            "cell_type": "code",
            "execution_count": null,
            "metadata": {},
            "outputs": [],
            "source": [
                "classificationReport_13_1 = classification_report(y_true=mixedSeries_12_1, y_pred=intSeries_9_2)"
            ]
        }
    ],
    "metadata": {
        "kernelspec": {
            "display_name": "APE",
            "language": "python",
            "name": "python3"
        },
        "language_info": {
            "codemirror_mode": {
                "name": "ipython",
                "version": 3
            },
            "file_extension": ".py",
            "mimetype": "text/x-python",
            "name": "python",
            "nbconvert_exporter": "python",
            "pygments_lexer": "ipython3",
            "version": "3.10.10"
        },
        "orig_nbformat": 4
    },
    "nbformat": 4,
    "nbformat_minor": 2
}
