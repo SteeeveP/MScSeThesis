{
    "cells": [
        {
            "attachments": {},
            "cell_type": "markdown",
            "metadata": {},
            "source": [
                "![workflow graph](Figures/SolutionNo_0_length_8.png \"Workflow Graph\")"
            ]
        },
        {
            "cell_type": "code",
            "execution_count": 1,
            "metadata": {},
            "outputs": [],
            "source": [
                "from pathlib import Path\n",
                "import sys\n",
                "\n",
                "import pandas as pd\n",
                "\n",
                "sys.path.append('/Users/stevep/Documents/code/APE_thesis/ape-thesis')\n",
                "from wrapper_functions import *    "
            ]
        },
        {
            "attachments": {},
            "cell_type": "markdown",
            "metadata": {},
            "source": [
                "## Workflow Input Objects"
            ]
        },
        {
            "attachments": {},
            "cell_type": "markdown",
            "metadata": {},
            "source": [
                "### Table 1\n",
                "- id: `imbd_train`\n",
                "- source: `/Users/stevep/Documents/code/APE_thesis/ape-thesis/usecases/imbd/imbd_train_fixed.csv`\n",
                "- DataClass: `MixedDataFrame`\n",
                "- DataClass: `NoRelevance`    "
            ]
        },
        {
            "cell_type": "code",
            "execution_count": 2,
            "metadata": {},
            "outputs": [
                {
                    "name": "stdout",
                    "output_type": "stream",
                    "text": [
                        "<class 'pandas.core.frame.DataFrame'>\n",
                        "RangeIndex: 50000 entries, 0 to 49999\n",
                        "Data columns (total 3 columns):\n",
                        " #   Column      Non-Null Count  Dtype \n",
                        "---  ------      --------------  ----- \n",
                        " 0   Unnamed: 0  50000 non-null  int64 \n",
                        " 1   review      50000 non-null  object\n",
                        " 2   sentiment   50000 non-null  object\n",
                        "dtypes: int64(1), object(2)\n",
                        "memory usage: 1.1+ MB\n"
                    ]
                },
                {
                    "data": {
                        "text/plain": [
                            "None"
                        ]
                    },
                    "metadata": {},
                    "output_type": "display_data"
                },
                {
                    "data": {
                        "text/html": [
                            "<div>\n",
                            "<style scoped>\n",
                            "    .dataframe tbody tr th:only-of-type {\n",
                            "        vertical-align: middle;\n",
                            "    }\n",
                            "\n",
                            "    .dataframe tbody tr th {\n",
                            "        vertical-align: top;\n",
                            "    }\n",
                            "\n",
                            "    .dataframe thead th {\n",
                            "        text-align: right;\n",
                            "    }\n",
                            "</style>\n",
                            "<table border=\"1\" class=\"dataframe\">\n",
                            "  <thead>\n",
                            "    <tr style=\"text-align: right;\">\n",
                            "      <th></th>\n",
                            "      <th>Unnamed: 0</th>\n",
                            "      <th>review</th>\n",
                            "      <th>sentiment</th>\n",
                            "    </tr>\n",
                            "  </thead>\n",
                            "  <tbody>\n",
                            "    <tr>\n",
                            "      <th>0</th>\n",
                            "      <td>0</td>\n",
                            "      <td>One of the other reviews has mentioned that af...</td>\n",
                            "      <td>positive</td>\n",
                            "    </tr>\n",
                            "    <tr>\n",
                            "      <th>1</th>\n",
                            "      <td>1</td>\n",
                            "      <td>A wonderful little production. The filling tec...</td>\n",
                            "      <td>positive</td>\n",
                            "    </tr>\n",
                            "    <tr>\n",
                            "      <th>2</th>\n",
                            "      <td>2</td>\n",
                            "      <td>I thought this was a wonderful way to spend ti...</td>\n",
                            "      <td>positive</td>\n",
                            "    </tr>\n",
                            "    <tr>\n",
                            "      <th>3</th>\n",
                            "      <td>3</td>\n",
                            "      <td>Basically there's a family where a little boy ...</td>\n",
                            "      <td>negative</td>\n",
                            "    </tr>\n",
                            "    <tr>\n",
                            "      <th>4</th>\n",
                            "      <td>4</td>\n",
                            "      <td>Letter Matter's \"Love in the Time of Money\" is...</td>\n",
                            "      <td>positive</td>\n",
                            "    </tr>\n",
                            "  </tbody>\n",
                            "</table>\n",
                            "</div>"
                        ],
                        "text/plain": [
                            "   Unnamed: 0                                             review sentiment\n",
                            "0           0  One of the other reviews has mentioned that af...  positive\n",
                            "1           1  A wonderful little production. The filling tec...  positive\n",
                            "2           2  I thought this was a wonderful way to spend ti...  positive\n",
                            "3           3  Basically there's a family where a little boy ...  negative\n",
                            "4           4  Letter Matter's \"Love in the Time of Money\" is...  positive"
                        ]
                    },
                    "metadata": {},
                    "output_type": "display_data"
                }
            ],
            "source": [
                "imbd_train = load_table_csv('/Users/stevep/Documents/code/APE_thesis/ape-thesis/usecases/imbd/imbd_train_fixed.csv').head(100)"
            ]
        },
        {
            "attachments": {},
            "cell_type": "markdown",
            "metadata": {},
            "source": [
                "### Step 8: `column_split`\n",
                "#### Notes\n",
                "Splits a dataframe into X and y based on a column name\n",
                "#### inputs:\n",
                "- 1\n",
                "\t- DataClass: `MixedDataFrame`\n",
                "\t- StatisticalRelevance: `NoRelevance`\n",
                "\t- APE_label: `['imbd_train']`\n",
                "\t- src: `(0, 2)`\n",
                "- 2\n",
                "\t- DataClass: `StrColumn`\n",
                "\t- StatisticalRelevance: `DependentVariable`\n",
                "\t- APE_label: `['sentiment']`\n",
                "\t- src: `(0, 0)`\n",
                "#### outputs:\n",
                "- 1\n",
                "\t- DataClass: `MixedDataFrame`\n",
                "\t- StatisticalRelevance: `IndependentVariable`\n",
                "- 2\n",
                "\t- DataClass: `StrSeries`\n",
                "\t- StatisticalRelevance: `DependentVariable`"
            ]
        },
        {
            "cell_type": "code",
            "execution_count": 3,
            "metadata": {},
            "outputs": [],
            "source": [
                "mixedDataFrame_8_1, strSeries_8_2 = column_split(df=imbd_train, column='sentiment')"
            ]
        },
        {
            "attachments": {},
            "cell_type": "markdown",
            "metadata": {},
            "source": [
                "### Step 9: `train_test_split`\n",
                "#### Notes\n",
                "Splits a dataframe into X_train, y_train, X_test, y_test\n",
                "    > returns strings instead of series if y is a string\n",
                "    \n",
                "#### inputs:\n",
                "- 1\n",
                "\t- DataClass: `MixedDataFrame`\n",
                "\t- StatisticalRelevance: `IndependentVariable`\n",
                "\t- src: `(8, 0)`\n",
                "- 2\n",
                "\t- DataClass: `StrSeries`\n",
                "\t- StatisticalRelevance: `DependentVariable`\n",
                "\t- src: `(8, 1)`\n",
                "#### outputs:\n",
                "- 1\n",
                "\t- DataClass: `MixedDataFrame`\n",
                "\t- StatisticalRelevance: `IndependentVariable`\n",
                "- 2\n",
                "\t- DataClass: `StrSeries`\n",
                "\t- StatisticalRelevance: `DependentVariable`\n",
                "- 3\n",
                "\t- DataClass: `MixedDataFrame`\n",
                "\t- StatisticalRelevance: `IndependentVariable`\n",
                "- 4\n",
                "\t- DataClass: `StrSeries`\n",
                "\t- StatisticalRelevance: `DependentVariable`"
            ]
        },
        {
            "cell_type": "code",
            "execution_count": 4,
            "metadata": {},
            "outputs": [],
            "source": [
                "mixedDataFrame_9_1, strSeries_9_2, mixedDataFrame_9_3, strSeries_9_4 = train_test_split(df=mixedDataFrame_8_1, y=strSeries_8_2)"
            ]
        },
        {
            "attachments": {},
            "cell_type": "markdown",
            "metadata": {},
            "source": [
                "### Step 10: `embed_text_word2vec`\n",
                "#### Notes\n",
                "Trains a word2vec model on a dataframe or series and returns the embeddings and the model.\n",
                "    Alternatively, pass a pretrained model as the word2vec argument.\n",
                "    \n",
                "#### inputs:\n",
                "- 1\n",
                "\t- DataClass: `MixedDataFrame`\n",
                "\t- StatisticalRelevance: `IndependentVariable`\n",
                "\t- src: `(9, 0)`\n",
                "- 2\n",
                "\t- DataClass: `StrColumn`\n",
                "\t- StatisticalRelevance: `IndependentVariable`\n",
                "\t- APE_label: `['review']`\n",
                "\t- src: `(0, 1)`\n",
                "#### outputs:\n",
                "- 1\n",
                "\t- DataClass: `EmbeddingMatrix`\n",
                "\t- StatisticalRelevance: `IndependentVariable`\n",
                "- 2\n",
                "\t- DataClass: `Word2Vec`\n",
                "\t- StatisticalRelevance: `IndependentVariable`"
            ]
        },
        {
            "cell_type": "code",
            "execution_count": 5,
            "metadata": {},
            "outputs": [],
            "source": [
                "embeddingMatrix_10_1, word2Vec_10_2 = embed_text_word2vec(data=mixedDataFrame_9_1, column='review')"
            ]
        },
        {
            "attachments": {},
            "cell_type": "markdown",
            "metadata": {},
            "source": [
                "### Step 11: `init_sklearn_estimator`\n",
                "#### Notes\n",
                "Initializes a sklearn estimator.\n",
                "\n",
                "    The passed string must be one of the following:\n",
                "\n",
                "    - 'KernelRidgeRegressor'\n",
                "    - 'PerceptronClassifier'\n",
                "    - 'LogisticRegressionClassifier'\n",
                "    - 'LinearRegressor'\n",
                "    - 'ElasticNetRegressor'\n",
                "    - 'RidgeRegressor'\n",
                "    - 'DecisionTreeClassifier'\n",
                "    - 'DecisionTreeRegressor'\n",
                "    - 'LinearSVClassifier'\n",
                "    - 'LinearSVRregressor'\n",
                "    - 'RandomForestClassifier'\n",
                "    - 'AdaBoostClassifier'\n",
                "    - 'VotingClassifier'\n",
                "    - 'RandomForestRegressor'\n",
                "    - 'AdaBoostRegressor'\n",
                "    - 'VotingRegressor'\n",
                "    - 'DummyClassifier'\n",
                "    - 'DummyRegressor'\n",
                "    - 'KMeansClustor'\n",
                "    - 'DBScanClustor'\n",
                "    - 'KNeighborsClassifier'\n",
                "    - 'KNeighborsRegressor'\n",
                "    - 'GridSearchCV'\n",
                "    - 'HalvingGridSearchCV'\n",
                "    - 'SimpleImputer'\n",
                "    - 'IterativeImputer'\n",
                "    - 'KNNImputer'\n",
                "    - 'KNNImputer'\n",
                "    - 'CatKNNImputer' #! NO\n",
                "    - 'PCA'\n",
                "    - 'TruncatedSVD'\n",
                "    \n",
                "#### inputs:\n",
                "\n",
                "#### outputs:\n",
                "- 1\n",
                "\t- DataClass: `DecisionTreeClassifier`\n",
                "\t- StatisticalRelevance: `NoRelevance`"
            ]
        },
        {
            "cell_type": "code",
            "execution_count": 6,
            "metadata": {},
            "outputs": [],
            "source": [
                "decisionTreeClassifier_11_1 = init_sklearn_estimator(estimator=\"DecisionTreeClassifier\")"
            ]
        },
        {
            "attachments": {},
            "cell_type": "markdown",
            "metadata": {},
            "source": [
                "### Step 12: `embed_text_word2vec`\n",
                "#### Notes\n",
                "Trains a word2vec model on a dataframe or series and returns the embeddings and the model.\n",
                "    Alternatively, pass a pretrained model as the word2vec argument.\n",
                "    \n",
                "#### inputs:\n",
                "- 1\n",
                "\t- DataClass: `MixedDataFrame`\n",
                "\t- StatisticalRelevance: `IndependentVariable`\n",
                "\t- src: `(8, 0)`\n",
                "- 2\n",
                "\t- DataClass: `StrColumn`\n",
                "\t- StatisticalRelevance: `IndependentVariable`\n",
                "\t- APE_label: `['review']`\n",
                "\t- src: `(0, 1)`\n",
                "- 3\n",
                "\t- DataClass: `Word2Vec`\n",
                "\t- StatisticalRelevance: `IndependentVariable`\n",
                "\t- src: `(10, 1)`\n",
                "#### outputs:\n",
                "- 1\n",
                "\t- DataClass: `EmbeddingMatrix`\n",
                "\t- StatisticalRelevance: `IndependentVariable`"
            ]
        },
        {
            "cell_type": "code",
            "execution_count": 7,
            "metadata": {},
            "outputs": [],
            "source": [
                "embeddingMatrix_12_1 = embed_text_word2vec(data=mixedDataFrame_8_1, column='review', word2vec=word2Vec_10_2)"
            ]
        },
        {
            "attachments": {},
            "cell_type": "markdown",
            "metadata": {},
            "source": [
                "### Step 13: `fit_estimator`\n",
                "#### Notes\n",
                "Fits an estimator\n",
                "    > Operation is in-place even though it returns the estimator!\n",
                "    \n",
                "#### inputs:\n",
                "- 1\n",
                "\t- DataClass: `DecisionTreeClassifier`\n",
                "\t- StatisticalRelevance: `NoRelevance`\n",
                "\t- src: `(11, 0)`\n",
                "- 2\n",
                "\t- DataClass: `EmbeddingMatrix`\n",
                "\t- StatisticalRelevance: `IndependentVariable`\n",
                "\t- src: `(10, 0)`\n",
                "- 3\n",
                "\t- DataClass: `StrSeries`\n",
                "\t- StatisticalRelevance: `DependentVariable`\n",
                "\t- src: `(9, 1)`\n",
                "#### outputs:\n",
                "- 1\n",
                "\t- DataClass: `DecisionTreeClassifier`\n",
                "\t- StatisticalRelevance: `NoRelevance`"
            ]
        },
        {
            "cell_type": "code",
            "execution_count": 8,
            "metadata": {},
            "outputs": [],
            "source": [
                "decisionTreeClassifier_13_1 = fit_estimator(estimator=decisionTreeClassifier_11_1, X=embeddingMatrix_10_1, y=strSeries_9_2)"
            ]
        },
        {
            "attachments": {},
            "cell_type": "markdown",
            "metadata": {},
            "source": [
                "### Step 14: `predict`\n",
                "#### Notes\n",
                "Predicts using a FITTED estimator\n",
                "#### inputs:\n",
                "- 1\n",
                "\t- DataClass: `DecisionTreeClassifier`\n",
                "\t- StatisticalRelevance: `NoRelevance`\n",
                "\t- src: `(13, 0)`\n",
                "- 2\n",
                "\t- DataClass: `EmbeddingMatrix`\n",
                "\t- StatisticalRelevance: `IndependentVariable`\n",
                "\t- src: `(10, 0)`\n",
                "#### outputs:\n",
                "- 1\n",
                "\t- DataClass: `MixedSeries`\n",
                "\t- StatisticalRelevance: `Prediction`"
            ]
        },
        {
            "cell_type": "code",
            "execution_count": 9,
            "metadata": {},
            "outputs": [],
            "source": [
                "mixedSeries_14_1 = predict(estimator=decisionTreeClassifier_13_1, X=embeddingMatrix_10_1)"
            ]
        },
        {
            "attachments": {},
            "cell_type": "markdown",
            "metadata": {},
            "source": [
                "### Step 15: `classification_report`\n",
                "#### Notes\n",
                "Displays a classification report\n",
                "#### inputs:\n",
                "- 1\n",
                "\t- DataClass: `MixedSeries`\n",
                "\t- StatisticalRelevance: `Prediction`\n",
                "\t- src: `(14, 0)`\n",
                "- 2\n",
                "\t- DataClass: `StrSeries`\n",
                "\t- StatisticalRelevance: `DependentVariable`\n",
                "\t- src: `(9, 3)`\n",
                "#### outputs:\n",
                "- 1\n",
                "\t- DataClass: `ClassificationReport`\n",
                "\t- StatisticalRelevance: `NoRelevance`"
            ]
        },
        {
            "cell_type": "code",
            "execution_count": 10,
            "metadata": {},
            "outputs": [
                {
                    "ename": "ValueError",
                    "evalue": "Found input variables with inconsistent numbers of samples: [75, 25]",
                    "output_type": "error",
                    "traceback": [
                        "\u001b[0;31m---------------------------------------------------------------------------\u001b[0m",
                        "\u001b[0;31mValueError\u001b[0m                                Traceback (most recent call last)",
                        "Cell \u001b[0;32mIn[10], line 1\u001b[0m\n\u001b[0;32m----> 1\u001b[0m classificationReport_15_1 \u001b[39m=\u001b[39m classification_report(y_true\u001b[39m=\u001b[39;49mmixedSeries_14_1, y_pred\u001b[39m=\u001b[39;49mstrSeries_9_4)\n",
                        "File \u001b[0;32m~/Documents/code/APE_thesis/ape-thesis/wrapper_functions.py:1806\u001b[0m, in \u001b[0;36mclassification_report\u001b[0;34m(y_true, y_pred, **kwargs)\u001b[0m\n\u001b[1;32m   1799\u001b[0m \u001b[39mdef\u001b[39;00m \u001b[39mclassification_report\u001b[39m(\n\u001b[1;32m   1800\u001b[0m     y_true: pd\u001b[39m.\u001b[39mSeries,\n\u001b[1;32m   1801\u001b[0m     y_pred: pd\u001b[39m.\u001b[39mSeries,\n\u001b[1;32m   1802\u001b[0m     \u001b[39m*\u001b[39m\u001b[39m*\u001b[39mkwargs,\n\u001b[1;32m   1803\u001b[0m ) \u001b[39m-\u001b[39m\u001b[39m>\u001b[39m pd\u001b[39m.\u001b[39mDataFrame:\n\u001b[1;32m   1804\u001b[0m \u001b[39m    \u001b[39m\u001b[39m\"\"\"Displays a classification report\"\"\"\u001b[39;00m\n\u001b[1;32m   1805\u001b[0m     report \u001b[39m=\u001b[39m pd\u001b[39m.\u001b[39mDataFrame(\n\u001b[0;32m-> 1806\u001b[0m         classification_report_sklearn(y_true, y_pred, output_dict\u001b[39m=\u001b[39;49m\u001b[39mTrue\u001b[39;49;00m, \u001b[39m*\u001b[39;49m\u001b[39m*\u001b[39;49mkwargs)\n\u001b[1;32m   1807\u001b[0m     )\u001b[39m.\u001b[39mtranspose()\n\u001b[1;32m   1808\u001b[0m     display(report)\n\u001b[1;32m   1809\u001b[0m     \u001b[39mreturn\u001b[39;00m report\n",
                        "File \u001b[0;32m~/opt/anaconda3/envs/APE/lib/python3.10/site-packages/sklearn/metrics/_classification.py:2310\u001b[0m, in \u001b[0;36mclassification_report\u001b[0;34m(y_true, y_pred, labels, target_names, sample_weight, digits, output_dict, zero_division)\u001b[0m\n\u001b[1;32m   2195\u001b[0m \u001b[39mdef\u001b[39;00m \u001b[39mclassification_report\u001b[39m(\n\u001b[1;32m   2196\u001b[0m     y_true,\n\u001b[1;32m   2197\u001b[0m     y_pred,\n\u001b[0;32m   (...)\u001b[0m\n\u001b[1;32m   2204\u001b[0m     zero_division\u001b[39m=\u001b[39m\u001b[39m\"\u001b[39m\u001b[39mwarn\u001b[39m\u001b[39m\"\u001b[39m,\n\u001b[1;32m   2205\u001b[0m ):\n\u001b[1;32m   2206\u001b[0m \u001b[39m    \u001b[39m\u001b[39m\"\"\"Build a text report showing the main classification metrics.\u001b[39;00m\n\u001b[1;32m   2207\u001b[0m \n\u001b[1;32m   2208\u001b[0m \u001b[39m    Read more in the :ref:`User Guide <classification_report>`.\u001b[39;00m\n\u001b[0;32m   (...)\u001b[0m\n\u001b[1;32m   2307\u001b[0m \u001b[39m    <BLANKLINE>\u001b[39;00m\n\u001b[1;32m   2308\u001b[0m \u001b[39m    \"\"\"\u001b[39;00m\n\u001b[0;32m-> 2310\u001b[0m     y_type, y_true, y_pred \u001b[39m=\u001b[39m _check_targets(y_true, y_pred)\n\u001b[1;32m   2312\u001b[0m     \u001b[39mif\u001b[39;00m labels \u001b[39mis\u001b[39;00m \u001b[39mNone\u001b[39;00m:\n\u001b[1;32m   2313\u001b[0m         labels \u001b[39m=\u001b[39m unique_labels(y_true, y_pred)\n",
                        "File \u001b[0;32m~/opt/anaconda3/envs/APE/lib/python3.10/site-packages/sklearn/metrics/_classification.py:86\u001b[0m, in \u001b[0;36m_check_targets\u001b[0;34m(y_true, y_pred)\u001b[0m\n\u001b[1;32m     59\u001b[0m \u001b[39mdef\u001b[39;00m \u001b[39m_check_targets\u001b[39m(y_true, y_pred):\n\u001b[1;32m     60\u001b[0m \u001b[39m    \u001b[39m\u001b[39m\"\"\"Check that y_true and y_pred belong to the same classification task.\u001b[39;00m\n\u001b[1;32m     61\u001b[0m \n\u001b[1;32m     62\u001b[0m \u001b[39m    This converts multiclass or binary types to a common shape, and raises a\u001b[39;00m\n\u001b[0;32m   (...)\u001b[0m\n\u001b[1;32m     84\u001b[0m \u001b[39m    y_pred : array or indicator matrix\u001b[39;00m\n\u001b[1;32m     85\u001b[0m \u001b[39m    \"\"\"\u001b[39;00m\n\u001b[0;32m---> 86\u001b[0m     check_consistent_length(y_true, y_pred)\n\u001b[1;32m     87\u001b[0m     type_true \u001b[39m=\u001b[39m type_of_target(y_true, input_name\u001b[39m=\u001b[39m\u001b[39m\"\u001b[39m\u001b[39my_true\u001b[39m\u001b[39m\"\u001b[39m)\n\u001b[1;32m     88\u001b[0m     type_pred \u001b[39m=\u001b[39m type_of_target(y_pred, input_name\u001b[39m=\u001b[39m\u001b[39m\"\u001b[39m\u001b[39my_pred\u001b[39m\u001b[39m\"\u001b[39m)\n",
                        "File \u001b[0;32m~/opt/anaconda3/envs/APE/lib/python3.10/site-packages/sklearn/utils/validation.py:397\u001b[0m, in \u001b[0;36mcheck_consistent_length\u001b[0;34m(*arrays)\u001b[0m\n\u001b[1;32m    395\u001b[0m uniques \u001b[39m=\u001b[39m np\u001b[39m.\u001b[39munique(lengths)\n\u001b[1;32m    396\u001b[0m \u001b[39mif\u001b[39;00m \u001b[39mlen\u001b[39m(uniques) \u001b[39m>\u001b[39m \u001b[39m1\u001b[39m:\n\u001b[0;32m--> 397\u001b[0m     \u001b[39mraise\u001b[39;00m \u001b[39mValueError\u001b[39;00m(\n\u001b[1;32m    398\u001b[0m         \u001b[39m\"\u001b[39m\u001b[39mFound input variables with inconsistent numbers of samples: \u001b[39m\u001b[39m%r\u001b[39;00m\u001b[39m\"\u001b[39m\n\u001b[1;32m    399\u001b[0m         \u001b[39m%\u001b[39m [\u001b[39mint\u001b[39m(l) \u001b[39mfor\u001b[39;00m l \u001b[39min\u001b[39;00m lengths]\n\u001b[1;32m    400\u001b[0m     )\n",
                        "\u001b[0;31mValueError\u001b[0m: Found input variables with inconsistent numbers of samples: [75, 25]"
                    ]
                }
            ],
            "source": [
                "classificationReport_15_1 = classification_report(y_true=mixedSeries_14_1, y_pred=strSeries_9_4)"
            ]
        }
    ],
    "metadata": {
        "kernelspec": {
            "display_name": "APE",
            "language": "python",
            "name": "python3"
        },
        "language_info": {
            "codemirror_mode": {
                "name": "ipython",
                "version": 3
            },
            "file_extension": ".py",
            "mimetype": "text/x-python",
            "name": "python",
            "nbconvert_exporter": "python",
            "pygments_lexer": "ipython3",
            "version": "3.10.10"
        },
        "orig_nbformat": 4
    },
    "nbformat": 4,
    "nbformat_minor": 2
}
