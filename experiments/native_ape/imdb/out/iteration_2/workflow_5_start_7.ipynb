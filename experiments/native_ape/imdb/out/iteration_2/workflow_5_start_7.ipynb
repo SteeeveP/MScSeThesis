{
    "cells": [
        {
            "attachments": {},
            "cell_type": "markdown",
            "metadata": {},
            "source": [
                "![workflow graph](Figures/SolutionNo_4_length_8.png \"Workflow Graph\")"
            ]
        },
        {
            "cell_type": "code",
            "execution_count": 1,
            "metadata": {},
            "outputs": [],
            "source": [
                "from pathlib import Path\n",
                "import sys\n",
                "\n",
                "import pandas as pd\n",
                "\n",
                "sys.path.append('/Users/stevep/Documents/code/APE_thesis/ape-thesis')\n",
                "from wrapper_functions import *    "
            ]
        },
        {
            "attachments": {},
            "cell_type": "markdown",
            "metadata": {},
            "source": [
                "## Workflow Input Objects"
            ]
        },
        {
            "attachments": {},
            "cell_type": "markdown",
            "metadata": {},
            "source": [
                "### Table 1\n",
                "- id: `imbd_train`\n",
                "- source: `/Users/stevep/Documents/code/APE_thesis/ape-thesis/usecases/imbd/imbd_train_fixed.csv`\n",
                "- DataClass: `MixedDataFrame`\n",
                "- DataClass: `NoRelevance`    "
            ]
        },
        {
            "cell_type": "code",
            "execution_count": 2,
            "metadata": {},
            "outputs": [
                {
                    "name": "stdout",
                    "output_type": "stream",
                    "text": [
                        "<class 'pandas.core.frame.DataFrame'>\n",
                        "RangeIndex: 50000 entries, 0 to 49999\n",
                        "Data columns (total 3 columns):\n",
                        " #   Column      Non-Null Count  Dtype \n",
                        "---  ------      --------------  ----- \n",
                        " 0   Unnamed: 0  50000 non-null  int64 \n",
                        " 1   review      50000 non-null  object\n",
                        " 2   sentiment   50000 non-null  object\n",
                        "dtypes: int64(1), object(2)\n",
                        "memory usage: 1.1+ MB\n"
                    ]
                },
                {
                    "data": {
                        "text/plain": [
                            "None"
                        ]
                    },
                    "metadata": {},
                    "output_type": "display_data"
                },
                {
                    "data": {
                        "text/html": [
                            "<div>\n",
                            "<style scoped>\n",
                            "    .dataframe tbody tr th:only-of-type {\n",
                            "        vertical-align: middle;\n",
                            "    }\n",
                            "\n",
                            "    .dataframe tbody tr th {\n",
                            "        vertical-align: top;\n",
                            "    }\n",
                            "\n",
                            "    .dataframe thead th {\n",
                            "        text-align: right;\n",
                            "    }\n",
                            "</style>\n",
                            "<table border=\"1\" class=\"dataframe\">\n",
                            "  <thead>\n",
                            "    <tr style=\"text-align: right;\">\n",
                            "      <th></th>\n",
                            "      <th>Unnamed: 0</th>\n",
                            "      <th>review</th>\n",
                            "      <th>sentiment</th>\n",
                            "    </tr>\n",
                            "  </thead>\n",
                            "  <tbody>\n",
                            "    <tr>\n",
                            "      <th>0</th>\n",
                            "      <td>0</td>\n",
                            "      <td>One of the other reviews has mentioned that af...</td>\n",
                            "      <td>positive</td>\n",
                            "    </tr>\n",
                            "    <tr>\n",
                            "      <th>1</th>\n",
                            "      <td>1</td>\n",
                            "      <td>A wonderful little production. The filling tec...</td>\n",
                            "      <td>positive</td>\n",
                            "    </tr>\n",
                            "    <tr>\n",
                            "      <th>2</th>\n",
                            "      <td>2</td>\n",
                            "      <td>I thought this was a wonderful way to spend ti...</td>\n",
                            "      <td>positive</td>\n",
                            "    </tr>\n",
                            "    <tr>\n",
                            "      <th>3</th>\n",
                            "      <td>3</td>\n",
                            "      <td>Basically there's a family where a little boy ...</td>\n",
                            "      <td>negative</td>\n",
                            "    </tr>\n",
                            "    <tr>\n",
                            "      <th>4</th>\n",
                            "      <td>4</td>\n",
                            "      <td>Letter Matter's \"Love in the Time of Money\" is...</td>\n",
                            "      <td>positive</td>\n",
                            "    </tr>\n",
                            "  </tbody>\n",
                            "</table>\n",
                            "</div>"
                        ],
                        "text/plain": [
                            "   Unnamed: 0                                             review sentiment\n",
                            "0           0  One of the other reviews has mentioned that af...  positive\n",
                            "1           1  A wonderful little production. The filling tec...  positive\n",
                            "2           2  I thought this was a wonderful way to spend ti...  positive\n",
                            "3           3  Basically there's a family where a little boy ...  negative\n",
                            "4           4  Letter Matter's \"Love in the Time of Money\" is...  positive"
                        ]
                    },
                    "metadata": {},
                    "output_type": "display_data"
                }
            ],
            "source": [
                "imbd_train = load_table_csv('/Users/stevep/Documents/code/APE_thesis/ape-thesis/usecases/imbd/imbd_train_fixed.csv').head(100)"
            ]
        },
        {
            "attachments": {},
            "cell_type": "markdown",
            "metadata": {},
            "source": [
                "### Step 8: `column_split`\n",
                "#### Notes\n",
                "Splits a dataframe into X and y based on a column name\n",
                "#### inputs:\n",
                "- 1\n",
                "\t- DataClass: `MixedDataFrame`\n",
                "\t- StatisticalRelevance: `NoRelevance`\n",
                "\t- APE_label: `['imbd_train']`\n",
                "\t- src: `(0, 2)`\n",
                "- 2\n",
                "\t- DataClass: `StrColumn`\n",
                "\t- StatisticalRelevance: `DependentVariable`\n",
                "\t- APE_label: `['sentiment']`\n",
                "\t- src: `(0, 0)`\n",
                "#### outputs:\n",
                "- 1\n",
                "\t- DataClass: `MixedDataFrame`\n",
                "\t- StatisticalRelevance: `IndependentVariable`\n",
                "- 2\n",
                "\t- DataClass: `StrSeries`\n",
                "\t- StatisticalRelevance: `DependentVariable`"
            ]
        },
        {
            "cell_type": "code",
            "execution_count": 3,
            "metadata": {},
            "outputs": [],
            "source": [
                "mixedDataFrame_8_1, strSeries_8_2 = column_split(df=imbd_train, column='sentiment')"
            ]
        },
        {
            "attachments": {},
            "cell_type": "markdown",
            "metadata": {},
            "source": [
                "### Step 9: `train_test_split`\n",
                "#### Notes\n",
                "Splits a dataframe into X_train, y_train, X_test, y_test\n",
                "    > returns strings instead of series if y is a string\n",
                "    \n",
                "#### inputs:\n",
                "- 1\n",
                "\t- DataClass: `MixedDataFrame`\n",
                "\t- StatisticalRelevance: `IndependentVariable`\n",
                "\t- src: `(8, 0)`\n",
                "- 2\n",
                "\t- DataClass: `StrSeries`\n",
                "\t- StatisticalRelevance: `DependentVariable`\n",
                "\t- src: `(8, 1)`\n",
                "#### outputs:\n",
                "- 1\n",
                "\t- DataClass: `MixedDataFrame`\n",
                "\t- StatisticalRelevance: `IndependentVariable`\n",
                "- 2\n",
                "\t- DataClass: `StrSeries`\n",
                "\t- StatisticalRelevance: `DependentVariable`\n",
                "- 3\n",
                "\t- DataClass: `MixedDataFrame`\n",
                "\t- StatisticalRelevance: `IndependentVariable`\n",
                "- 4\n",
                "\t- DataClass: `StrSeries`\n",
                "\t- StatisticalRelevance: `DependentVariable`"
            ]
        },
        {
            "cell_type": "code",
            "execution_count": 4,
            "metadata": {},
            "outputs": [],
            "source": [
                "mixedDataFrame_9_1, strSeries_9_2, mixedDataFrame_9_3, strSeries_9_4 = train_test_split(df=mixedDataFrame_8_1, y=strSeries_8_2)"
            ]
        },
        {
            "attachments": {},
            "cell_type": "markdown",
            "metadata": {},
            "source": [
                "### Step 10: `embed_text_word2vec`\n",
                "#### Notes\n",
                "Trains a word2vec model on a dataframe or series and returns the embeddings and the model.\n",
                "    Alternatively, pass a pretrained model as the word2vec argument.\n",
                "    \n",
                "#### inputs:\n",
                "- 1\n",
                "\t- DataClass: `MixedDataFrame`\n",
                "\t- StatisticalRelevance: `IndependentVariable`\n",
                "\t- src: `(9, 0)`\n",
                "- 2\n",
                "\t- DataClass: `StrColumn`\n",
                "\t- StatisticalRelevance: `IndependentVariable`\n",
                "\t- APE_label: `['review']`\n",
                "\t- src: `(0, 1)`\n",
                "#### outputs:\n",
                "- 1\n",
                "\t- DataClass: `EmbeddingMatrix`\n",
                "\t- StatisticalRelevance: `IndependentVariable`\n",
                "- 2\n",
                "\t- DataClass: `Word2Vec`\n",
                "\t- StatisticalRelevance: `IndependentVariable`"
            ]
        },
        {
            "cell_type": "code",
            "execution_count": 5,
            "metadata": {},
            "outputs": [],
            "source": [
                "embeddingMatrix_10_1, word2Vec_10_2 = embed_text_word2vec(data=mixedDataFrame_9_1, column='review')"
            ]
        },
        {
            "attachments": {},
            "cell_type": "markdown",
            "metadata": {},
            "source": [
                "### Step 11: `init_sklearn_estimator`\n",
                "#### Notes\n",
                "Initializes a sklearn estimator.\n",
                "\n",
                "    The passed string must be one of the following:\n",
                "\n",
                "    - 'KernelRidgeRegressor'\n",
                "    - 'PerceptronClassifier'\n",
                "    - 'LogisticRegressionClassifier'\n",
                "    - 'LinearRegressor'\n",
                "    - 'ElasticNetRegressor'\n",
                "    - 'RidgeRegressor'\n",
                "    - 'DecisionTreeClassifier'\n",
                "    - 'DecisionTreeRegressor'\n",
                "    - 'LinearSVClassifier'\n",
                "    - 'LinearSVRregressor'\n",
                "    - 'RandomForestClassifier'\n",
                "    - 'AdaBoostClassifier'\n",
                "    - 'VotingClassifier'\n",
                "    - 'RandomForestRegressor'\n",
                "    - 'AdaBoostRegressor'\n",
                "    - 'VotingRegressor'\n",
                "    - 'DummyClassifier'\n",
                "    - 'DummyRegressor'\n",
                "    - 'KMeansClustor'\n",
                "    - 'DBScanClustor'\n",
                "    - 'KNeighborsClassifier'\n",
                "    - 'KNeighborsRegressor'\n",
                "    - 'GridSearchCV'\n",
                "    - 'HalvingGridSearchCV'\n",
                "    - 'SimpleImputer'\n",
                "    - 'IterativeImputer'\n",
                "    - 'KNNImputer'\n",
                "    - 'KNNImputer'\n",
                "    - 'CatKNNImputer' #! NO\n",
                "    - 'PCA'\n",
                "    - 'TruncatedSVD'\n",
                "    \n",
                "#### inputs:\n",
                "\n",
                "#### outputs:\n",
                "- 1\n",
                "\t- DataClass: `DecisionTreeClassifier`\n",
                "\t- StatisticalRelevance: `NoRelevance`"
            ]
        },
        {
            "cell_type": "code",
            "execution_count": 6,
            "metadata": {},
            "outputs": [],
            "source": [
                "decisionTreeClassifier_11_1 = init_sklearn_estimator(estimator=\"DecisionTreeClassifier\")"
            ]
        },
        {
            "attachments": {},
            "cell_type": "markdown",
            "metadata": {},
            "source": [
                "### Step 12: `embed_text_word2vec`\n",
                "#### Notes\n",
                "Trains a word2vec model on a dataframe or series and returns the embeddings and the model.\n",
                "    Alternatively, pass a pretrained model as the word2vec argument.\n",
                "    \n",
                "#### inputs:\n",
                "- 1\n",
                "\t- DataClass: `MixedDataFrame`\n",
                "\t- StatisticalRelevance: `IndependentVariable`\n",
                "\t- src: `(9, 0)`\n",
                "- 2\n",
                "\t- DataClass: `StrColumn`\n",
                "\t- StatisticalRelevance: `IndependentVariable`\n",
                "\t- APE_label: `['review']`\n",
                "\t- src: `(0, 1)`\n",
                "- 3\n",
                "\t- DataClass: `Word2Vec`\n",
                "\t- StatisticalRelevance: `IndependentVariable`\n",
                "\t- src: `(10, 1)`\n",
                "#### outputs:\n",
                "- 1\n",
                "\t- DataClass: `EmbeddingMatrix`\n",
                "\t- StatisticalRelevance: `IndependentVariable`"
            ]
        },
        {
            "cell_type": "code",
            "execution_count": 7,
            "metadata": {},
            "outputs": [],
            "source": [
                "embeddingMatrix_12_1 = embed_text_word2vec(data=mixedDataFrame_9_1, column='review', word2vec=word2Vec_10_2)"
            ]
        },
        {
            "attachments": {},
            "cell_type": "markdown",
            "metadata": {},
            "source": [
                "### Step 13: `fit_estimator`\n",
                "#### Notes\n",
                "Fits an estimator\n",
                "    > Operation is in-place even though it returns the estimator!\n",
                "    \n",
                "#### inputs:\n",
                "- 1\n",
                "\t- DataClass: `DecisionTreeClassifier`\n",
                "\t- StatisticalRelevance: `NoRelevance`\n",
                "\t- src: `(11, 0)`\n",
                "- 2\n",
                "\t- DataClass: `EmbeddingMatrix`\n",
                "\t- StatisticalRelevance: `IndependentVariable`\n",
                "\t- src: `(12, 0)`\n",
                "- 3\n",
                "\t- DataClass: `StrSeries`\n",
                "\t- StatisticalRelevance: `DependentVariable`\n",
                "\t- src: `(8, 1)`\n",
                "#### outputs:\n",
                "- 1\n",
                "\t- DataClass: `DecisionTreeClassifier`\n",
                "\t- StatisticalRelevance: `NoRelevance`"
            ]
        },
        {
            "cell_type": "code",
            "execution_count": 8,
            "metadata": {},
            "outputs": [
                {
                    "ename": "ValueError",
                    "evalue": "Number of labels=100 does not match number of samples=75",
                    "output_type": "error",
                    "traceback": [
                        "\u001b[0;31m---------------------------------------------------------------------------\u001b[0m",
                        "\u001b[0;31mValueError\u001b[0m                                Traceback (most recent call last)",
                        "Cell \u001b[0;32mIn[8], line 1\u001b[0m\n\u001b[0;32m----> 1\u001b[0m decisionTreeClassifier_13_1 \u001b[39m=\u001b[39m fit_estimator(estimator\u001b[39m=\u001b[39;49mdecisionTreeClassifier_11_1, X\u001b[39m=\u001b[39;49membeddingMatrix_12_1, y\u001b[39m=\u001b[39;49mstrSeries_8_2)\n",
                        "File \u001b[0;32m~/Documents/code/APE_thesis/ape-thesis/wrapper_functions.py:1716\u001b[0m, in \u001b[0;36mfit_estimator\u001b[0;34m(estimator, X, y, **kwargs)\u001b[0m\n\u001b[1;32m   1714\u001b[0m     y \u001b[39m=\u001b[39m X[y]\n\u001b[1;32m   1715\u001b[0m     X \u001b[39m=\u001b[39m X\u001b[39m.\u001b[39mdrop(columns\u001b[39m=\u001b[39my)\n\u001b[0;32m-> 1716\u001b[0m \u001b[39mreturn\u001b[39;00m estimator\u001b[39m.\u001b[39;49mfit(X, y, \u001b[39m*\u001b[39;49m\u001b[39m*\u001b[39;49mkwargs)\n",
                        "File \u001b[0;32m~/opt/anaconda3/envs/APE/lib/python3.10/site-packages/sklearn/tree/_classes.py:889\u001b[0m, in \u001b[0;36mDecisionTreeClassifier.fit\u001b[0;34m(self, X, y, sample_weight, check_input)\u001b[0m\n\u001b[1;32m    859\u001b[0m \u001b[39mdef\u001b[39;00m \u001b[39mfit\u001b[39m(\u001b[39mself\u001b[39m, X, y, sample_weight\u001b[39m=\u001b[39m\u001b[39mNone\u001b[39;00m, check_input\u001b[39m=\u001b[39m\u001b[39mTrue\u001b[39;00m):\n\u001b[1;32m    860\u001b[0m \u001b[39m    \u001b[39m\u001b[39m\"\"\"Build a decision tree classifier from the training set (X, y).\u001b[39;00m\n\u001b[1;32m    861\u001b[0m \n\u001b[1;32m    862\u001b[0m \u001b[39m    Parameters\u001b[39;00m\n\u001b[0;32m   (...)\u001b[0m\n\u001b[1;32m    886\u001b[0m \u001b[39m        Fitted estimator.\u001b[39;00m\n\u001b[1;32m    887\u001b[0m \u001b[39m    \"\"\"\u001b[39;00m\n\u001b[0;32m--> 889\u001b[0m     \u001b[39msuper\u001b[39;49m()\u001b[39m.\u001b[39;49mfit(\n\u001b[1;32m    890\u001b[0m         X,\n\u001b[1;32m    891\u001b[0m         y,\n\u001b[1;32m    892\u001b[0m         sample_weight\u001b[39m=\u001b[39;49msample_weight,\n\u001b[1;32m    893\u001b[0m         check_input\u001b[39m=\u001b[39;49mcheck_input,\n\u001b[1;32m    894\u001b[0m     )\n\u001b[1;32m    895\u001b[0m     \u001b[39mreturn\u001b[39;00m \u001b[39mself\u001b[39m\n",
                        "File \u001b[0;32m~/opt/anaconda3/envs/APE/lib/python3.10/site-packages/sklearn/tree/_classes.py:302\u001b[0m, in \u001b[0;36mBaseDecisionTree.fit\u001b[0;34m(self, X, y, sample_weight, check_input)\u001b[0m\n\u001b[1;32m    299\u001b[0m max_leaf_nodes \u001b[39m=\u001b[39m \u001b[39m-\u001b[39m\u001b[39m1\u001b[39m \u001b[39mif\u001b[39;00m \u001b[39mself\u001b[39m\u001b[39m.\u001b[39mmax_leaf_nodes \u001b[39mis\u001b[39;00m \u001b[39mNone\u001b[39;00m \u001b[39melse\u001b[39;00m \u001b[39mself\u001b[39m\u001b[39m.\u001b[39mmax_leaf_nodes\n\u001b[1;32m    301\u001b[0m \u001b[39mif\u001b[39;00m \u001b[39mlen\u001b[39m(y) \u001b[39m!=\u001b[39m n_samples:\n\u001b[0;32m--> 302\u001b[0m     \u001b[39mraise\u001b[39;00m \u001b[39mValueError\u001b[39;00m(\n\u001b[1;32m    303\u001b[0m         \u001b[39m\"\u001b[39m\u001b[39mNumber of labels=\u001b[39m\u001b[39m%d\u001b[39;00m\u001b[39m does not match number of samples=\u001b[39m\u001b[39m%d\u001b[39;00m\u001b[39m\"\u001b[39m\n\u001b[1;32m    304\u001b[0m         \u001b[39m%\u001b[39m (\u001b[39mlen\u001b[39m(y), n_samples)\n\u001b[1;32m    305\u001b[0m     )\n\u001b[1;32m    307\u001b[0m \u001b[39mif\u001b[39;00m sample_weight \u001b[39mis\u001b[39;00m \u001b[39mnot\u001b[39;00m \u001b[39mNone\u001b[39;00m:\n\u001b[1;32m    308\u001b[0m     sample_weight \u001b[39m=\u001b[39m _check_sample_weight(sample_weight, X, DOUBLE)\n",
                        "\u001b[0;31mValueError\u001b[0m: Number of labels=100 does not match number of samples=75"
                    ]
                }
            ],
            "source": [
                "decisionTreeClassifier_13_1 = fit_estimator(estimator=decisionTreeClassifier_11_1, X=embeddingMatrix_12_1, y=strSeries_8_2)"
            ]
        },
        {
            "attachments": {},
            "cell_type": "markdown",
            "metadata": {},
            "source": [
                "### Step 14: `predict`\n",
                "#### Notes\n",
                "Predicts using a FITTED estimator\n",
                "#### inputs:\n",
                "- 1\n",
                "\t- DataClass: `DecisionTreeClassifier`\n",
                "\t- StatisticalRelevance: `NoRelevance`\n",
                "\t- src: `(13, 0)`\n",
                "- 2\n",
                "\t- DataClass: `EmbeddingMatrix`\n",
                "\t- StatisticalRelevance: `IndependentVariable`\n",
                "\t- src: `(10, 0)`\n",
                "#### outputs:\n",
                "- 1\n",
                "\t- DataClass: `MixedSeries`\n",
                "\t- StatisticalRelevance: `Prediction`"
            ]
        },
        {
            "cell_type": "code",
            "execution_count": null,
            "metadata": {},
            "outputs": [],
            "source": [
                "mixedSeries_14_1 = predict(estimator=decisionTreeClassifier_13_1, X=embeddingMatrix_10_1)"
            ]
        },
        {
            "attachments": {},
            "cell_type": "markdown",
            "metadata": {},
            "source": [
                "### Step 15: `classification_report`\n",
                "#### Notes\n",
                "Displays a classification report\n",
                "#### inputs:\n",
                "- 1\n",
                "\t- DataClass: `MixedSeries`\n",
                "\t- StatisticalRelevance: `Prediction`\n",
                "\t- src: `(14, 0)`\n",
                "- 2\n",
                "\t- DataClass: `StrSeries`\n",
                "\t- StatisticalRelevance: `DependentVariable`\n",
                "\t- src: `(9, 1)`\n",
                "#### outputs:\n",
                "- 1\n",
                "\t- DataClass: `ClassificationReport`\n",
                "\t- StatisticalRelevance: `NoRelevance`"
            ]
        },
        {
            "cell_type": "code",
            "execution_count": null,
            "metadata": {},
            "outputs": [],
            "source": [
                "classificationReport_15_1 = classification_report(y_true=mixedSeries_14_1, y_pred=strSeries_9_2)"
            ]
        }
    ],
    "metadata": {
        "kernelspec": {
            "display_name": "APE",
            "language": "python",
            "name": "python3"
        },
        "language_info": {
            "codemirror_mode": {
                "name": "ipython",
                "version": 3
            },
            "file_extension": ".py",
            "mimetype": "text/x-python",
            "name": "python",
            "nbconvert_exporter": "python",
            "pygments_lexer": "ipython3",
            "version": "3.10.10"
        },
        "orig_nbformat": 4
    },
    "nbformat": 4,
    "nbformat_minor": 2
}
