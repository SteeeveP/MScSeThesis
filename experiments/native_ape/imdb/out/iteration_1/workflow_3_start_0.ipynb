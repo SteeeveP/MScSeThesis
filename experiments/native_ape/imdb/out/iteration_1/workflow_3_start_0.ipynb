{
    "cells": [
        {
            "attachments": {},
            "cell_type": "markdown",
            "metadata": {},
            "source": [
                "![workflow graph](Figures/SolutionNo_2_length_7.png \"Workflow Graph\")"
            ]
        },
        {
            "cell_type": "code",
            "execution_count": 1,
            "metadata": {},
            "outputs": [],
            "source": [
                "from pathlib import Path\n",
                "import sys\n",
                "\n",
                "import pandas as pd\n",
                "\n",
                "sys.path.append('/Users/stevep/Documents/code/APE_thesis/ape-thesis')\n",
                "from wrapper_functions import *    "
            ]
        },
        {
            "attachments": {},
            "cell_type": "markdown",
            "metadata": {},
            "source": [
                "## Workflow Input Objects"
            ]
        },
        {
            "attachments": {},
            "cell_type": "markdown",
            "metadata": {},
            "source": [
                "### Table 1\n",
                "- id: `imbd_train`\n",
                "- source: `/Users/stevep/Documents/code/APE_thesis/ape-thesis/usecases/imbd/imbd_train_fixed.csv`\n",
                "- DataClass: `MixedDataFrame`\n",
                "- DataClass: `NoRelevance`    "
            ]
        },
        {
            "cell_type": "code",
            "execution_count": 2,
            "metadata": {},
            "outputs": [
                {
                    "name": "stdout",
                    "output_type": "stream",
                    "text": [
                        "<class 'pandas.core.frame.DataFrame'>\n",
                        "RangeIndex: 50000 entries, 0 to 49999\n",
                        "Data columns (total 3 columns):\n",
                        " #   Column      Non-Null Count  Dtype \n",
                        "---  ------      --------------  ----- \n",
                        " 0   Unnamed: 0  50000 non-null  int64 \n",
                        " 1   review      50000 non-null  object\n",
                        " 2   sentiment   50000 non-null  object\n",
                        "dtypes: int64(1), object(2)\n",
                        "memory usage: 1.1+ MB\n"
                    ]
                },
                {
                    "data": {
                        "text/plain": [
                            "None"
                        ]
                    },
                    "metadata": {},
                    "output_type": "display_data"
                },
                {
                    "data": {
                        "text/html": [
                            "<div>\n",
                            "<style scoped>\n",
                            "    .dataframe tbody tr th:only-of-type {\n",
                            "        vertical-align: middle;\n",
                            "    }\n",
                            "\n",
                            "    .dataframe tbody tr th {\n",
                            "        vertical-align: top;\n",
                            "    }\n",
                            "\n",
                            "    .dataframe thead th {\n",
                            "        text-align: right;\n",
                            "    }\n",
                            "</style>\n",
                            "<table border=\"1\" class=\"dataframe\">\n",
                            "  <thead>\n",
                            "    <tr style=\"text-align: right;\">\n",
                            "      <th></th>\n",
                            "      <th>Unnamed: 0</th>\n",
                            "      <th>review</th>\n",
                            "      <th>sentiment</th>\n",
                            "    </tr>\n",
                            "  </thead>\n",
                            "  <tbody>\n",
                            "    <tr>\n",
                            "      <th>0</th>\n",
                            "      <td>0</td>\n",
                            "      <td>One of the other reviews has mentioned that af...</td>\n",
                            "      <td>positive</td>\n",
                            "    </tr>\n",
                            "    <tr>\n",
                            "      <th>1</th>\n",
                            "      <td>1</td>\n",
                            "      <td>A wonderful little production. The filling tec...</td>\n",
                            "      <td>positive</td>\n",
                            "    </tr>\n",
                            "    <tr>\n",
                            "      <th>2</th>\n",
                            "      <td>2</td>\n",
                            "      <td>I thought this was a wonderful way to spend ti...</td>\n",
                            "      <td>positive</td>\n",
                            "    </tr>\n",
                            "    <tr>\n",
                            "      <th>3</th>\n",
                            "      <td>3</td>\n",
                            "      <td>Basically there's a family where a little boy ...</td>\n",
                            "      <td>negative</td>\n",
                            "    </tr>\n",
                            "    <tr>\n",
                            "      <th>4</th>\n",
                            "      <td>4</td>\n",
                            "      <td>Letter Matter's \"Love in the Time of Money\" is...</td>\n",
                            "      <td>positive</td>\n",
                            "    </tr>\n",
                            "  </tbody>\n",
                            "</table>\n",
                            "</div>"
                        ],
                        "text/plain": [
                            "   Unnamed: 0                                             review sentiment\n",
                            "0           0  One of the other reviews has mentioned that af...  positive\n",
                            "1           1  A wonderful little production. The filling tec...  positive\n",
                            "2           2  I thought this was a wonderful way to spend ti...  positive\n",
                            "3           3  Basically there's a family where a little boy ...  negative\n",
                            "4           4  Letter Matter's \"Love in the Time of Money\" is...  positive"
                        ]
                    },
                    "metadata": {},
                    "output_type": "display_data"
                }
            ],
            "source": [
                "imbd_train = load_table_csv('/Users/stevep/Documents/code/APE_thesis/ape-thesis/usecases/imbd/imbd_train_fixed.csv')"
            ]
        },
        {
            "attachments": {},
            "cell_type": "markdown",
            "metadata": {},
            "source": [
                "### Step 1: `init_sklearn_search_cv`\n",
                "#### Notes\n",
                "Initializes a sklearn search cv.\n",
                "\n",
                "    The passed search cv string must be one of the following:\n",
                "\n",
                "    - 'GridSearchCV'\n",
                "    - 'HalvingGridSearchCV'\n",
                "\n",
                "    The passed estimator string must be an estimator (see `init_sklearn_estimator`)\n",
                "\n",
                "    > **MISSING** paramter `param_grid` has to be provided here:\n",
                "        Dict[str, List] or List[Dict[str, List]\n",
                "    \n",
                "#### inputs:\n",
                "- 1\n",
                "\t- DataClass: `Str`\n",
                "\t- StatisticalRelevance: `BasicObjectRelevance_plain`\n",
                "\t- APE_label: `['abrev.json']`\n",
                "\t- src: `(0, 5)`\n",
                "#### outputs:\n",
                "- 1\n",
                "\t- DataClass: `HalvingGridSearchCV`\n",
                "\t- StatisticalRelevance: `NoRelevance`"
            ]
        },
        {
            "cell_type": "code",
            "execution_count": 3,
            "metadata": {},
            "outputs": [
                {
                    "ename": "TypeError",
                    "evalue": "init_sklearn_search_cv() missing 1 required positional argument: 'estimator'",
                    "output_type": "error",
                    "traceback": [
                        "\u001b[0;31m---------------------------------------------------------------------------\u001b[0m",
                        "\u001b[0;31mTypeError\u001b[0m                                 Traceback (most recent call last)",
                        "Cell \u001b[0;32mIn[3], line 1\u001b[0m\n\u001b[0;32m----> 1\u001b[0m halvingGridSearchCV_1_1 \u001b[39m=\u001b[39m init_sklearn_search_cv(search_cv\u001b[39m=\u001b[39;49m\u001b[39m'\u001b[39;49m\u001b[39mabrev.json\u001b[39;49m\u001b[39m'\u001b[39;49m)\n",
                        "\u001b[0;31mTypeError\u001b[0m: init_sklearn_search_cv() missing 1 required positional argument: 'estimator'"
                    ]
                }
            ],
            "source": [
                "halvingGridSearchCV_1_1 = init_sklearn_search_cv(search_cv='abrev.json')"
            ]
        },
        {
            "attachments": {},
            "cell_type": "markdown",
            "metadata": {},
            "source": [
                "### Step 2: `get_text_from_html_i`\n",
                "#### Notes\n",
                "Extracts text from html using BeautifulSoup *inplace*\n",
                "#### inputs:\n",
                "- 1\n",
                "\t- DataClass: `MixedDataFrame`\n",
                "\t- StatisticalRelevance: `NoRelevance`\n",
                "\t- APE_label: `['imbd_train']`\n",
                "\t- src: `(0, 2)`\n",
                "- 2\n",
                "\t- DataClass: `StrColumn`\n",
                "\t- StatisticalRelevance: `IndependentVariable`\n",
                "\t- APE_label: `['review']`\n",
                "\t- src: `(0, 1)`\n",
                "#### outputs:\n"
            ]
        },
        {
            "cell_type": "code",
            "execution_count": null,
            "metadata": {},
            "outputs": [],
            "source": [
                "get_text_from_html_i(data=imbd_train, column='review')"
            ]
        },
        {
            "attachments": {},
            "cell_type": "markdown",
            "metadata": {},
            "source": [
                "### Step 3: `expand_abbr_i`\n",
                "#### Notes\n",
                "Expands abbreviations using a dictionary loaded from a json file *inplace*\n",
                "#### inputs:\n",
                "- 1\n",
                "\t- DataClass: `Str`\n",
                "\t- StatisticalRelevance: `BasicObjectRelevance_plain`\n",
                "\t- APE_label: `['abrev.json']`\n",
                "\t- src: `(0, 5)`\n",
                "- 2\n",
                "\t- DataClass: `MixedDataFrame`\n",
                "\t- StatisticalRelevance: `NoRelevance`\n",
                "\t- APE_label: `['imbd_train']`\n",
                "\t- src: `(0, 2)`\n",
                "- 3\n",
                "\t- DataClass: `StrColumn`\n",
                "\t- StatisticalRelevance: `IndependentVariable`\n",
                "\t- APE_label: `['review']`\n",
                "\t- src: `(0, 1)`\n",
                "#### outputs:\n"
            ]
        },
        {
            "cell_type": "code",
            "execution_count": null,
            "metadata": {},
            "outputs": [],
            "source": [
                "expand_abbr_i(path_to_dict='abrev.json', data=imbd_train, column='review')"
            ]
        },
        {
            "attachments": {},
            "cell_type": "markdown",
            "metadata": {},
            "source": [
                "### Step 4: `replace_re_i`\n",
                "\n",
                "#### inputs:\n",
                "- 1\n",
                "\t- DataClass: `MixedDataFrame`\n",
                "\t- StatisticalRelevance: `NoRelevance`\n",
                "\t- APE_label: `['imbd_train']`\n",
                "\t- src: `(0, 2)`\n",
                "- 2\n",
                "\t- DataClass: `StrColumn`\n",
                "\t- StatisticalRelevance: `IndependentVariable`\n",
                "\t- APE_label: `['review']`\n",
                "\t- src: `(0, 1)`\n",
                "- 3\n",
                "\t- DataClass: `Str`\n",
                "\t- StatisticalRelevance: `BasicObjectRelevance_plain`\n",
                "\t- APE_label: `[' ']`\n",
                "\t- src: `(0, 4)`\n",
                "- 4\n",
                "\t- DataClass: `Str`\n",
                "\t- StatisticalRelevance: `BasicObjectRelevance_plain`\n",
                "\t- APE_label: `['[^a-zA-Z]']`\n",
                "\t- src: `(0, 3)`\n",
                "#### outputs:\n"
            ]
        },
        {
            "cell_type": "code",
            "execution_count": null,
            "metadata": {},
            "outputs": [],
            "source": [
                "replace_re_i(data=imbd_train, col='review', pattern=' ', replacer='[^a-zA-Z]')"
            ]
        },
        {
            "attachments": {},
            "cell_type": "markdown",
            "metadata": {},
            "source": [
                "### Step 5: `lemmatize_i`\n",
                "#### Notes\n",
                "Lemmatizes using spacy *inplace*\n",
                "#### inputs:\n",
                "- 1\n",
                "\t- DataClass: `MixedDataFrame`\n",
                "\t- StatisticalRelevance: `NoRelevance`\n",
                "\t- APE_label: `['imbd_train']`\n",
                "\t- src: `(0, 2)`\n",
                "- 2\n",
                "\t- DataClass: `StrColumn`\n",
                "\t- StatisticalRelevance: `IndependentVariable`\n",
                "\t- APE_label: `['review']`\n",
                "\t- src: `(0, 1)`\n",
                "#### outputs:\n"
            ]
        },
        {
            "cell_type": "code",
            "execution_count": null,
            "metadata": {},
            "outputs": [],
            "source": [
                "lemmatize_i(data=imbd_train, column='review')"
            ]
        },
        {
            "attachments": {},
            "cell_type": "markdown",
            "metadata": {},
            "source": [
                "### Step 6: `remove_stopwords_i`\n",
                "#### Notes\n",
                "Removes stopwords using spacy *inplace*\n",
                "#### inputs:\n",
                "- 1\n",
                "\t- DataClass: `MixedDataFrame`\n",
                "\t- StatisticalRelevance: `NoRelevance`\n",
                "\t- APE_label: `['imbd_train']`\n",
                "\t- src: `(0, 2)`\n",
                "- 2\n",
                "\t- DataClass: `StrColumn`\n",
                "\t- StatisticalRelevance: `IndependentVariable`\n",
                "\t- APE_label: `['review']`\n",
                "\t- src: `(0, 1)`\n",
                "#### outputs:\n"
            ]
        },
        {
            "cell_type": "code",
            "execution_count": null,
            "metadata": {},
            "outputs": [],
            "source": [
                "remove_stopwords_i(data=imbd_train, column='review')"
            ]
        },
        {
            "attachments": {},
            "cell_type": "markdown",
            "metadata": {},
            "source": [
                "### Step 7: `plot_wordcloud`\n",
                "#### Notes\n",
                "Plots a wordcloud for a dataframe or series\n",
                "#### inputs:\n",
                "- 1\n",
                "\t- DataClass: `MixedDataFrame`\n",
                "\t- StatisticalRelevance: `NoRelevance`\n",
                "\t- APE_label: `['imbd_train']`\n",
                "\t- src: `(0, 2)`\n",
                "- 2\n",
                "\t- DataClass: `StrColumn`\n",
                "\t- StatisticalRelevance: `IndependentVariable`\n",
                "\t- APE_label: `['review']`\n",
                "\t- src: `(0, 1)`\n",
                "#### outputs:\n",
                "- 1\n",
                "\t- DataClass: `Figure`\n",
                "\t- StatisticalRelevance: `NoRelevance`"
            ]
        },
        {
            "cell_type": "code",
            "execution_count": null,
            "metadata": {},
            "outputs": [],
            "source": [
                "figure_7_1 = plot_wordcloud(data=imbd_train, column='review')"
            ]
        }
    ],
    "metadata": {
        "kernelspec": {
            "display_name": "APE",
            "language": "python",
            "name": "python3"
        },
        "language_info": {
            "codemirror_mode": {
                "name": "ipython",
                "version": 3
            },
            "file_extension": ".py",
            "mimetype": "text/x-python",
            "name": "python",
            "nbconvert_exporter": "python",
            "pygments_lexer": "ipython3",
            "version": "3.10.10"
        },
        "orig_nbformat": 4
    },
    "nbformat": 4,
    "nbformat_minor": 2
}
