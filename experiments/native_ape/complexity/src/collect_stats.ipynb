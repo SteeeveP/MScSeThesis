{
 "cells": [
  {
   "cell_type": "code",
   "execution_count": 1,
   "metadata": {},
   "outputs": [],
   "source": [
    "from pathlib import Path\n",
    "import subprocess\n",
    "import logging"
   ]
  },
  {
   "cell_type": "code",
   "execution_count": 2,
   "metadata": {},
   "outputs": [],
   "source": [
    "logger = logging.getLogger(__name__)\n",
    "logger.setLevel(logging.DEBUG)\n",
    "formatter = logging.Formatter('%(asctime)s - %(name)s - %(levelname)s - %(message)s')\n",
    "handler = logging.FileHandler('collect_stats.log', mode='w')\n",
    "handler.setFormatter(formatter)\n",
    "logger.addHandler(handler)"
   ]
  },
  {
   "cell_type": "code",
   "execution_count": 3,
   "metadata": {},
   "outputs": [],
   "source": [
    "APE_PATH = Path('..') / '..' / 'APE' / 'APE-2.0.3-executable.jar'\n",
    "USE_CASE_PATH = Path('.').resolve()\n",
    "LOG_PATH = Path('.') / 'solutions'"
   ]
  },
  {
   "cell_type": "code",
   "execution_count": 4,
   "metadata": {},
   "outputs": [
    {
     "ename": "KeyboardInterrupt",
     "evalue": "",
     "output_type": "error",
     "traceback": [
      "\u001b[0;31m---------------------------------------------------------------------------\u001b[0m",
      "\u001b[0;31mKeyboardInterrupt\u001b[0m                         Traceback (most recent call last)",
      "Cell \u001b[0;32mIn[4], line 5\u001b[0m\n\u001b[1;32m      2\u001b[0m \u001b[39mfor\u001b[39;00m cols \u001b[39min\u001b[39;00m [\u001b[39m10\u001b[39m, \u001b[39m20\u001b[39m, \u001b[39m41\u001b[39m, \u001b[39m83\u001b[39m]:\n\u001b[1;32m      3\u001b[0m     \u001b[39m# run APE and log the output in a file\u001b[39;00m\n\u001b[1;32m      4\u001b[0m     logger\u001b[39m.\u001b[39minfo(\u001b[39m'\u001b[39m\u001b[39m \u001b[39m\u001b[39m'\u001b[39m\u001b[39m.\u001b[39mjoin([\u001b[39m'\u001b[39m\u001b[39mjava\u001b[39m\u001b[39m'\u001b[39m, \u001b[39m'\u001b[39m\u001b[39m-Xmx8g\u001b[39m\u001b[39m'\u001b[39m, \u001b[39m'\u001b[39m\u001b[39m-jar\u001b[39m\u001b[39m'\u001b[39m, \u001b[39mstr\u001b[39m(APE_PATH), \u001b[39mf\u001b[39m\u001b[39m'\u001b[39m\u001b[39mconfig_DIM_\u001b[39m\u001b[39m{\u001b[39;00mdims\u001b[39m}\u001b[39;00m\u001b[39m_COLS_\u001b[39m\u001b[39m{\u001b[39;00mcols\u001b[39m}\u001b[39;00m\u001b[39m.json\u001b[39m\u001b[39m'\u001b[39m]))\n\u001b[0;32m----> 5\u001b[0m     result \u001b[39m=\u001b[39m subprocess\u001b[39m.\u001b[39;49mrun(\n\u001b[1;32m      6\u001b[0m         \u001b[39mf\u001b[39;49m\u001b[39m'\u001b[39;49m\u001b[39mjava -Xmx8g -jar \u001b[39;49m\u001b[39m{\u001b[39;49;00mAPE_PATH\u001b[39m}\u001b[39;49;00m\u001b[39m config_DIM_\u001b[39;49m\u001b[39m{\u001b[39;49;00mdims\u001b[39m}\u001b[39;49;00m\u001b[39m_COLS_\u001b[39;49m\u001b[39m{\u001b[39;49;00mcols\u001b[39m}\u001b[39;49;00m\u001b[39m.json | tee run_\u001b[39;49m\u001b[39m{\u001b[39;49;00mdims\u001b[39m}\u001b[39;49;00m\u001b[39m_\u001b[39;49m\u001b[39m{\u001b[39;49;00mcols\u001b[39m}\u001b[39;49;00m\u001b[39m.log\u001b[39;49m\u001b[39m'\u001b[39;49m,\n\u001b[1;32m      7\u001b[0m         capture_output\u001b[39m=\u001b[39;49m\u001b[39mTrue\u001b[39;49;00m,\n\u001b[1;32m      8\u001b[0m         shell\u001b[39m=\u001b[39;49m\u001b[39mTrue\u001b[39;49;00m,\n\u001b[1;32m      9\u001b[0m     )\n\u001b[1;32m     10\u001b[0m     log_file \u001b[39m=\u001b[39m LOG_PATH \u001b[39m/\u001b[39m \u001b[39mf\u001b[39m\u001b[39m'\u001b[39m\u001b[39mlog_DIM_\u001b[39m\u001b[39m{\u001b[39;00mdims\u001b[39m}\u001b[39;00m\u001b[39m_COLS_\u001b[39m\u001b[39m{\u001b[39;00mcols\u001b[39m}\u001b[39;00m\u001b[39m.txt\u001b[39m\u001b[39m'\u001b[39m\n\u001b[1;32m     11\u001b[0m     \u001b[39mwith\u001b[39;00m \u001b[39mopen\u001b[39m(log_file, \u001b[39m'\u001b[39m\u001b[39mw\u001b[39m\u001b[39m'\u001b[39m, encoding\u001b[39m=\u001b[39m\u001b[39m'\u001b[39m\u001b[39mutf-8\u001b[39m\u001b[39m'\u001b[39m) \u001b[39mas\u001b[39;00m log_f:\n",
      "File \u001b[0;32m~/opt/anaconda3/envs/APE/lib/python3.10/subprocess.py:505\u001b[0m, in \u001b[0;36mrun\u001b[0;34m(input, capture_output, timeout, check, *popenargs, **kwargs)\u001b[0m\n\u001b[1;32m    503\u001b[0m \u001b[39mwith\u001b[39;00m Popen(\u001b[39m*\u001b[39mpopenargs, \u001b[39m*\u001b[39m\u001b[39m*\u001b[39mkwargs) \u001b[39mas\u001b[39;00m process:\n\u001b[1;32m    504\u001b[0m     \u001b[39mtry\u001b[39;00m:\n\u001b[0;32m--> 505\u001b[0m         stdout, stderr \u001b[39m=\u001b[39m process\u001b[39m.\u001b[39;49mcommunicate(\u001b[39minput\u001b[39;49m, timeout\u001b[39m=\u001b[39;49mtimeout)\n\u001b[1;32m    506\u001b[0m     \u001b[39mexcept\u001b[39;00m TimeoutExpired \u001b[39mas\u001b[39;00m exc:\n\u001b[1;32m    507\u001b[0m         process\u001b[39m.\u001b[39mkill()\n",
      "File \u001b[0;32m~/opt/anaconda3/envs/APE/lib/python3.10/subprocess.py:1154\u001b[0m, in \u001b[0;36mPopen.communicate\u001b[0;34m(self, input, timeout)\u001b[0m\n\u001b[1;32m   1151\u001b[0m     endtime \u001b[39m=\u001b[39m \u001b[39mNone\u001b[39;00m\n\u001b[1;32m   1153\u001b[0m \u001b[39mtry\u001b[39;00m:\n\u001b[0;32m-> 1154\u001b[0m     stdout, stderr \u001b[39m=\u001b[39m \u001b[39mself\u001b[39;49m\u001b[39m.\u001b[39;49m_communicate(\u001b[39minput\u001b[39;49m, endtime, timeout)\n\u001b[1;32m   1155\u001b[0m \u001b[39mexcept\u001b[39;00m \u001b[39mKeyboardInterrupt\u001b[39;00m:\n\u001b[1;32m   1156\u001b[0m     \u001b[39m# https://bugs.python.org/issue25942\u001b[39;00m\n\u001b[1;32m   1157\u001b[0m     \u001b[39m# See the detailed comment in .wait().\u001b[39;00m\n\u001b[1;32m   1158\u001b[0m     \u001b[39mif\u001b[39;00m timeout \u001b[39mis\u001b[39;00m \u001b[39mnot\u001b[39;00m \u001b[39mNone\u001b[39;00m:\n",
      "File \u001b[0;32m~/opt/anaconda3/envs/APE/lib/python3.10/subprocess.py:2005\u001b[0m, in \u001b[0;36mPopen._communicate\u001b[0;34m(self, input, endtime, orig_timeout)\u001b[0m\n\u001b[1;32m   1998\u001b[0m     \u001b[39mself\u001b[39m\u001b[39m.\u001b[39m_check_timeout(endtime, orig_timeout,\n\u001b[1;32m   1999\u001b[0m                         stdout, stderr,\n\u001b[1;32m   2000\u001b[0m                         skip_check_and_raise\u001b[39m=\u001b[39m\u001b[39mTrue\u001b[39;00m)\n\u001b[1;32m   2001\u001b[0m     \u001b[39mraise\u001b[39;00m \u001b[39mRuntimeError\u001b[39;00m(  \u001b[39m# Impossible :)\u001b[39;00m\n\u001b[1;32m   2002\u001b[0m         \u001b[39m'\u001b[39m\u001b[39m_check_timeout(..., skip_check_and_raise=True) \u001b[39m\u001b[39m'\u001b[39m\n\u001b[1;32m   2003\u001b[0m         \u001b[39m'\u001b[39m\u001b[39mfailed to raise TimeoutExpired.\u001b[39m\u001b[39m'\u001b[39m)\n\u001b[0;32m-> 2005\u001b[0m ready \u001b[39m=\u001b[39m selector\u001b[39m.\u001b[39;49mselect(timeout)\n\u001b[1;32m   2006\u001b[0m \u001b[39mself\u001b[39m\u001b[39m.\u001b[39m_check_timeout(endtime, orig_timeout, stdout, stderr)\n\u001b[1;32m   2008\u001b[0m \u001b[39m# XXX Rewrite these to use non-blocking I/O on the file\u001b[39;00m\n\u001b[1;32m   2009\u001b[0m \u001b[39m# objects; they are no longer using C stdio!\u001b[39;00m\n",
      "File \u001b[0;32m~/opt/anaconda3/envs/APE/lib/python3.10/selectors.py:416\u001b[0m, in \u001b[0;36m_PollLikeSelector.select\u001b[0;34m(self, timeout)\u001b[0m\n\u001b[1;32m    414\u001b[0m ready \u001b[39m=\u001b[39m []\n\u001b[1;32m    415\u001b[0m \u001b[39mtry\u001b[39;00m:\n\u001b[0;32m--> 416\u001b[0m     fd_event_list \u001b[39m=\u001b[39m \u001b[39mself\u001b[39;49m\u001b[39m.\u001b[39;49m_selector\u001b[39m.\u001b[39;49mpoll(timeout)\n\u001b[1;32m    417\u001b[0m \u001b[39mexcept\u001b[39;00m \u001b[39mInterruptedError\u001b[39;00m:\n\u001b[1;32m    418\u001b[0m     \u001b[39mreturn\u001b[39;00m ready\n",
      "\u001b[0;31mKeyboardInterrupt\u001b[0m: "
     ]
    }
   ],
   "source": [
    "for dims in [2, 3, 4]:#[1, 2, 3, 4]:\n",
    "    for cols in [10, 20, 41, 83]:\n",
    "        # run APE and log the output in a file\n",
    "        logger.info(' '.join(['java', '-Xmx8g', '-jar', str(APE_PATH), f'config_DIM_{dims}_COLS_{cols}.json']))\n",
    "        result = subprocess.run(\n",
    "            f'java -Xmx8g -jar {APE_PATH} config_DIM_{dims}_COLS_{cols}.json | tee run_{dims}_{cols}.log',\n",
    "            capture_output=True,\n",
    "            shell=True,\n",
    "        )\n",
    "        log_file = LOG_PATH / f'log_DIM_{dims}_COLS_{cols}.txt'\n",
    "        with open(log_file, 'w', encoding='utf-8') as log_f:\n",
    "            log_f.write(result.stdout.decode('utf-8'))\n",
    "        if result.returncode != 0 or result.stderr:\n",
    "            logger.error(f'Error with DIM={dims} COLS={cols}')\n",
    "            logger.error(result.stderr.decode('utf-8'))\n",
    "        logger.info(f'Finished DIM={dims} COLS={cols}')"
   ]
  },
  {
   "cell_type": "code",
   "execution_count": null,
   "metadata": {},
   "outputs": [],
   "source": [
    "for dims in [1, 2, 3, 4]:\n",
    "    for cols in [10, 20, 41, 83]:\n",
    "        # run APE and log the output in a file\n",
    "        logger.info(' '.join(['java', '-Xmx8g', '-jar', str(APE_PATH), f'config_DIM_{dims}_COLS_{cols}.json']))\n",
    "        result = subprocess.run(\n",
    "            f'java -Xmx8g -jar {APE_PATH} config_DIM_{dims}_COLS_{cols}.json | tee run_{dims}_{cols}.log',\n",
    "            capture_output=True,\n",
    "            shell=True,\n",
    "        )\n",
    "        log_file = LOG_PATH / f'log_DIM_{dims}_COLS_{cols}_2.txt'\n",
    "        with open(log_file, 'w', encoding='utf-8') as log_f:\n",
    "            log_f.write(result.stdout.decode('utf-8'))\n",
    "        if result.returncode != 0 or result.stderr:\n",
    "            logger.error(f'Error with DIM={dims} COLS={cols}')\n",
    "            logger.error(result.stderr.decode('utf-8'))\n",
    "        logger.info(f'Finished DIM={dims} COLS={cols}')"
   ]
  },
  {
   "cell_type": "code",
   "execution_count": null,
   "metadata": {},
   "outputs": [],
   "source": [
    "for dims in [1, 2, 3, 4]:\n",
    "    for cols in [10, 20, 41, 83]:\n",
    "        # run APE and log the output in a file\n",
    "        logger.info(' '.join(['java', '-Xmx8g', '-jar', str(APE_PATH), f'config_DIM_{dims}_COLS_{cols}.json']))\n",
    "        result = subprocess.run(\n",
    "            f'java -Xmx8g -jar {APE_PATH} config_DIM_{dims}_COLS_{cols}.json | tee run_{dims}_{cols}.log',\n",
    "            capture_output=True,\n",
    "            shell=True,\n",
    "        )\n",
    "        log_file = LOG_PATH / f'log_DIM_{dims}_COLS_{cols}_3.txt'\n",
    "        with open(log_file, 'w', encoding='utf-8') as log_f:\n",
    "            log_f.write(result.stdout.decode('utf-8'))\n",
    "        if result.returncode != 0 or result.stderr:\n",
    "            logger.error(f'Error with DIM={dims} COLS={cols}')\n",
    "            logger.error(result.stderr.decode('utf-8'))\n",
    "        logger.info(f'Finished DIM={dims} COLS={cols}')"
   ]
  }
 ],
 "metadata": {
  "kernelspec": {
   "display_name": "APE",
   "language": "python",
   "name": "python3"
  },
  "language_info": {
   "codemirror_mode": {
    "name": "ipython",
    "version": 3
   },
   "file_extension": ".py",
   "mimetype": "text/x-python",
   "name": "python",
   "nbconvert_exporter": "python",
   "pygments_lexer": "ipython3",
   "version": "3.10.10"
  },
  "orig_nbformat": 4
 },
 "nbformat": 4,
 "nbformat_minor": 2
}
