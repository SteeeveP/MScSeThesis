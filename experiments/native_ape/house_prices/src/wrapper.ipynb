{
 "cells": [
  {
   "cell_type": "code",
   "execution_count": 1,
   "metadata": {},
   "outputs": [],
   "source": [
    "import pandas as pd\n",
    "import numpy as np\n",
    "\n",
    "import json\n",
    "\n",
    "from typing import cast, Dict, Tuple, Set, List, NamedTuple"
   ]
  },
  {
   "attachments": {},
   "cell_type": "markdown",
   "metadata": {},
   "source": [
    "# config template"
   ]
  },
  {
   "cell_type": "code",
   "execution_count": 2,
   "metadata": {},
   "outputs": [],
   "source": [
    "CONFIG = {\n",
    "    \"ontology_path\": \"../../ontology/ontology_v2.owl\",\n",
    "    \"ontologyPrefixIRI\": \"http://www.co-ode.org/ontologies/ont.owl#\",\n",
    "    \"toolsTaxonomyRoot\": \"ToolsTaxonomy\",\n",
    "    \"dataDimensionsTaxonomyRoots\": [\n",
    "        \"DataClass\",\n",
    "        # \"DataState\",\n",
    "        \"StatisticalRelevance\",\n",
    "        # \"DataSetIndex\"\n",
    "    ],\n",
    "    \"tool_annotations_path\": \"../../ontology/tool_annotations_v2.json\",\n",
    "    \"constraints_path\": \"constraints.json\",\n",
    "    \"solutions_dir_path\": \"./solutions/\",\n",
    "    \"solution_length\": {\n",
    "        \"min\": 1,\n",
    "        \"max\": 10\n",
    "    },\n",
    "    \"solutions\": \"5\",\n",
    "    \"number_of_execution_scripts\": \"0\",\n",
    "    \"number_of_generated_graphs\": \"5\",\n",
    "    \"tool_seq_repeat\": \"true\",\n",
    "    \"debug_mode\": \"false\",\n",
    "    \"use_workflow_input\": \"ONE\",\n",
    "    \"use_all_generated_data\": \"ONE\",\n",
    "}"
   ]
  },
  {
   "attachments": {},
   "cell_type": "markdown",
   "metadata": {},
   "source": [
    "# input data"
   ]
  },
  {
   "cell_type": "code",
   "execution_count": 3,
   "metadata": {},
   "outputs": [],
   "source": [
    "def read_input_table(file_name: str, dependent_vars: List[str], alias: str):\n",
    "    col_list: List[Dict[str, str]] = []\n",
    "    table: pd.DataFrame = pd.read_csv(file_name)\n",
    "    table.columns = table.columns.astype(str)\n",
    "    for col in table.columns:\n",
    "        col_list.append({\n",
    "            'DataClass': {\n",
    "                np.int64: 'IntColumn',\n",
    "                np.float64: 'FloatColumn',\n",
    "                np.object_: 'StrColumn',\n",
    "                np.bool_: 'BoolColumn',\n",
    "            }[table[col].dtype.type],\n",
    "            # 'DataState': 'NonModified',\n",
    "            'StatisticalRelevance': 'IndependentVariable' if col not in dependent_vars else 'DependentVariable',\n",
    "            # 'DataSetIndex': 'InputData',\n",
    "            'ColumnID': col,\n",
    "            'TableID': alias,\n",
    "            'OtherID': '-',\n",
    "        })\n",
    "    table_types = {}\n",
    "    for key, subset in [('dep', table[dependent_vars]), ('indep', table.drop(columns=dependent_vars))]:\n",
    "        if all(subset.dtypes.isin(['int64', 'float64', 'bool'])):\n",
    "            if all(subset.dtypes == 'int64'):\n",
    "                table_type = 'IntDataFrame'\n",
    "            elif all(subset.dtype == 'float64'):\n",
    "                table_type = 'FloatDataFrame'\n",
    "            elif all(subset.dtype == 'bool'):\n",
    "                table_type = 'BoolDataFrame'\n",
    "            else:\n",
    "                table_type = 'NumberDataFrame'\n",
    "        elif all(subset.dtypes == 'object'):\n",
    "            table_type = 'StrDataFrame'\n",
    "        else:\n",
    "            #! incomplete\n",
    "            table_type = 'MixedDataFrame'\n",
    "        table_types[key] = table_type\n",
    "    return col_list, table_types['dep'], table_types['indep']\n",
    "\n",
    "\n",
    "def input_data_to_config(input_data: Dict[str, List]):\n",
    "    inputs_out: List[Dict[str, List[str]]] = []\n",
    "    # tables\n",
    "    table: Tuple[List[Dict[str, str]], str, str]\n",
    "    for table in input_data['tables']:\n",
    "        for col in table[0]:\n",
    "            inputs_out.append(\n",
    "                {k: [col[k]] for k in [\n",
    "                    'DataClass',\n",
    "                    # 'DataState',\n",
    "                    'StatisticalRelevance',\n",
    "                    # 'DataSetIndex'\n",
    "                ]}\n",
    "                | {'APE_label': [\n",
    "                    col['ColumnID'],\n",
    "                    # col['TableID'], #! problem with APE_labels, see mail to Vedran\n",
    "                ]}\n",
    "            )\n",
    "        inputs_out.append({\n",
    "            'DataClass': [table[1]],\n",
    "            # 'DataState': ['NonModified'],\n",
    "            'StatisticalRelevance': ['DependentVariable'],\n",
    "            # 'DataSetIndex': ['InputData'],\n",
    "            'APE_label': [table[0][0]['TableID']]\n",
    "        })\n",
    "        inputs_out.append({\n",
    "            'DataClass': [table[2]],\n",
    "            # 'DataState': ['NonModified'],\n",
    "            'StatisticalRelevance': ['IndependentVariable'],\n",
    "            # 'DataSetIndex': ['InputData'],\n",
    "            'APE_label': [table[0][0]['TableID']]\n",
    "        })\n",
    "\n",
    "    return inputs_out"
   ]
  },
  {
   "cell_type": "code",
   "execution_count": 4,
   "metadata": {},
   "outputs": [],
   "source": [
    "input_data = {key: [] for key in ['tables']}"
   ]
  },
  {
   "cell_type": "code",
   "execution_count": 5,
   "metadata": {},
   "outputs": [],
   "source": [
    "input_data['tables'] += [read_input_table('train.csv', ['SalePrice'], 'housing_train')]"
   ]
  },
  {
   "cell_type": "code",
   "execution_count": 6,
   "metadata": {},
   "outputs": [],
   "source": [
    "INPUT = input_data_to_config(input_data)"
   ]
  },
  {
   "attachments": {},
   "cell_type": "markdown",
   "metadata": {},
   "source": [
    "# output data"
   ]
  },
  {
   "cell_type": "code",
   "execution_count": 7,
   "metadata": {},
   "outputs": [],
   "source": [
    "OUTPUT = [\n",
    "    {\n",
    "        \"DataClass\": [\n",
    "            \"Figure\"\n",
    "        ],\n",
    "        # \"DataState\": [\n",
    "        #     \"NoState\"\n",
    "        # ],\n",
    "        \"StatisticalRelevance\": [\n",
    "            \"NoRelevance\"\n",
    "        ],\n",
    "        # \"DataSetIndex\": [\n",
    "        #     \"InputData\"\n",
    "        # ]\n",
    "    }\n",
    "]"
   ]
  },
  {
   "attachments": {},
   "cell_type": "markdown",
   "metadata": {},
   "source": [
    "# dump config"
   ]
  },
  {
   "cell_type": "code",
   "execution_count": 8,
   "metadata": {},
   "outputs": [],
   "source": [
    "with open('config.json', 'w', encoding='utf-8') as config_f:\n",
    "    json.dump(CONFIG | {\"inputs\": INPUT, \"outputs\": OUTPUT}, config_f, indent=4)"
   ]
  }
 ],
 "metadata": {
  "kernelspec": {
   "display_name": "APE",
   "language": "python",
   "name": "python3"
  },
  "language_info": {
   "codemirror_mode": {
    "name": "ipython",
    "version": 3
   },
   "file_extension": ".py",
   "mimetype": "text/x-python",
   "name": "python",
   "nbconvert_exporter": "python",
   "pygments_lexer": "ipython3",
   "version": "3.10.10"
  },
  "orig_nbformat": 4,
  "vscode": {
   "interpreter": {
    "hash": "4f2468768cc2be3c67c07a88bfcd0bcb7c99d631929ecfc7260a0ed2dd57f7dc"
   }
  }
 },
 "nbformat": 4,
 "nbformat_minor": 2
}
