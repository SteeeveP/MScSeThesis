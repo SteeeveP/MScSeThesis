{
    "cells": [
        {
            "attachments": {},
            "cell_type": "markdown",
            "metadata": {},
            "source": [
                "![workflow graph](Figures/SolutionNo_0_length_4.png \"Workflow Graph\")"
            ]
        },
        {
            "cell_type": "code",
            "execution_count": 1,
            "metadata": {},
            "outputs": [],
            "source": [
                "from pathlib import Path\n",
                "import sys\n",
                "\n",
                "import pandas as pd\n",
                "\n",
                "sys.path.append('/Users/stevep/Documents/code/APE_thesis/ape-thesis')\n",
                "from wrapper_functions import *    "
            ]
        },
        {
            "attachments": {},
            "cell_type": "markdown",
            "metadata": {},
            "source": [
                "## Workflow Input Objects"
            ]
        },
        {
            "attachments": {},
            "cell_type": "markdown",
            "metadata": {},
            "source": [
                "### Table 1\n",
                "- id: `housing_train`\n",
                "- source: `/Users/stevep/Documents/code/APE_thesis/ape-thesis/usecases/house_prices/train.csv`\n",
                "- DataClass: `MixedDataFrame`\n",
                "- DataClass: `NoRelevance`    "
            ]
        },
        {
            "cell_type": "code",
            "execution_count": 2,
            "metadata": {},
            "outputs": [
                {
                    "name": "stdout",
                    "output_type": "stream",
                    "text": [
                        "<class 'pandas.core.frame.DataFrame'>\n",
                        "RangeIndex: 1460 entries, 0 to 1459\n",
                        "Data columns (total 81 columns):\n",
                        " #   Column         Non-Null Count  Dtype  \n",
                        "---  ------         --------------  -----  \n",
                        " 0   Id             1460 non-null   int64  \n",
                        " 1   MSSubClass     1460 non-null   int64  \n",
                        " 2   MSZoning       1460 non-null   object \n",
                        " 3   LotFrontage    1201 non-null   float64\n",
                        " 4   LotArea        1460 non-null   int64  \n",
                        " 5   Street         1460 non-null   object \n",
                        " 6   Alley          91 non-null     object \n",
                        " 7   LotShape       1460 non-null   object \n",
                        " 8   LandContour    1460 non-null   object \n",
                        " 9   Utilities      1460 non-null   object \n",
                        " 10  LotConfig      1460 non-null   object \n",
                        " 11  LandSlope      1460 non-null   object \n",
                        " 12  Neighborhood   1460 non-null   object \n",
                        " 13  Condition1     1460 non-null   object \n",
                        " 14  Condition2     1460 non-null   object \n",
                        " 15  BldgType       1460 non-null   object \n",
                        " 16  HouseStyle     1460 non-null   object \n",
                        " 17  OverallQual    1460 non-null   int64  \n",
                        " 18  OverallCond    1460 non-null   int64  \n",
                        " 19  YearBuilt      1460 non-null   int64  \n",
                        " 20  YearRemodAdd   1460 non-null   int64  \n",
                        " 21  RoofStyle      1460 non-null   object \n",
                        " 22  RoofMatl       1460 non-null   object \n",
                        " 23  Exterior1st    1460 non-null   object \n",
                        " 24  Exterior2nd    1460 non-null   object \n",
                        " 25  MasVnrType     1452 non-null   object \n",
                        " 26  MasVnrArea     1452 non-null   float64\n",
                        " 27  ExterQual      1460 non-null   object \n",
                        " 28  ExterCond      1460 non-null   object \n",
                        " 29  Foundation     1460 non-null   object \n",
                        " 30  BsmtQual       1423 non-null   object \n",
                        " 31  BsmtCond       1423 non-null   object \n",
                        " 32  BsmtExposure   1422 non-null   object \n",
                        " 33  BsmtFinType1   1423 non-null   object \n",
                        " 34  BsmtFinSF1     1460 non-null   int64  \n",
                        " 35  BsmtFinType2   1422 non-null   object \n",
                        " 36  BsmtFinSF2     1460 non-null   int64  \n",
                        " 37  BsmtUnfSF      1460 non-null   int64  \n",
                        " 38  TotalBsmtSF    1460 non-null   int64  \n",
                        " 39  Heating        1460 non-null   object \n",
                        " 40  HeatingQC      1460 non-null   object \n",
                        " 41  CentralAir     1460 non-null   object \n",
                        " 42  Electrical     1459 non-null   object \n",
                        " 43  1stFlrSF       1460 non-null   int64  \n",
                        " 44  2ndFlrSF       1460 non-null   int64  \n",
                        " 45  LowQualFinSF   1460 non-null   int64  \n",
                        " 46  GrLivArea      1460 non-null   int64  \n",
                        " 47  BsmtFullBath   1460 non-null   int64  \n",
                        " 48  BsmtHalfBath   1460 non-null   int64  \n",
                        " 49  FullBath       1460 non-null   int64  \n",
                        " 50  HalfBath       1460 non-null   int64  \n",
                        " 51  BedroomAbvGr   1460 non-null   int64  \n",
                        " 52  KitchenAbvGr   1460 non-null   int64  \n",
                        " 53  KitchenQual    1460 non-null   object \n",
                        " 54  TotRmsAbvGrd   1460 non-null   int64  \n",
                        " 55  Functional     1460 non-null   object \n",
                        " 56  Fireplaces     1460 non-null   int64  \n",
                        " 57  FireplaceQu    770 non-null    object \n",
                        " 58  GarageType     1379 non-null   object \n",
                        " 59  GarageYrBlt    1379 non-null   float64\n",
                        " 60  GarageFinish   1379 non-null   object \n",
                        " 61  GarageCars     1460 non-null   int64  \n",
                        " 62  GarageArea     1460 non-null   int64  \n",
                        " 63  GarageQual     1379 non-null   object \n",
                        " 64  GarageCond     1379 non-null   object \n",
                        " 65  PavedDrive     1460 non-null   object \n",
                        " 66  WoodDeckSF     1460 non-null   int64  \n",
                        " 67  OpenPorchSF    1460 non-null   int64  \n",
                        " 68  EnclosedPorch  1460 non-null   int64  \n",
                        " 69  3SsnPorch      1460 non-null   int64  \n",
                        " 70  ScreenPorch    1460 non-null   int64  \n",
                        " 71  PoolArea       1460 non-null   int64  \n",
                        " 72  PoolQC         7 non-null      object \n",
                        " 73  Fence          281 non-null    object \n",
                        " 74  MiscFeature    54 non-null     object \n",
                        " 75  MiscVal        1460 non-null   int64  \n",
                        " 76  MoSold         1460 non-null   int64  \n",
                        " 77  YrSold         1460 non-null   int64  \n",
                        " 78  SaleType       1460 non-null   object \n",
                        " 79  SaleCondition  1460 non-null   object \n",
                        " 80  SalePrice      1460 non-null   int64  \n",
                        "dtypes: float64(3), int64(35), object(43)\n",
                        "memory usage: 924.0+ KB\n"
                    ]
                },
                {
                    "data": {
                        "text/plain": [
                            "None"
                        ]
                    },
                    "metadata": {},
                    "output_type": "display_data"
                },
                {
                    "data": {
                        "text/html": [
                            "<div>\n",
                            "<style scoped>\n",
                            "    .dataframe tbody tr th:only-of-type {\n",
                            "        vertical-align: middle;\n",
                            "    }\n",
                            "\n",
                            "    .dataframe tbody tr th {\n",
                            "        vertical-align: top;\n",
                            "    }\n",
                            "\n",
                            "    .dataframe thead th {\n",
                            "        text-align: right;\n",
                            "    }\n",
                            "</style>\n",
                            "<table border=\"1\" class=\"dataframe\">\n",
                            "  <thead>\n",
                            "    <tr style=\"text-align: right;\">\n",
                            "      <th></th>\n",
                            "      <th>Id</th>\n",
                            "      <th>MSSubClass</th>\n",
                            "      <th>MSZoning</th>\n",
                            "      <th>LotFrontage</th>\n",
                            "      <th>LotArea</th>\n",
                            "      <th>Street</th>\n",
                            "      <th>Alley</th>\n",
                            "      <th>LotShape</th>\n",
                            "      <th>LandContour</th>\n",
                            "      <th>Utilities</th>\n",
                            "      <th>...</th>\n",
                            "      <th>PoolArea</th>\n",
                            "      <th>PoolQC</th>\n",
                            "      <th>Fence</th>\n",
                            "      <th>MiscFeature</th>\n",
                            "      <th>MiscVal</th>\n",
                            "      <th>MoSold</th>\n",
                            "      <th>YrSold</th>\n",
                            "      <th>SaleType</th>\n",
                            "      <th>SaleCondition</th>\n",
                            "      <th>SalePrice</th>\n",
                            "    </tr>\n",
                            "  </thead>\n",
                            "  <tbody>\n",
                            "    <tr>\n",
                            "      <th>0</th>\n",
                            "      <td>1</td>\n",
                            "      <td>60</td>\n",
                            "      <td>RL</td>\n",
                            "      <td>65.0</td>\n",
                            "      <td>8450</td>\n",
                            "      <td>Pave</td>\n",
                            "      <td>NaN</td>\n",
                            "      <td>Reg</td>\n",
                            "      <td>Lvl</td>\n",
                            "      <td>AllPub</td>\n",
                            "      <td>...</td>\n",
                            "      <td>0</td>\n",
                            "      <td>NaN</td>\n",
                            "      <td>NaN</td>\n",
                            "      <td>NaN</td>\n",
                            "      <td>0</td>\n",
                            "      <td>2</td>\n",
                            "      <td>2008</td>\n",
                            "      <td>WD</td>\n",
                            "      <td>Normal</td>\n",
                            "      <td>208500</td>\n",
                            "    </tr>\n",
                            "    <tr>\n",
                            "      <th>1</th>\n",
                            "      <td>2</td>\n",
                            "      <td>20</td>\n",
                            "      <td>RL</td>\n",
                            "      <td>80.0</td>\n",
                            "      <td>9600</td>\n",
                            "      <td>Pave</td>\n",
                            "      <td>NaN</td>\n",
                            "      <td>Reg</td>\n",
                            "      <td>Lvl</td>\n",
                            "      <td>AllPub</td>\n",
                            "      <td>...</td>\n",
                            "      <td>0</td>\n",
                            "      <td>NaN</td>\n",
                            "      <td>NaN</td>\n",
                            "      <td>NaN</td>\n",
                            "      <td>0</td>\n",
                            "      <td>5</td>\n",
                            "      <td>2007</td>\n",
                            "      <td>WD</td>\n",
                            "      <td>Normal</td>\n",
                            "      <td>181500</td>\n",
                            "    </tr>\n",
                            "    <tr>\n",
                            "      <th>2</th>\n",
                            "      <td>3</td>\n",
                            "      <td>60</td>\n",
                            "      <td>RL</td>\n",
                            "      <td>68.0</td>\n",
                            "      <td>11250</td>\n",
                            "      <td>Pave</td>\n",
                            "      <td>NaN</td>\n",
                            "      <td>IR1</td>\n",
                            "      <td>Lvl</td>\n",
                            "      <td>AllPub</td>\n",
                            "      <td>...</td>\n",
                            "      <td>0</td>\n",
                            "      <td>NaN</td>\n",
                            "      <td>NaN</td>\n",
                            "      <td>NaN</td>\n",
                            "      <td>0</td>\n",
                            "      <td>9</td>\n",
                            "      <td>2008</td>\n",
                            "      <td>WD</td>\n",
                            "      <td>Normal</td>\n",
                            "      <td>223500</td>\n",
                            "    </tr>\n",
                            "    <tr>\n",
                            "      <th>3</th>\n",
                            "      <td>4</td>\n",
                            "      <td>70</td>\n",
                            "      <td>RL</td>\n",
                            "      <td>60.0</td>\n",
                            "      <td>9550</td>\n",
                            "      <td>Pave</td>\n",
                            "      <td>NaN</td>\n",
                            "      <td>IR1</td>\n",
                            "      <td>Lvl</td>\n",
                            "      <td>AllPub</td>\n",
                            "      <td>...</td>\n",
                            "      <td>0</td>\n",
                            "      <td>NaN</td>\n",
                            "      <td>NaN</td>\n",
                            "      <td>NaN</td>\n",
                            "      <td>0</td>\n",
                            "      <td>2</td>\n",
                            "      <td>2006</td>\n",
                            "      <td>WD</td>\n",
                            "      <td>Abnorml</td>\n",
                            "      <td>140000</td>\n",
                            "    </tr>\n",
                            "    <tr>\n",
                            "      <th>4</th>\n",
                            "      <td>5</td>\n",
                            "      <td>60</td>\n",
                            "      <td>RL</td>\n",
                            "      <td>84.0</td>\n",
                            "      <td>14260</td>\n",
                            "      <td>Pave</td>\n",
                            "      <td>NaN</td>\n",
                            "      <td>IR1</td>\n",
                            "      <td>Lvl</td>\n",
                            "      <td>AllPub</td>\n",
                            "      <td>...</td>\n",
                            "      <td>0</td>\n",
                            "      <td>NaN</td>\n",
                            "      <td>NaN</td>\n",
                            "      <td>NaN</td>\n",
                            "      <td>0</td>\n",
                            "      <td>12</td>\n",
                            "      <td>2008</td>\n",
                            "      <td>WD</td>\n",
                            "      <td>Normal</td>\n",
                            "      <td>250000</td>\n",
                            "    </tr>\n",
                            "  </tbody>\n",
                            "</table>\n",
                            "<p>5 rows × 81 columns</p>\n",
                            "</div>"
                        ],
                        "text/plain": [
                            "   Id  MSSubClass MSZoning  LotFrontage  LotArea Street Alley LotShape  \\\n",
                            "0   1          60       RL         65.0     8450   Pave   NaN      Reg   \n",
                            "1   2          20       RL         80.0     9600   Pave   NaN      Reg   \n",
                            "2   3          60       RL         68.0    11250   Pave   NaN      IR1   \n",
                            "3   4          70       RL         60.0     9550   Pave   NaN      IR1   \n",
                            "4   5          60       RL         84.0    14260   Pave   NaN      IR1   \n",
                            "\n",
                            "  LandContour Utilities  ... PoolArea PoolQC Fence MiscFeature MiscVal MoSold  \\\n",
                            "0         Lvl    AllPub  ...        0    NaN   NaN         NaN       0      2   \n",
                            "1         Lvl    AllPub  ...        0    NaN   NaN         NaN       0      5   \n",
                            "2         Lvl    AllPub  ...        0    NaN   NaN         NaN       0      9   \n",
                            "3         Lvl    AllPub  ...        0    NaN   NaN         NaN       0      2   \n",
                            "4         Lvl    AllPub  ...        0    NaN   NaN         NaN       0     12   \n",
                            "\n",
                            "  YrSold  SaleType  SaleCondition  SalePrice  \n",
                            "0   2008        WD         Normal     208500  \n",
                            "1   2007        WD         Normal     181500  \n",
                            "2   2008        WD         Normal     223500  \n",
                            "3   2006        WD        Abnorml     140000  \n",
                            "4   2008        WD         Normal     250000  \n",
                            "\n",
                            "[5 rows x 81 columns]"
                        ]
                    },
                    "metadata": {},
                    "output_type": "display_data"
                }
            ],
            "source": [
                "housing_train = load_table_csv('/Users/stevep/Documents/code/APE_thesis/ape-thesis/usecases/house_prices/train.csv')"
            ]
        },
        {
            "attachments": {},
            "cell_type": "markdown",
            "metadata": {},
            "source": [
                "### Step 1: `jointplot`\n",
                "#### Notes\n",
                "> kwarg `hue` should be column with few features.\n",
                "#### inputs:\n",
                "- 1\n",
                "\t- DataClass: `MixedDataFrame`\n",
                "\t- StatisticalRelevance: `NoRelevance`\n",
                "\t- APE_label: `['housing_train']`\n",
                "\t- src: `(0, 11)`\n",
                "- 2\n",
                "\t- DataClass: `IntColumn`\n",
                "\t- StatisticalRelevance: `IndependentVariable`\n",
                "\t- APE_label: `['GarageArea']`\n",
                "\t- src: `(0, 8)`\n",
                "- 3\n",
                "\t- DataClass: `IntColumn`\n",
                "\t- StatisticalRelevance: `DependentVariable`\n",
                "\t- APE_label: `['SalePrice']`\n",
                "\t- src: `(0, 9)`\n",
                "#### outputs:\n",
                "- 1\n",
                "\t- DataClass: `Figure`\n",
                "\t- StatisticalRelevance: `NoRelevance`"
            ]
        },
        {
            "cell_type": "code",
            "execution_count": 3,
            "metadata": {},
            "outputs": [
                {
                    "data": {
                        "image/png": "[encoded data removed]",
                        "text/plain": [
                            "<Figure size 600x600 with 3 Axes>"
                        ]
                    },
                    "metadata": {},
                    "output_type": "display_data"
                }
            ],
            "source": [
                "figure_1_1 = jointplot(df=housing_train, x='GarageArea', y='SalePrice')"
            ]
        },
        {
            "attachments": {},
            "cell_type": "markdown",
            "metadata": {},
            "source": [
                "### Step 2: `skew`\n",
                "#### Notes\n",
                "Skew of numeric column or series.\n",
                "    \n",
                "#### inputs:\n",
                "- 1\n",
                "\t- DataClass: `MixedDataFrame`\n",
                "\t- StatisticalRelevance: `NoRelevance`\n",
                "\t- APE_label: `['housing_train']`\n",
                "\t- src: `(0, 11)`\n",
                "- 2\n",
                "\t- DataClass: `IntColumn`\n",
                "\t- StatisticalRelevance: `DependentVariable`\n",
                "\t- APE_label: `['SalePrice']`\n",
                "\t- src: `(0, 9)`\n",
                "#### outputs:\n",
                "- 1\n",
                "\t- DataClass: `Float`\n",
                "\t- StatisticalRelevance: `NoRelevance`"
            ]
        },
        {
            "cell_type": "code",
            "execution_count": 4,
            "metadata": {},
            "outputs": [
                {
                    "data": {
                        "text/plain": [
                            "1.8828757597682129"
                        ]
                    },
                    "metadata": {},
                    "output_type": "display_data"
                }
            ],
            "source": [
                "float_2_1 = skew(data=housing_train, col='SalePrice')"
            ]
        },
        {
            "attachments": {},
            "cell_type": "markdown",
            "metadata": {},
            "source": [
                "### Step 3: `kurt`\n",
                "#### Notes\n",
                "Kurtosis of numeric column or series.\n",
                "    \n",
                "#### inputs:\n",
                "- 1\n",
                "\t- DataClass: `MixedDataFrame`\n",
                "\t- StatisticalRelevance: `NoRelevance`\n",
                "\t- APE_label: `['housing_train']`\n",
                "\t- src: `(0, 11)`\n",
                "- 2\n",
                "\t- DataClass: `IntColumn`\n",
                "\t- StatisticalRelevance: `DependentVariable`\n",
                "\t- APE_label: `['SalePrice']`\n",
                "\t- src: `(0, 9)`\n",
                "#### outputs:\n",
                "- 1\n",
                "\t- DataClass: `Float`\n",
                "\t- StatisticalRelevance: `NoRelevance`"
            ]
        },
        {
            "cell_type": "code",
            "execution_count": 5,
            "metadata": {},
            "outputs": [
                {
                    "data": {
                        "text/plain": [
                            "6.536281860064529"
                        ]
                    },
                    "metadata": {},
                    "output_type": "display_data"
                }
            ],
            "source": [
                "float_3_1 = kurt(data=housing_train, col='SalePrice')"
            ]
        },
        {
            "attachments": {},
            "cell_type": "markdown",
            "metadata": {},
            "source": [
                "### Step 4: `describe`\n",
                "#### Notes\n",
                "Descriptive statistics for a `Series`, `DataFrame` or `DataFrame[Column]`.\n",
                "\n",
                "    Args:\n",
                "        data (pd.DataFrame | pd.Series): Some tabular data.\n",
                "        col (Optional[str], optional): Column of table. Defaults to `None`.\n",
                "\n",
                "    Returns:\n",
                "        pd.DataFrame | pd.Series: `Dataframe` if data is a `Series` or no column was given, else `Series`.\n",
                "    \n",
                "#### inputs:\n",
                "- 1\n",
                "\t- DataClass: `MixedDataFrame`\n",
                "\t- StatisticalRelevance: `NoRelevance`\n",
                "\t- APE_label: `['housing_train']`\n",
                "\t- src: `(0, 11)`\n",
                "- 2\n",
                "\t- DataClass: `IntColumn`\n",
                "\t- StatisticalRelevance: `IndependentVariable`\n",
                "\t- APE_label: `['GarageCars']`\n",
                "\t- src: `(0, 7)`\n",
                "#### outputs:\n",
                "- 1\n",
                "\t- DataClass: `DescribeSeries`\n",
                "\t- StatisticalRelevance: `NoRelevance`"
            ]
        },
        {
            "cell_type": "code",
            "execution_count": 6,
            "metadata": {},
            "outputs": [
                {
                    "data": {
                        "text/plain": [
                            "count    1460.000000\n",
                            "mean        1.767123\n",
                            "std         0.747315\n",
                            "min         0.000000\n",
                            "25%         1.000000\n",
                            "50%         2.000000\n",
                            "75%         2.000000\n",
                            "max         4.000000\n",
                            "Name: GarageCars, dtype: float64"
                        ]
                    },
                    "metadata": {},
                    "output_type": "display_data"
                }
            ],
            "source": [
                "describeSeries_4_1 = describe(data=housing_train, col='GarageCars')"
            ]
        }
    ],
    "metadata": {
        "kernelspec": {
            "display_name": "APE",
            "language": "python",
            "name": "python3"
        },
        "language_info": {
            "codemirror_mode": {
                "name": "ipython",
                "version": 3
            },
            "file_extension": ".py",
            "mimetype": "text/x-python",
            "name": "python",
            "nbconvert_exporter": "python",
            "pygments_lexer": "ipython3",
            "version": "3.10.10"
        },
        "orig_nbformat": 4
    },
    "nbformat": 4,
    "nbformat_minor": 2
}
