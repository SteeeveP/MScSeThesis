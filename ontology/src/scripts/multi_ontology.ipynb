{
 "cells": [
  {
   "cell_type": "code",
   "execution_count": 30,
   "metadata": {},
   "outputs": [],
   "source": [
    "from functools import reduce\n",
    "from md_to_json import *"
   ]
  },
  {
   "cell_type": "code",
   "execution_count": 31,
   "metadata": {},
   "outputs": [],
   "source": [
    "TYPE_DIM_FILE_DICT = {\n",
    "    'DataClass': 'data_class_v1.md',\n",
    "    'DataState': 'data_state_v2.md',\n",
    "    'StatisticalRelevance': 'statistical_relevance_v2.md',\n",
    "    'DataSetIndex': 'data_set_index_v2.md',\n",
    "}\n",
    "TOOL_DIM_FILE = 'tools_v2.md'"
   ]
  },
  {
   "cell_type": "code",
   "execution_count": 32,
   "metadata": {},
   "outputs": [
    {
     "name": "stdout",
     "output_type": "stream",
     "text": [
      "Dimensions: 2\n",
      "Type counts: 1155\n",
      "Tool Modes: 1218\n",
      "\n",
      "Tools 117\n"
     ]
    }
   ],
   "source": [
    "for dim_selection in [\n",
    "    ['DataClass'],\n",
    "    ['DataClass', 'StatisticalRelevance'],\n",
    "    ['DataClass', 'StatisticalRelevance', 'DataSetIndex'],\n",
    "    ['DataClass', 'DataState', 'StatisticalRelevance', 'DataSetIndex'],\n",
    "]:\n",
    "    if len(dim_selection) != 2:\n",
    "        continue\n",
    "    type_taxes, term_types, concept_types, object_flag_types, flag_suffix, rel_tuples = get_constants(\n",
    "        dim_selection,\n",
    "        TYPE_DIM_FILE_DICT,\n",
    "    )\n",
    "    tool_tax = read_md_to_dict(TOOL_DIM_FILE)\n",
    "    _, tool_annotations = traverse_tool_tax(tool_tax, dim_selection, object_flag_types, flag_suffix, term_types, type_taxes)\n",
    "    tool_tax = resolve_inheritance(remove_modes_tool_tax(tool_tax))\n",
    "    tool_rel_tuples, _, _ = tax_dict_to_tuples(tool_tax, \"ToolsTaxonomy\")\n",
    "    tool_annotations_to_json(tool_annotations, f'tool_annotations_v2_DIM_{len(dim_selection)}.json')\n",
    "    tuples_to_owl(\n",
    "        [('TypesTaxonomy', dim) for dim in dim_selection]\n",
    "        + list(set().union(*rel_tuples.values())),\n",
    "        list(tool_rel_tuples),\n",
    "        f'ontology_v2_DIM_{len(dim_selection)}.owl',\n",
    "    )\n",
    "    print('Dimensions:', len(dim_selection))\n",
    "    print('Type counts:', reduce(lambda x, y: x*y, [len(term_types[dim])+len(concept_types[dim]) for dim in dim_selection]))\n",
    "    print('Tool Modes:', sum([len(modes) for modes in tool_annotations.values()]))\n",
    "    print()\n",
    "print('Tools', len(tool_annotations))"
   ]
  },
  {
   "cell_type": "code",
   "execution_count": 33,
   "metadata": {},
   "outputs": [
    {
     "name": "stdout",
     "output_type": "stream",
     "text": [
      "DependentVariable',\n",
      "'IndependentVariable',\n",
      "'NoRelevance',\n",
      "'Prediction\n"
     ]
    }
   ],
   "source": [
    "print(\"',\\n'\".join(sorted(list(term_types['StatisticalRelevance']))))"
   ]
  }
 ],
 "metadata": {
  "kernelspec": {
   "display_name": "APE",
   "language": "python",
   "name": "python3"
  },
  "language_info": {
   "codemirror_mode": {
    "name": "ipython",
    "version": 3
   },
   "file_extension": ".py",
   "mimetype": "text/x-python",
   "name": "python",
   "nbconvert_exporter": "python",
   "pygments_lexer": "ipython3",
   "version": "3.10.10"
  },
  "orig_nbformat": 4
 },
 "nbformat": 4,
 "nbformat_minor": 2
}
